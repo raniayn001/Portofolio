{
 "cells": [
  {
   "cell_type": "markdown",
   "id": "54f67f9b",
   "metadata": {},
   "source": [
    "# Import Data"
   ]
  },
  {
   "cell_type": "code",
   "execution_count": 1,
   "id": "eda6e980",
   "metadata": {},
   "outputs": [],
   "source": [
    "import pandas as pd\n",
    "import numpy as np\n",
    "import matplotlib.pyplot as plt\n",
    "import seaborn as sns\n",
    "import statistics as st"
   ]
  },
  {
   "cell_type": "code",
   "execution_count": 2,
   "id": "a94bcf6a",
   "metadata": {},
   "outputs": [
    {
     "data": {
      "text/html": [
       "<div>\n",
       "<style scoped>\n",
       "    .dataframe tbody tr th:only-of-type {\n",
       "        vertical-align: middle;\n",
       "    }\n",
       "\n",
       "    .dataframe tbody tr th {\n",
       "        vertical-align: top;\n",
       "    }\n",
       "\n",
       "    .dataframe thead th {\n",
       "        text-align: right;\n",
       "    }\n",
       "</style>\n",
       "<table border=\"1\" class=\"dataframe\">\n",
       "  <thead>\n",
       "    <tr style=\"text-align: right;\">\n",
       "      <th></th>\n",
       "      <th>aluminium</th>\n",
       "      <th>ammonia</th>\n",
       "      <th>arsenic</th>\n",
       "      <th>barium</th>\n",
       "      <th>cadmium</th>\n",
       "      <th>chloramine</th>\n",
       "      <th>chromium</th>\n",
       "      <th>copper</th>\n",
       "      <th>flouride</th>\n",
       "      <th>bacteria</th>\n",
       "      <th>...</th>\n",
       "      <th>lead</th>\n",
       "      <th>nitrates</th>\n",
       "      <th>nitrites</th>\n",
       "      <th>mercury</th>\n",
       "      <th>perchlorate</th>\n",
       "      <th>radium</th>\n",
       "      <th>selenium</th>\n",
       "      <th>silver</th>\n",
       "      <th>uranium</th>\n",
       "      <th>is_safe</th>\n",
       "    </tr>\n",
       "  </thead>\n",
       "  <tbody>\n",
       "    <tr>\n",
       "      <th>0</th>\n",
       "      <td>1.65</td>\n",
       "      <td>9.08</td>\n",
       "      <td>0.04</td>\n",
       "      <td>2.85</td>\n",
       "      <td>0.007</td>\n",
       "      <td>0.35</td>\n",
       "      <td>0.83</td>\n",
       "      <td>0.17</td>\n",
       "      <td>0.05</td>\n",
       "      <td>0.20</td>\n",
       "      <td>...</td>\n",
       "      <td>0.054</td>\n",
       "      <td>16.08</td>\n",
       "      <td>1.13</td>\n",
       "      <td>0.007</td>\n",
       "      <td>37.75</td>\n",
       "      <td>6.78</td>\n",
       "      <td>0.08</td>\n",
       "      <td>0.34</td>\n",
       "      <td>0.02</td>\n",
       "      <td>1</td>\n",
       "    </tr>\n",
       "    <tr>\n",
       "      <th>1</th>\n",
       "      <td>2.32</td>\n",
       "      <td>21.16</td>\n",
       "      <td>0.01</td>\n",
       "      <td>3.31</td>\n",
       "      <td>0.002</td>\n",
       "      <td>5.28</td>\n",
       "      <td>0.68</td>\n",
       "      <td>0.66</td>\n",
       "      <td>0.90</td>\n",
       "      <td>0.65</td>\n",
       "      <td>...</td>\n",
       "      <td>0.100</td>\n",
       "      <td>2.01</td>\n",
       "      <td>1.93</td>\n",
       "      <td>0.003</td>\n",
       "      <td>32.26</td>\n",
       "      <td>3.21</td>\n",
       "      <td>0.08</td>\n",
       "      <td>0.27</td>\n",
       "      <td>0.05</td>\n",
       "      <td>1</td>\n",
       "    </tr>\n",
       "    <tr>\n",
       "      <th>2</th>\n",
       "      <td>1.01</td>\n",
       "      <td>14.02</td>\n",
       "      <td>0.04</td>\n",
       "      <td>0.58</td>\n",
       "      <td>0.008</td>\n",
       "      <td>4.24</td>\n",
       "      <td>0.53</td>\n",
       "      <td>0.02</td>\n",
       "      <td>0.99</td>\n",
       "      <td>0.05</td>\n",
       "      <td>...</td>\n",
       "      <td>0.078</td>\n",
       "      <td>14.16</td>\n",
       "      <td>1.11</td>\n",
       "      <td>0.006</td>\n",
       "      <td>50.28</td>\n",
       "      <td>7.07</td>\n",
       "      <td>0.07</td>\n",
       "      <td>0.44</td>\n",
       "      <td>0.01</td>\n",
       "      <td>0</td>\n",
       "    </tr>\n",
       "    <tr>\n",
       "      <th>3</th>\n",
       "      <td>1.36</td>\n",
       "      <td>11.33</td>\n",
       "      <td>0.04</td>\n",
       "      <td>2.96</td>\n",
       "      <td>0.001</td>\n",
       "      <td>7.23</td>\n",
       "      <td>0.03</td>\n",
       "      <td>1.66</td>\n",
       "      <td>1.08</td>\n",
       "      <td>0.71</td>\n",
       "      <td>...</td>\n",
       "      <td>0.016</td>\n",
       "      <td>1.41</td>\n",
       "      <td>1.29</td>\n",
       "      <td>0.004</td>\n",
       "      <td>9.12</td>\n",
       "      <td>1.72</td>\n",
       "      <td>0.02</td>\n",
       "      <td>0.45</td>\n",
       "      <td>0.05</td>\n",
       "      <td>1</td>\n",
       "    </tr>\n",
       "    <tr>\n",
       "      <th>4</th>\n",
       "      <td>0.92</td>\n",
       "      <td>24.33</td>\n",
       "      <td>0.03</td>\n",
       "      <td>0.20</td>\n",
       "      <td>0.006</td>\n",
       "      <td>2.67</td>\n",
       "      <td>0.69</td>\n",
       "      <td>0.57</td>\n",
       "      <td>0.61</td>\n",
       "      <td>0.13</td>\n",
       "      <td>...</td>\n",
       "      <td>0.117</td>\n",
       "      <td>6.74</td>\n",
       "      <td>1.11</td>\n",
       "      <td>0.003</td>\n",
       "      <td>16.90</td>\n",
       "      <td>2.41</td>\n",
       "      <td>0.02</td>\n",
       "      <td>0.06</td>\n",
       "      <td>0.02</td>\n",
       "      <td>1</td>\n",
       "    </tr>\n",
       "  </tbody>\n",
       "</table>\n",
       "<p>5 rows × 21 columns</p>\n",
       "</div>"
      ],
      "text/plain": [
       "   aluminium ammonia  arsenic  barium  cadmium  chloramine  chromium  copper  \\\n",
       "0       1.65    9.08     0.04    2.85    0.007        0.35      0.83    0.17   \n",
       "1       2.32   21.16     0.01    3.31    0.002        5.28      0.68    0.66   \n",
       "2       1.01   14.02     0.04    0.58    0.008        4.24      0.53    0.02   \n",
       "3       1.36   11.33     0.04    2.96    0.001        7.23      0.03    1.66   \n",
       "4       0.92   24.33     0.03    0.20    0.006        2.67      0.69    0.57   \n",
       "\n",
       "   flouride  bacteria  ...   lead  nitrates  nitrites  mercury  perchlorate  \\\n",
       "0      0.05      0.20  ...  0.054     16.08      1.13    0.007        37.75   \n",
       "1      0.90      0.65  ...  0.100      2.01      1.93    0.003        32.26   \n",
       "2      0.99      0.05  ...  0.078     14.16      1.11    0.006        50.28   \n",
       "3      1.08      0.71  ...  0.016      1.41      1.29    0.004         9.12   \n",
       "4      0.61      0.13  ...  0.117      6.74      1.11    0.003        16.90   \n",
       "\n",
       "   radium  selenium  silver  uranium  is_safe  \n",
       "0    6.78      0.08    0.34     0.02        1  \n",
       "1    3.21      0.08    0.27     0.05        1  \n",
       "2    7.07      0.07    0.44     0.01        0  \n",
       "3    1.72      0.02    0.45     0.05        1  \n",
       "4    2.41      0.02    0.06     0.02        1  \n",
       "\n",
       "[5 rows x 21 columns]"
      ]
     },
     "execution_count": 2,
     "metadata": {},
     "output_type": "execute_result"
    }
   ],
   "source": [
    "dt=pd.read_csv(\"C:/Users/Rania Yunaningrum/Downloads/waterQuality1 (1).csv\",sep=',')\n",
    "dt.head(5)"
   ]
  },
  {
   "cell_type": "markdown",
   "id": "efd5dfd8",
   "metadata": {},
   "source": [
    "# Pemeriksaan Tipe Data"
   ]
  },
  {
   "cell_type": "markdown",
   "id": "9de90d3d",
   "metadata": {},
   "source": [
    "### Dimensi/Ukuran Data"
   ]
  },
  {
   "cell_type": "code",
   "execution_count": 3,
   "id": "727eb55f",
   "metadata": {},
   "outputs": [
    {
     "data": {
      "text/plain": [
       "(7999, 21)"
      ]
     },
     "execution_count": 3,
     "metadata": {},
     "output_type": "execute_result"
    }
   ],
   "source": [
    "dt.shape #data terdiri dari 7999 baris dan 21 kolom"
   ]
  },
  {
   "cell_type": "markdown",
   "id": "3d5f5713",
   "metadata": {},
   "source": [
    "### Tipe Data"
   ]
  },
  {
   "cell_type": "code",
   "execution_count": 4,
   "id": "7838bbfd",
   "metadata": {},
   "outputs": [
    {
     "data": {
      "text/plain": [
       "aluminium      float64\n",
       "ammonia         object\n",
       "arsenic        float64\n",
       "barium         float64\n",
       "cadmium        float64\n",
       "chloramine     float64\n",
       "chromium       float64\n",
       "copper         float64\n",
       "flouride       float64\n",
       "bacteria       float64\n",
       "viruses        float64\n",
       "lead           float64\n",
       "nitrates       float64\n",
       "nitrites       float64\n",
       "mercury        float64\n",
       "perchlorate    float64\n",
       "radium         float64\n",
       "selenium       float64\n",
       "silver         float64\n",
       "uranium        float64\n",
       "is_safe         object\n",
       "dtype: object"
      ]
     },
     "execution_count": 4,
     "metadata": {},
     "output_type": "execute_result"
    }
   ],
   "source": [
    "dt.dtypes\n",
    "#Variabel amonnia dan is_safe memiliki tipe data yang kurang sesuai"
   ]
  },
  {
   "cell_type": "markdown",
   "id": "da525877",
   "metadata": {},
   "source": [
    "### Ubah Tipe Data"
   ]
  },
  {
   "cell_type": "code",
   "execution_count": 5,
   "id": "c3865dc3",
   "metadata": {},
   "outputs": [],
   "source": [
    "dt.ammonia = dt.ammonia.astype('float64',errors='ignore')\n",
    "dt.is_safe = dt.is_safe.astype('int64',errors='ignore')"
   ]
  },
  {
   "cell_type": "code",
   "execution_count": 6,
   "id": "86c1930f",
   "metadata": {},
   "outputs": [
    {
     "data": {
      "text/plain": [
       "0        7084\n",
       "1         912\n",
       "#NUM!       3\n",
       "Name: is_safe, dtype: int64"
      ]
     },
     "execution_count": 6,
     "metadata": {},
     "output_type": "execute_result"
    }
   ],
   "source": [
    "dt.is_safe.value_counts()"
   ]
  },
  {
   "cell_type": "markdown",
   "id": "9f96f816",
   "metadata": {},
   "source": [
    "# Cleaning Data"
   ]
  },
  {
   "cell_type": "markdown",
   "id": "5d6b77eb",
   "metadata": {},
   "source": [
    "### Pengecekan Data Duplikat"
   ]
  },
  {
   "cell_type": "code",
   "execution_count": 7,
   "id": "119b48bb",
   "metadata": {},
   "outputs": [
    {
     "data": {
      "text/plain": [
       "0"
      ]
     },
     "execution_count": 7,
     "metadata": {},
     "output_type": "execute_result"
    }
   ],
   "source": [
    "#Cek Baris yang Merupakan Data Duplikat\n",
    "dt[dt.duplicated()]\n",
    "\n",
    "#Hitung Data Duplikat\n",
    "dt.duplicated().sum()"
   ]
  },
  {
   "cell_type": "markdown",
   "id": "06ceb03e",
   "metadata": {},
   "source": [
    "### Pengecekan Data Missing Value"
   ]
  },
  {
   "cell_type": "code",
   "execution_count": 8,
   "id": "43556116",
   "metadata": {},
   "outputs": [
    {
     "data": {
      "text/plain": [
       "aluminium      0\n",
       "ammonia        0\n",
       "arsenic        0\n",
       "barium         0\n",
       "cadmium        0\n",
       "chloramine     0\n",
       "chromium       0\n",
       "copper         0\n",
       "flouride       0\n",
       "bacteria       0\n",
       "viruses        0\n",
       "lead           0\n",
       "nitrates       0\n",
       "nitrites       0\n",
       "mercury        0\n",
       "perchlorate    0\n",
       "radium         0\n",
       "selenium       0\n",
       "silver         0\n",
       "uranium        0\n",
       "is_safe        0\n",
       "dtype: int64"
      ]
     },
     "execution_count": 8,
     "metadata": {},
     "output_type": "execute_result"
    }
   ],
   "source": [
    "#Pengecekan Data NA di semua kolom\n",
    "dt.isna().sum()"
   ]
  },
  {
   "cell_type": "code",
   "execution_count": 9,
   "id": "d79d5366",
   "metadata": {},
   "outputs": [
    {
     "data": {
      "text/plain": [
       "aluminium        0.0\n",
       "ammonia        #NUM!\n",
       "arsenic          0.0\n",
       "barium           0.0\n",
       "cadmium          0.0\n",
       "chloramine       0.0\n",
       "chromium         0.0\n",
       "copper           0.0\n",
       "flouride         0.0\n",
       "bacteria         0.0\n",
       "viruses          0.0\n",
       "lead             0.0\n",
       "nitrates         0.0\n",
       "nitrites         0.0\n",
       "mercury          0.0\n",
       "perchlorate      0.0\n",
       "radium           0.0\n",
       "selenium         0.0\n",
       "silver           0.0\n",
       "uranium          0.0\n",
       "is_safe        #NUM!\n",
       "dtype: object"
      ]
     },
     "execution_count": 9,
     "metadata": {},
     "output_type": "execute_result"
    }
   ],
   "source": [
    "#Pengecekan Nilai Minimal Data\n",
    "dt.min()"
   ]
  },
  {
   "cell_type": "code",
   "execution_count": 10,
   "id": "33e6d563",
   "metadata": {},
   "outputs": [
    {
     "data": {
      "text/plain": [
       "aluminium       5.05\n",
       "ammonia         9.99\n",
       "arsenic         1.05\n",
       "barium          4.94\n",
       "cadmium         0.13\n",
       "chloramine      8.68\n",
       "chromium         0.9\n",
       "copper           2.0\n",
       "flouride         1.5\n",
       "bacteria         1.0\n",
       "viruses          1.0\n",
       "lead             0.2\n",
       "nitrates       19.83\n",
       "nitrites        2.93\n",
       "mercury         0.01\n",
       "perchlorate    60.01\n",
       "radium          7.99\n",
       "selenium         0.1\n",
       "silver           0.5\n",
       "uranium         0.09\n",
       "is_safe            1\n",
       "dtype: object"
      ]
     },
     "execution_count": 10,
     "metadata": {},
     "output_type": "execute_result"
    }
   ],
   "source": [
    "#Pengecekan Nilai Minimal Data\n",
    "dt.max()"
   ]
  },
  {
   "cell_type": "code",
   "execution_count": 11,
   "id": "8e0c022d",
   "metadata": {},
   "outputs": [
    {
     "data": {
      "text/plain": [
       "0"
      ]
     },
     "execution_count": 11,
     "metadata": {},
     "output_type": "execute_result"
    }
   ],
   "source": [
    "#Imputasi Data NA Variabel Ammonia\n",
    "dta=dt[dt['ammonia']!='#NUM!']\n",
    "meda=dta.ammonia.median() #menghitung nilai median amonia tanpa #NUM!\n",
    "meda\n",
    "\n",
    "#Mengisi data missing value variabel ammonia (replace value)\n",
    "dt['ammonia'] = dt['ammonia'].replace(['#NUM!'], meda)\n",
    "len(dt[dt['ammonia']=='#NUM!']) #cek kolom bernilai #NUM!"
   ]
  },
  {
   "cell_type": "code",
   "execution_count": 12,
   "id": "db8d818c",
   "metadata": {},
   "outputs": [
    {
     "name": "stdout",
     "output_type": "stream",
     "text": [
      "terdapat  5  parameter kualitas air yang tidak terpenuhi pada data baris ke- 7551\n",
      "terdapat  6  parameter kualitas air yang tidak terpenuhi pada data baris ke- 7568\n",
      "terdapat  6  parameter kualitas air yang tidak terpenuhi pada data baris ke- 7890\n"
     ]
    }
   ],
   "source": [
    "#Mengecek parameter aluminium, ammonia, barium hingga uranium yang tidak sesuai dengan batas rekomendasi air layak minum\n",
    "for x in range(0, 7999):\n",
    "    if dt.iloc[x,20]==\"#NUM!\":\n",
    "        if dt.iloc[x].aluminium > 2.8: cal=1\n",
    "        else: cal=0\n",
    "        if dt.iloc[x].ammonia > 32.5: cam=1\n",
    "        else: cam=0\n",
    "        if dt.iloc[x].arsenic > 0.01: car=1\n",
    "        else: car=0\n",
    "        if dt.iloc[x].barium > 2: cbar=1\n",
    "        else: cbar=0\n",
    "        if dt.iloc[x].cadmium > 0.005: ccad=1\n",
    "        else: ccad=0\n",
    "        if dt.iloc[x].chloramine > 4: cchlo=1\n",
    "        else: cchlo=0\n",
    "        if dt.iloc[x].chromium > 0.1: cchro=1\n",
    "        else: cchro=0\n",
    "        if dt.iloc[x].copper > 1.3: ccop=1\n",
    "        else: ccop=0\n",
    "        if dt.iloc[x].flouride > 1.5: cflo=1\n",
    "        else: cflo=0\n",
    "        if dt.iloc[x].bacteria > 0: cbac=1\n",
    "        else: cbac=0\n",
    "        if dt.iloc[x].viruses > 0: cvir=1\n",
    "        else: cvir=0\n",
    "        if dt.iloc[x].lead > 0.015: clead=1\n",
    "        else: clead=0\n",
    "        if dt.iloc[x].nitrates > 10: cnta=1\n",
    "        else: cnta=0\n",
    "        if dt.iloc[x].nitrites > 1: cnti=1\n",
    "        else: cnti=0\n",
    "        if dt.iloc[x].mercury > 0.002: cmer=1\n",
    "        else: cmer=0\n",
    "        if dt.iloc[x].perchlorate > 56: cpc=1\n",
    "        else: cpc=0\n",
    "        if dt.iloc[x].radium > 5: crad=1\n",
    "        else: crad=0\n",
    "        if dt.iloc[x].selenium > 0.5: csel=1\n",
    "        else: csel=0\n",
    "        if dt.iloc[x].silver > 0.1: csil=1\n",
    "        else: csil=0\n",
    "        if dt.iloc[x].uranium > 0.3: cur=1\n",
    "        else: cur=0\n",
    "            \n",
    "        #menghitung banyaknya parameter kualitas air minum yang tidak sesuai (melebihi maksimum batas rekomendasi)\n",
    "        c = cal + cam + car + cbar + ccad + cchlo + cchro + ccop + cflo + cbac + cvir + clead + cnta + cnti + cmer + cpc + crad + csel + csil + cur \n",
    "        print(\"terdapat \",c,\" parameter kualitas air yang tidak terpenuhi pada data baris ke-\", x)\n",
    "        pv=(c/21)*100 #presentase parameter yang tidak sesuai\n",
    "        if pv > 50 : dt.iloc[x,20]=dt.iloc[x,20].replace(\"#NUM!\",'0') #jika banyak parameter yang tidak memenuhi besarnya >50%, maka dikatakan tidak layak minum (0)\n",
    "        else :dt.iloc[x,20]=dt.iloc[x,20].replace(\"#NUM!\",'1') #jika banyak parameter yang tidak memenuhi besarnya <50%, maka dikatakan layak minum (1)"
   ]
  },
  {
   "cell_type": "code",
   "execution_count": 13,
   "id": "b2f20fa1",
   "metadata": {},
   "outputs": [
    {
     "data": {
      "text/plain": [
       "0    7084\n",
       "1     915\n",
       "Name: is_safe, dtype: int64"
      ]
     },
     "execution_count": 13,
     "metadata": {},
     "output_type": "execute_result"
    }
   ],
   "source": [
    "dt.is_safe.value_counts() #cek apakah imputasi berhasil"
   ]
  },
  {
   "cell_type": "markdown",
   "id": "526f3977",
   "metadata": {},
   "source": [
    "### Ubah Tipe Data Kembali"
   ]
  },
  {
   "cell_type": "code",
   "execution_count": 14,
   "id": "277113ff",
   "metadata": {},
   "outputs": [
    {
     "data": {
      "text/plain": [
       "aluminium      float64\n",
       "ammonia         object\n",
       "arsenic        float64\n",
       "barium         float64\n",
       "cadmium        float64\n",
       "chloramine     float64\n",
       "chromium       float64\n",
       "copper         float64\n",
       "flouride       float64\n",
       "bacteria       float64\n",
       "viruses        float64\n",
       "lead           float64\n",
       "nitrates       float64\n",
       "nitrites       float64\n",
       "mercury        float64\n",
       "perchlorate    float64\n",
       "radium         float64\n",
       "selenium       float64\n",
       "silver         float64\n",
       "uranium        float64\n",
       "is_safe         object\n",
       "dtype: object"
      ]
     },
     "execution_count": 14,
     "metadata": {},
     "output_type": "execute_result"
    }
   ],
   "source": [
    "dt.dtypes #cek tipe data dt"
   ]
  },
  {
   "cell_type": "code",
   "execution_count": 15,
   "id": "ce2ca1c4",
   "metadata": {},
   "outputs": [
    {
     "data": {
      "text/plain": [
       "aluminium      float64\n",
       "ammonia        float64\n",
       "arsenic        float64\n",
       "barium         float64\n",
       "cadmium        float64\n",
       "chloramine     float64\n",
       "chromium       float64\n",
       "copper         float64\n",
       "flouride       float64\n",
       "bacteria       float64\n",
       "viruses        float64\n",
       "lead           float64\n",
       "nitrates       float64\n",
       "nitrites       float64\n",
       "mercury        float64\n",
       "perchlorate    float64\n",
       "radium         float64\n",
       "selenium       float64\n",
       "silver         float64\n",
       "uranium        float64\n",
       "is_safe          int64\n",
       "dtype: object"
      ]
     },
     "execution_count": 15,
     "metadata": {},
     "output_type": "execute_result"
    }
   ],
   "source": [
    "dt.ammonia = dt.ammonia.astype('float64') #ubah tipe data ammonia\n",
    "dt.is_safe = dt.is_safe.astype('int64') #ubah tipe data is_safe\n",
    "dt.dtypes #terlihat tipe data variabel ammonia dan is_safe sudah sesuai"
   ]
  },
  {
   "cell_type": "code",
   "execution_count": 16,
   "id": "f0db88c5",
   "metadata": {},
   "outputs": [
    {
     "data": {
      "text/plain": [
       "aluminium      0.00\n",
       "ammonia       -0.08\n",
       "arsenic        0.00\n",
       "barium         0.00\n",
       "cadmium        0.00\n",
       "chloramine     0.00\n",
       "chromium       0.00\n",
       "copper         0.00\n",
       "flouride       0.00\n",
       "bacteria       0.00\n",
       "viruses        0.00\n",
       "lead           0.00\n",
       "nitrates       0.00\n",
       "nitrites       0.00\n",
       "mercury        0.00\n",
       "perchlorate    0.00\n",
       "radium         0.00\n",
       "selenium       0.00\n",
       "silver         0.00\n",
       "uranium        0.00\n",
       "is_safe        0.00\n",
       "dtype: float64"
      ]
     },
     "execution_count": 16,
     "metadata": {},
     "output_type": "execute_result"
    }
   ],
   "source": [
    "#Pengecekan Nilai Minimal Data\n",
    "dt.min()"
   ]
  },
  {
   "cell_type": "markdown",
   "id": "a2a4cbf8",
   "metadata": {},
   "source": [
    "### Imputasi Nilai Ammonia Negatif"
   ]
  },
  {
   "cell_type": "code",
   "execution_count": 17,
   "id": "c072e8d1",
   "metadata": {},
   "outputs": [
    {
     "data": {
      "image/png": "[encoded data removed]",
      "text/plain": [
       "<Figure size 640x480 with 1 Axes>"
      ]
     },
     "metadata": {},
     "output_type": "display_data"
    },
    {
     "data": {
      "text/plain": [
       "is_safe\n",
       "0    14.34\n",
       "1    12.52\n",
       "Name: ammonia, dtype: float64"
      ]
     },
     "execution_count": 17,
     "metadata": {},
     "output_type": "execute_result"
    }
   ],
   "source": [
    "#Hubungan variabel ammonium dan is_safe\n",
    "ax=sns.barplot(data=dt, y = \"ammonia\", x = \"is_safe\", estimator = np.median)\n",
    "ax.bar_label(ax.containers[0])\n",
    "plt.title('Nilai Median ammonia Berdasarkan Kategori is_safe')\n",
    "plt.ylabel('median ammonia')\n",
    "plt.show()\n",
    "#Nilai Median Applicant Income by Self_Employed and Education\n",
    "dt.groupby(['is_safe'])['ammonia'].median()"
   ]
  },
  {
   "cell_type": "code",
   "execution_count": 18,
   "id": "0b997e81",
   "metadata": {},
   "outputs": [],
   "source": [
    "#Mengganti data negatif variabel ammonia (replace value)\n",
    "for j in range(0,7999):\n",
    "    if dt.iloc[j,1]<0: #mengganti nilai jika ammonia < 0\n",
    "        if dt.iloc[j,20]==0: #jika variabel indeks 20 (is_safe) = 0, maka nilai ammonia diganti 14,34\n",
    "            dt.iloc[j,1]=14.34\n",
    "        else: #jika variabel indeks 20 (is_safe) = 1, maka nilai ammonia diganti 12,52\n",
    "            dt.iloc[j,1]=12.52"
   ]
  },
  {
   "cell_type": "code",
   "execution_count": 19,
   "id": "daada542",
   "metadata": {},
   "outputs": [
    {
     "data": {
      "text/plain": [
       "0.0"
      ]
     },
     "execution_count": 19,
     "metadata": {},
     "output_type": "execute_result"
    }
   ],
   "source": [
    "#Cek kembali nilai minimum ammonia\n",
    "dt.ammonia.min()"
   ]
  },
  {
   "cell_type": "markdown",
   "id": "79afefab",
   "metadata": {},
   "source": [
    "### Pengecekan Outlier"
   ]
  },
  {
   "cell_type": "code",
   "execution_count": 20,
   "id": "fa3b70b6",
   "metadata": {},
   "outputs": [
    {
     "data": {
      "image/png": "[encoded data removed]",
      "text/plain": [
       "<Figure size 150x300 with 1 Axes>"
      ]
     },
     "metadata": {},
     "output_type": "display_data"
    },
    {
     "data": {
      "image/png": "[encoded data removed]",
      "text/plain": [
       "<Figure size 150x300 with 1 Axes>"
      ]
     },
     "metadata": {},
     "output_type": "display_data"
    },
    {
     "data": {
      "image/png": "[encoded data removed]",
      "text/plain": [
       "<Figure size 150x300 with 1 Axes>"
      ]
     },
     "metadata": {},
     "output_type": "display_data"
    },
    {
     "data": {
      "image/png": "[encoded data removed]",
      "text/plain": [
       "<Figure size 150x300 with 1 Axes>"
      ]
     },
     "metadata": {},
     "output_type": "display_data"
    },
    {
     "data": {
      "image/png": "[encoded data removed]",
      "text/plain": [
       "<Figure size 150x300 with 1 Axes>"
      ]
     },
     "metadata": {},
     "output_type": "display_data"
    },
    {
     "data": {
      "image/png": "[encoded data removed]",
      "text/plain": [
       "<Figure size 150x300 with 1 Axes>"
      ]
     },
     "metadata": {},
     "output_type": "display_data"
    },
    {
     "data": {
      "image/png": "[encoded data removed]",
      "text/plain": [
       "<Figure size 150x300 with 1 Axes>"
      ]
     },
     "metadata": {},
     "output_type": "display_data"
    },
    {
     "data": {
      "image/png": "[encoded data removed]",
      "text/plain": [
       "<Figure size 150x300 with 1 Axes>"
      ]
     },
     "metadata": {},
     "output_type": "display_data"
    },
    {
     "data": {
      "image/png": "[encoded data removed]",
      "text/plain": [
       "<Figure size 150x300 with 1 Axes>"
      ]
     },
     "metadata": {},
     "output_type": "display_data"
    },
    {
     "data": {
      "image/png": "[encoded data removed]",
      "text/plain": [
       "<Figure size 150x300 with 1 Axes>"
      ]
     },
     "metadata": {},
     "output_type": "display_data"
    },
    {
     "data": {
      "image/png": "[encoded data removed]",
      "text/plain": [
       "<Figure size 150x300 with 1 Axes>"
      ]
     },
     "metadata": {},
     "output_type": "display_data"
    },
    {
     "data": {
      "image/png": "[encoded data removed]",
      "text/plain": [
       "<Figure size 150x300 with 1 Axes>"
      ]
     },
     "metadata": {},
     "output_type": "display_data"
    },
    {
     "data": {
      "image/png": "[encoded data removed]",
      "text/plain": [
       "<Figure size 150x300 with 1 Axes>"
      ]
     },
     "metadata": {},
     "output_type": "display_data"
    },
    {
     "data": {
      "image/png": "[encoded data removed]",
      "text/plain": [
       "<Figure size 150x300 with 1 Axes>"
      ]
     },
     "metadata": {},
     "output_type": "display_data"
    },
    {
     "data": {
      "image/png": "[encoded data removed]",
      "text/plain": [
       "<Figure size 150x300 with 1 Axes>"
      ]
     },
     "metadata": {},
     "output_type": "display_data"
    },
    {
     "data": {
      "image/png": "[encoded data removed]",
      "text/plain": [
       "<Figure size 150x300 with 1 Axes>"
      ]
     },
     "metadata": {},
     "output_type": "display_data"
    },
    {
     "data": {
      "image/png": "[encoded data removed]",
      "text/plain": [
       "<Figure size 150x300 with 1 Axes>"
      ]
     },
     "metadata": {},
     "output_type": "display_data"
    },
    {
     "data": {
      "image/png": "[encoded data removed]",
      "text/plain": [
       "<Figure size 150x300 with 1 Axes>"
      ]
     },
     "metadata": {},
     "output_type": "display_data"
    },
    {
     "data": {
      "image/png": "[encoded data removed]",
      "text/plain": [
       "<Figure size 150x300 with 1 Axes>"
      ]
     },
     "metadata": {},
     "output_type": "display_data"
    },
    {
     "data": {
      "image/png": "[encoded data removed]",
      "text/plain": [
       "<Figure size 150x300 with 1 Axes>"
      ]
     },
     "metadata": {},
     "output_type": "display_data"
    }
   ],
   "source": [
    "#Membuat boxplot untuk semua variabel\n",
    "for k in range (0,20):\n",
    "    dp=dt.iloc[:,k]\n",
    "    plt.figure(figsize=(1.5,3))\n",
    "    if k==0:\n",
    "        dp.plot(kind='box',title='Boxplot Aluminium',flierprops={'marker': 'o', 'markersize': 0.5})\n",
    "    elif k==1:\n",
    "        dp.plot(kind='box',title='Boxplot Ammonia',flierprops={'marker': 'o', 'markersize': 0.5})\n",
    "    elif k==2:\n",
    "        dp.plot(kind='box',title='Boxplot Arsenic',flierprops={'marker': 'o', 'markersize': 0.5})\n",
    "    elif k==3:\n",
    "        dp.plot(kind='box',title='Boxplot Barium',flierprops={'marker': 'o', 'markersize': 0.5})\n",
    "    elif k==4:\n",
    "        dp.plot(kind='box',title='Boxplot Cadmium',flierprops={'marker': 'o', 'markersize': 0.5})\n",
    "    elif k==5:\n",
    "        dp.plot(kind='box',title='Boxplot Chloramine',flierprops={'marker': 'o', 'markersize': 0.5})\n",
    "    elif k==6:\n",
    "        dp.plot(kind='box',title='Boxplot Chromium',flierprops={'marker': 'o', 'markersize': 0.5})\n",
    "    elif k==7:\n",
    "        dp.plot(kind='box',title='Boxplot Copper',flierprops={'marker': 'o', 'markersize': 0.5})\n",
    "    elif k==8:\n",
    "        dp.plot(kind='box',title='Boxplot Fluoride',flierprops={'marker': 'o', 'markersize': 0.5})\n",
    "    elif k==9:\n",
    "        dp.plot(kind='box',title='Boxplot Bacteria',flierprops={'marker': 'o', 'markersize': 0.5})\n",
    "    elif k==10:\n",
    "        dp.plot(kind='box',title='Boxplot Viruses',flierprops={'marker': 'o', 'markersize': 0.5})\n",
    "    elif k==11:\n",
    "        dp.plot(kind='box',title='Boxplot Lead',flierprops={'marker': 'o', 'markersize': 0.5})\n",
    "    elif k==12:\n",
    "        dp.plot(kind='box',title='Boxplot Nitrates',flierprops={'marker': 'o', 'markersize': 0.5})\n",
    "    elif k==13:\n",
    "        dp.plot(kind='box',title='Boxplot Nitrites',flierprops={'marker': 'o', 'markersize': 0.5})\n",
    "    elif k==14:\n",
    "        dp.plot(kind='box',title='Boxplot Mercury',flierprops={'marker': 'o', 'markersize': 0.5})\n",
    "    elif k==15:\n",
    "        dp.plot(kind='box',title='Boxplot Perchlorate',flierprops={'marker': 'o', 'markersize': 0.5})\n",
    "    elif k==16:\n",
    "        dp.plot(kind='box',title='Boxplot Radium',flierprops={'marker': 'o', 'markersize': 0.5})\n",
    "    elif k==17:\n",
    "        dp.plot(kind='box',title='Boxplot Selenium',flierprops={'marker': 'o', 'markersize': 0.5})\n",
    "    elif k==18:\n",
    "        dp.plot(kind='box',title='Boxplot Silver',flierprops={'marker': 'o', 'markersize': 0.5})\n",
    "    else:\n",
    "        dp.plot(kind='box',title='Boxplot Uranium',flierprops={'marker': 'o', 'markersize': 0.5})\n",
    "    plt.show()"
   ]
  },
  {
   "cell_type": "markdown",
   "id": "614fb338",
   "metadata": {},
   "source": [
    "### Standarisasi Variabel Aluminium dan Arsenic (Terindikasi Outlier)"
   ]
  },
  {
   "cell_type": "code",
   "execution_count": 21,
   "id": "c82f4f51",
   "metadata": {},
   "outputs": [
    {
     "data": {
      "text/html": [
       "<div>\n",
       "<style scoped>\n",
       "    .dataframe tbody tr th:only-of-type {\n",
       "        vertical-align: middle;\n",
       "    }\n",
       "\n",
       "    .dataframe tbody tr th {\n",
       "        vertical-align: top;\n",
       "    }\n",
       "\n",
       "    .dataframe thead th {\n",
       "        text-align: right;\n",
       "    }\n",
       "</style>\n",
       "<table border=\"1\" class=\"dataframe\">\n",
       "  <thead>\n",
       "    <tr style=\"text-align: right;\">\n",
       "      <th></th>\n",
       "      <th>aluminium</th>\n",
       "      <th>ammonia</th>\n",
       "      <th>arsenic</th>\n",
       "      <th>barium</th>\n",
       "      <th>cadmium</th>\n",
       "      <th>chloramine</th>\n",
       "      <th>chromium</th>\n",
       "      <th>copper</th>\n",
       "      <th>flouride</th>\n",
       "      <th>bacteria</th>\n",
       "      <th>...</th>\n",
       "      <th>nitrites</th>\n",
       "      <th>mercury</th>\n",
       "      <th>perchlorate</th>\n",
       "      <th>radium</th>\n",
       "      <th>selenium</th>\n",
       "      <th>silver</th>\n",
       "      <th>uranium</th>\n",
       "      <th>is_safe</th>\n",
       "      <th>aluminium_zs</th>\n",
       "      <th>arsenic_zs</th>\n",
       "    </tr>\n",
       "  </thead>\n",
       "  <tbody>\n",
       "    <tr>\n",
       "      <th>0</th>\n",
       "      <td>1.65</td>\n",
       "      <td>9.08</td>\n",
       "      <td>0.04</td>\n",
       "      <td>2.85</td>\n",
       "      <td>0.007</td>\n",
       "      <td>0.35</td>\n",
       "      <td>0.83</td>\n",
       "      <td>0.17</td>\n",
       "      <td>0.05</td>\n",
       "      <td>0.20</td>\n",
       "      <td>...</td>\n",
       "      <td>1.13</td>\n",
       "      <td>0.007</td>\n",
       "      <td>37.75</td>\n",
       "      <td>6.78</td>\n",
       "      <td>0.08</td>\n",
       "      <td>0.34</td>\n",
       "      <td>0.02</td>\n",
       "      <td>1</td>\n",
       "      <td>0.777651</td>\n",
       "      <td>-0.480799</td>\n",
       "    </tr>\n",
       "    <tr>\n",
       "      <th>1</th>\n",
       "      <td>2.32</td>\n",
       "      <td>21.16</td>\n",
       "      <td>0.01</td>\n",
       "      <td>3.31</td>\n",
       "      <td>0.002</td>\n",
       "      <td>5.28</td>\n",
       "      <td>0.68</td>\n",
       "      <td>0.66</td>\n",
       "      <td>0.90</td>\n",
       "      <td>0.65</td>\n",
       "      <td>...</td>\n",
       "      <td>1.93</td>\n",
       "      <td>0.003</td>\n",
       "      <td>32.26</td>\n",
       "      <td>3.21</td>\n",
       "      <td>0.08</td>\n",
       "      <td>0.27</td>\n",
       "      <td>0.05</td>\n",
       "      <td>1</td>\n",
       "      <td>1.307235</td>\n",
       "      <td>-0.599568</td>\n",
       "    </tr>\n",
       "    <tr>\n",
       "      <th>2</th>\n",
       "      <td>1.01</td>\n",
       "      <td>14.02</td>\n",
       "      <td>0.04</td>\n",
       "      <td>0.58</td>\n",
       "      <td>0.008</td>\n",
       "      <td>4.24</td>\n",
       "      <td>0.53</td>\n",
       "      <td>0.02</td>\n",
       "      <td>0.99</td>\n",
       "      <td>0.05</td>\n",
       "      <td>...</td>\n",
       "      <td>1.11</td>\n",
       "      <td>0.006</td>\n",
       "      <td>50.28</td>\n",
       "      <td>7.07</td>\n",
       "      <td>0.07</td>\n",
       "      <td>0.44</td>\n",
       "      <td>0.01</td>\n",
       "      <td>0</td>\n",
       "      <td>0.271780</td>\n",
       "      <td>-0.480799</td>\n",
       "    </tr>\n",
       "    <tr>\n",
       "      <th>3</th>\n",
       "      <td>1.36</td>\n",
       "      <td>11.33</td>\n",
       "      <td>0.04</td>\n",
       "      <td>2.96</td>\n",
       "      <td>0.001</td>\n",
       "      <td>7.23</td>\n",
       "      <td>0.03</td>\n",
       "      <td>1.66</td>\n",
       "      <td>1.08</td>\n",
       "      <td>0.71</td>\n",
       "      <td>...</td>\n",
       "      <td>1.29</td>\n",
       "      <td>0.004</td>\n",
       "      <td>9.12</td>\n",
       "      <td>1.72</td>\n",
       "      <td>0.02</td>\n",
       "      <td>0.45</td>\n",
       "      <td>0.05</td>\n",
       "      <td>1</td>\n",
       "      <td>0.548429</td>\n",
       "      <td>-0.480799</td>\n",
       "    </tr>\n",
       "    <tr>\n",
       "      <th>4</th>\n",
       "      <td>0.92</td>\n",
       "      <td>24.33</td>\n",
       "      <td>0.03</td>\n",
       "      <td>0.20</td>\n",
       "      <td>0.006</td>\n",
       "      <td>2.67</td>\n",
       "      <td>0.69</td>\n",
       "      <td>0.57</td>\n",
       "      <td>0.61</td>\n",
       "      <td>0.13</td>\n",
       "      <td>...</td>\n",
       "      <td>1.11</td>\n",
       "      <td>0.003</td>\n",
       "      <td>16.90</td>\n",
       "      <td>2.41</td>\n",
       "      <td>0.02</td>\n",
       "      <td>0.06</td>\n",
       "      <td>0.02</td>\n",
       "      <td>1</td>\n",
       "      <td>0.200642</td>\n",
       "      <td>-0.520389</td>\n",
       "    </tr>\n",
       "    <tr>\n",
       "      <th>5</th>\n",
       "      <td>0.94</td>\n",
       "      <td>14.47</td>\n",
       "      <td>0.03</td>\n",
       "      <td>2.88</td>\n",
       "      <td>0.003</td>\n",
       "      <td>0.80</td>\n",
       "      <td>0.43</td>\n",
       "      <td>1.38</td>\n",
       "      <td>0.11</td>\n",
       "      <td>0.67</td>\n",
       "      <td>...</td>\n",
       "      <td>1.89</td>\n",
       "      <td>0.006</td>\n",
       "      <td>27.17</td>\n",
       "      <td>5.42</td>\n",
       "      <td>0.08</td>\n",
       "      <td>0.19</td>\n",
       "      <td>0.02</td>\n",
       "      <td>1</td>\n",
       "      <td>0.216451</td>\n",
       "      <td>-0.520389</td>\n",
       "    </tr>\n",
       "    <tr>\n",
       "      <th>6</th>\n",
       "      <td>2.36</td>\n",
       "      <td>5.60</td>\n",
       "      <td>0.01</td>\n",
       "      <td>1.35</td>\n",
       "      <td>0.004</td>\n",
       "      <td>1.28</td>\n",
       "      <td>0.62</td>\n",
       "      <td>1.88</td>\n",
       "      <td>0.33</td>\n",
       "      <td>0.13</td>\n",
       "      <td>...</td>\n",
       "      <td>1.78</td>\n",
       "      <td>0.007</td>\n",
       "      <td>45.34</td>\n",
       "      <td>2.84</td>\n",
       "      <td>0.10</td>\n",
       "      <td>0.24</td>\n",
       "      <td>0.08</td>\n",
       "      <td>0</td>\n",
       "      <td>1.338852</td>\n",
       "      <td>-0.599568</td>\n",
       "    </tr>\n",
       "  </tbody>\n",
       "</table>\n",
       "<p>7 rows × 23 columns</p>\n",
       "</div>"
      ],
      "text/plain": [
       "   aluminium  ammonia  arsenic  barium  cadmium  chloramine  chromium  copper  \\\n",
       "0       1.65     9.08     0.04    2.85    0.007        0.35      0.83    0.17   \n",
       "1       2.32    21.16     0.01    3.31    0.002        5.28      0.68    0.66   \n",
       "2       1.01    14.02     0.04    0.58    0.008        4.24      0.53    0.02   \n",
       "3       1.36    11.33     0.04    2.96    0.001        7.23      0.03    1.66   \n",
       "4       0.92    24.33     0.03    0.20    0.006        2.67      0.69    0.57   \n",
       "5       0.94    14.47     0.03    2.88    0.003        0.80      0.43    1.38   \n",
       "6       2.36     5.60     0.01    1.35    0.004        1.28      0.62    1.88   \n",
       "\n",
       "   flouride  bacteria  ...  nitrites  mercury  perchlorate  radium  selenium  \\\n",
       "0      0.05      0.20  ...      1.13    0.007        37.75    6.78      0.08   \n",
       "1      0.90      0.65  ...      1.93    0.003        32.26    3.21      0.08   \n",
       "2      0.99      0.05  ...      1.11    0.006        50.28    7.07      0.07   \n",
       "3      1.08      0.71  ...      1.29    0.004         9.12    1.72      0.02   \n",
       "4      0.61      0.13  ...      1.11    0.003        16.90    2.41      0.02   \n",
       "5      0.11      0.67  ...      1.89    0.006        27.17    5.42      0.08   \n",
       "6      0.33      0.13  ...      1.78    0.007        45.34    2.84      0.10   \n",
       "\n",
       "   silver  uranium  is_safe  aluminium_zs  arsenic_zs  \n",
       "0    0.34     0.02        1      0.777651   -0.480799  \n",
       "1    0.27     0.05        1      1.307235   -0.599568  \n",
       "2    0.44     0.01        0      0.271780   -0.480799  \n",
       "3    0.45     0.05        1      0.548429   -0.480799  \n",
       "4    0.06     0.02        1      0.200642   -0.520389  \n",
       "5    0.19     0.02        1      0.216451   -0.520389  \n",
       "6    0.24     0.08        0      1.338852   -0.599568  \n",
       "\n",
       "[7 rows x 23 columns]"
      ]
     },
     "execution_count": 21,
     "metadata": {},
     "output_type": "execute_result"
    }
   ],
   "source": [
    "# Standarisasi Data menggunakan Z-Score\n",
    "dt['aluminium_zs']=(dt['aluminium']-dt['aluminium'].mean())/dt['aluminium'].std()\n",
    "dt['arsenic_zs']=(dt['arsenic']-dt['arsenic'].mean())/dt['arsenic'].std()\n",
    "\n",
    "dt.head(7)"
   ]
  },
  {
   "cell_type": "markdown",
   "id": "a0dc6c84",
   "metadata": {},
   "source": [
    "# Karakteristik Data"
   ]
  },
  {
   "cell_type": "markdown",
   "id": "d43a6916",
   "metadata": {},
   "source": [
    "### Statistika Deskriptif"
   ]
  },
  {
   "cell_type": "code",
   "execution_count": 22,
   "id": "b9b6b8eb",
   "metadata": {},
   "outputs": [
    {
     "data": {
      "text/html": [
       "<div>\n",
       "<style scoped>\n",
       "    .dataframe tbody tr th:only-of-type {\n",
       "        vertical-align: middle;\n",
       "    }\n",
       "\n",
       "    .dataframe tbody tr th {\n",
       "        vertical-align: top;\n",
       "    }\n",
       "\n",
       "    .dataframe thead th {\n",
       "        text-align: right;\n",
       "    }\n",
       "</style>\n",
       "<table border=\"1\" class=\"dataframe\">\n",
       "  <thead>\n",
       "    <tr style=\"text-align: right;\">\n",
       "      <th></th>\n",
       "      <th>aluminium</th>\n",
       "      <th>ammonia</th>\n",
       "      <th>arsenic</th>\n",
       "      <th>barium</th>\n",
       "      <th>cadmium</th>\n",
       "      <th>chloramine</th>\n",
       "      <th>chromium</th>\n",
       "      <th>copper</th>\n",
       "      <th>flouride</th>\n",
       "      <th>bacteria</th>\n",
       "      <th>viruses</th>\n",
       "      <th>lead</th>\n",
       "      <th>nitrates</th>\n",
       "      <th>nitrites</th>\n",
       "      <th>mercury</th>\n",
       "      <th>perchlorate</th>\n",
       "      <th>radium</th>\n",
       "      <th>selenium</th>\n",
       "      <th>silver</th>\n",
       "      <th>uranium</th>\n",
       "    </tr>\n",
       "  </thead>\n",
       "  <tbody>\n",
       "    <tr>\n",
       "      <th>count</th>\n",
       "      <td>7,999.000</td>\n",
       "      <td>7,999.000</td>\n",
       "      <td>7,999.000</td>\n",
       "      <td>7,999.000</td>\n",
       "      <td>7,999.000</td>\n",
       "      <td>7,999.000</td>\n",
       "      <td>7,999.000</td>\n",
       "      <td>7,999.000</td>\n",
       "      <td>7,999.000</td>\n",
       "      <td>7,999.000</td>\n",
       "      <td>7,999.000</td>\n",
       "      <td>7,999.000</td>\n",
       "      <td>7,999.000</td>\n",
       "      <td>7,999.000</td>\n",
       "      <td>7,999.000</td>\n",
       "      <td>7,999.000</td>\n",
       "      <td>7,999.000</td>\n",
       "      <td>7,999.000</td>\n",
       "      <td>7,999.000</td>\n",
       "      <td>7,999.000</td>\n",
       "    </tr>\n",
       "    <tr>\n",
       "      <th>mean</th>\n",
       "      <td>0.666</td>\n",
       "      <td>14.296</td>\n",
       "      <td>0.161</td>\n",
       "      <td>1.568</td>\n",
       "      <td>0.043</td>\n",
       "      <td>2.177</td>\n",
       "      <td>0.247</td>\n",
       "      <td>0.806</td>\n",
       "      <td>0.772</td>\n",
       "      <td>0.320</td>\n",
       "      <td>0.329</td>\n",
       "      <td>0.099</td>\n",
       "      <td>9.819</td>\n",
       "      <td>1.330</td>\n",
       "      <td>0.005</td>\n",
       "      <td>16.460</td>\n",
       "      <td>2.921</td>\n",
       "      <td>0.050</td>\n",
       "      <td>0.148</td>\n",
       "      <td>0.045</td>\n",
       "    </tr>\n",
       "    <tr>\n",
       "      <th>std</th>\n",
       "      <td>1.265</td>\n",
       "      <td>8.863</td>\n",
       "      <td>0.253</td>\n",
       "      <td>1.216</td>\n",
       "      <td>0.036</td>\n",
       "      <td>2.567</td>\n",
       "      <td>0.271</td>\n",
       "      <td>0.654</td>\n",
       "      <td>0.435</td>\n",
       "      <td>0.329</td>\n",
       "      <td>0.378</td>\n",
       "      <td>0.058</td>\n",
       "      <td>5.541</td>\n",
       "      <td>0.573</td>\n",
       "      <td>0.003</td>\n",
       "      <td>17.687</td>\n",
       "      <td>2.323</td>\n",
       "      <td>0.029</td>\n",
       "      <td>0.144</td>\n",
       "      <td>0.027</td>\n",
       "    </tr>\n",
       "    <tr>\n",
       "      <th>min</th>\n",
       "      <td>0.000</td>\n",
       "      <td>0.000</td>\n",
       "      <td>0.000</td>\n",
       "      <td>0.000</td>\n",
       "      <td>0.000</td>\n",
       "      <td>0.000</td>\n",
       "      <td>0.000</td>\n",
       "      <td>0.000</td>\n",
       "      <td>0.000</td>\n",
       "      <td>0.000</td>\n",
       "      <td>0.000</td>\n",
       "      <td>0.000</td>\n",
       "      <td>0.000</td>\n",
       "      <td>0.000</td>\n",
       "      <td>0.000</td>\n",
       "      <td>0.000</td>\n",
       "      <td>0.000</td>\n",
       "      <td>0.000</td>\n",
       "      <td>0.000</td>\n",
       "      <td>0.000</td>\n",
       "    </tr>\n",
       "    <tr>\n",
       "      <th>25%</th>\n",
       "      <td>0.040</td>\n",
       "      <td>6.600</td>\n",
       "      <td>0.030</td>\n",
       "      <td>0.560</td>\n",
       "      <td>0.008</td>\n",
       "      <td>0.100</td>\n",
       "      <td>0.050</td>\n",
       "      <td>0.090</td>\n",
       "      <td>0.405</td>\n",
       "      <td>0.000</td>\n",
       "      <td>0.002</td>\n",
       "      <td>0.048</td>\n",
       "      <td>5.000</td>\n",
       "      <td>1.000</td>\n",
       "      <td>0.003</td>\n",
       "      <td>2.170</td>\n",
       "      <td>0.820</td>\n",
       "      <td>0.020</td>\n",
       "      <td>0.040</td>\n",
       "      <td>0.020</td>\n",
       "    </tr>\n",
       "    <tr>\n",
       "      <th>50%</th>\n",
       "      <td>0.070</td>\n",
       "      <td>14.160</td>\n",
       "      <td>0.050</td>\n",
       "      <td>1.190</td>\n",
       "      <td>0.040</td>\n",
       "      <td>0.530</td>\n",
       "      <td>0.090</td>\n",
       "      <td>0.750</td>\n",
       "      <td>0.770</td>\n",
       "      <td>0.220</td>\n",
       "      <td>0.008</td>\n",
       "      <td>0.102</td>\n",
       "      <td>9.930</td>\n",
       "      <td>1.420</td>\n",
       "      <td>0.005</td>\n",
       "      <td>7.740</td>\n",
       "      <td>2.410</td>\n",
       "      <td>0.050</td>\n",
       "      <td>0.080</td>\n",
       "      <td>0.050</td>\n",
       "    </tr>\n",
       "    <tr>\n",
       "      <th>75%</th>\n",
       "      <td>0.280</td>\n",
       "      <td>22.130</td>\n",
       "      <td>0.100</td>\n",
       "      <td>2.480</td>\n",
       "      <td>0.070</td>\n",
       "      <td>4.240</td>\n",
       "      <td>0.440</td>\n",
       "      <td>1.390</td>\n",
       "      <td>1.160</td>\n",
       "      <td>0.610</td>\n",
       "      <td>0.700</td>\n",
       "      <td>0.151</td>\n",
       "      <td>14.610</td>\n",
       "      <td>1.760</td>\n",
       "      <td>0.008</td>\n",
       "      <td>29.480</td>\n",
       "      <td>4.670</td>\n",
       "      <td>0.070</td>\n",
       "      <td>0.240</td>\n",
       "      <td>0.070</td>\n",
       "    </tr>\n",
       "    <tr>\n",
       "      <th>max</th>\n",
       "      <td>5.050</td>\n",
       "      <td>29.840</td>\n",
       "      <td>1.050</td>\n",
       "      <td>4.940</td>\n",
       "      <td>0.130</td>\n",
       "      <td>8.680</td>\n",
       "      <td>0.900</td>\n",
       "      <td>2.000</td>\n",
       "      <td>1.500</td>\n",
       "      <td>1.000</td>\n",
       "      <td>1.000</td>\n",
       "      <td>0.200</td>\n",
       "      <td>19.830</td>\n",
       "      <td>2.930</td>\n",
       "      <td>0.010</td>\n",
       "      <td>60.010</td>\n",
       "      <td>7.990</td>\n",
       "      <td>0.100</td>\n",
       "      <td>0.500</td>\n",
       "      <td>0.090</td>\n",
       "    </tr>\n",
       "  </tbody>\n",
       "</table>\n",
       "</div>"
      ],
      "text/plain": [
       "       aluminium    ammonia    arsenic     barium    cadmium chloramine  \\\n",
       "count  7,999.000  7,999.000  7,999.000  7,999.000  7,999.000  7,999.000   \n",
       "mean       0.666     14.296      0.161      1.568      0.043      2.177   \n",
       "std        1.265      8.863      0.253      1.216      0.036      2.567   \n",
       "min        0.000      0.000      0.000      0.000      0.000      0.000   \n",
       "25%        0.040      6.600      0.030      0.560      0.008      0.100   \n",
       "50%        0.070     14.160      0.050      1.190      0.040      0.530   \n",
       "75%        0.280     22.130      0.100      2.480      0.070      4.240   \n",
       "max        5.050     29.840      1.050      4.940      0.130      8.680   \n",
       "\n",
       "        chromium     copper   flouride   bacteria    viruses       lead  \\\n",
       "count  7,999.000  7,999.000  7,999.000  7,999.000  7,999.000  7,999.000   \n",
       "mean       0.247      0.806      0.772      0.320      0.329      0.099   \n",
       "std        0.271      0.654      0.435      0.329      0.378      0.058   \n",
       "min        0.000      0.000      0.000      0.000      0.000      0.000   \n",
       "25%        0.050      0.090      0.405      0.000      0.002      0.048   \n",
       "50%        0.090      0.750      0.770      0.220      0.008      0.102   \n",
       "75%        0.440      1.390      1.160      0.610      0.700      0.151   \n",
       "max        0.900      2.000      1.500      1.000      1.000      0.200   \n",
       "\n",
       "        nitrates   nitrites    mercury perchlorate     radium   selenium  \\\n",
       "count  7,999.000  7,999.000  7,999.000   7,999.000  7,999.000  7,999.000   \n",
       "mean       9.819      1.330      0.005      16.460      2.921      0.050   \n",
       "std        5.541      0.573      0.003      17.687      2.323      0.029   \n",
       "min        0.000      0.000      0.000       0.000      0.000      0.000   \n",
       "25%        5.000      1.000      0.003       2.170      0.820      0.020   \n",
       "50%        9.930      1.420      0.005       7.740      2.410      0.050   \n",
       "75%       14.610      1.760      0.008      29.480      4.670      0.070   \n",
       "max       19.830      2.930      0.010      60.010      7.990      0.100   \n",
       "\n",
       "          silver    uranium  \n",
       "count  7,999.000  7,999.000  \n",
       "mean       0.148      0.045  \n",
       "std        0.144      0.027  \n",
       "min        0.000      0.000  \n",
       "25%        0.040      0.020  \n",
       "50%        0.080      0.050  \n",
       "75%        0.240      0.070  \n",
       "max        0.500      0.090  "
      ]
     },
     "execution_count": 22,
     "metadata": {},
     "output_type": "execute_result"
    }
   ],
   "source": [
    "dt1=dt.iloc[:,0:20] #memilih data numerik\n",
    "dt1.describe().applymap('{:,.3f}'.format) #memunculkan nilai statisika deskriptif"
   ]
  },
  {
   "cell_type": "code",
   "execution_count": 23,
   "id": "ad64bb1f",
   "metadata": {},
   "outputs": [
    {
     "data": {
      "text/plain": [
       "0    7084\n",
       "1     915\n",
       "Name: is_safe, dtype: int64"
      ]
     },
     "execution_count": 23,
     "metadata": {},
     "output_type": "execute_result"
    }
   ],
   "source": [
    "dt.is_safe.value_counts() #statistika deskriptif variabel is_safe"
   ]
  },
  {
   "cell_type": "code",
   "execution_count": 24,
   "id": "b4668175",
   "metadata": {},
   "outputs": [
    {
     "data": {
      "text/plain": [
       "array([[<AxesSubplot:title={'center':'aluminium'}>,\n",
       "        <AxesSubplot:title={'center':'ammonia'}>,\n",
       "        <AxesSubplot:title={'center':'arsenic'}>,\n",
       "        <AxesSubplot:title={'center':'barium'}>],\n",
       "       [<AxesSubplot:title={'center':'cadmium'}>,\n",
       "        <AxesSubplot:title={'center':'chloramine'}>,\n",
       "        <AxesSubplot:title={'center':'chromium'}>,\n",
       "        <AxesSubplot:title={'center':'copper'}>],\n",
       "       [<AxesSubplot:title={'center':'flouride'}>,\n",
       "        <AxesSubplot:title={'center':'bacteria'}>,\n",
       "        <AxesSubplot:title={'center':'viruses'}>,\n",
       "        <AxesSubplot:title={'center':'lead'}>],\n",
       "       [<AxesSubplot:title={'center':'nitrates'}>,\n",
       "        <AxesSubplot:title={'center':'nitrites'}>,\n",
       "        <AxesSubplot:title={'center':'mercury'}>,\n",
       "        <AxesSubplot:title={'center':'perchlorate'}>],\n",
       "       [<AxesSubplot:title={'center':'radium'}>,\n",
       "        <AxesSubplot:title={'center':'selenium'}>,\n",
       "        <AxesSubplot:title={'center':'silver'}>,\n",
       "        <AxesSubplot:title={'center':'uranium'}>]], dtype=object)"
      ]
     },
     "execution_count": 24,
     "metadata": {},
     "output_type": "execute_result"
    },
    {
     "data": {
      "image/png": "[encoded data removed]",
      "text/plain": [
       "<Figure size 1400x1200 with 20 Axes>"
      ]
     },
     "metadata": {},
     "output_type": "display_data"
    }
   ],
   "source": [
    "dt1.hist(figsize=(14, 12),color='#7289da',rwidth=0.95) #plot histogram semua variabel numerik"
   ]
  },
  {
   "cell_type": "markdown",
   "id": "04ccd321",
   "metadata": {},
   "source": [
    "# Feature Selection"
   ]
  },
  {
   "cell_type": "markdown",
   "id": "43ef7bf5",
   "metadata": {},
   "source": [
    "### Metode ANOVA"
   ]
  },
  {
   "cell_type": "code",
   "execution_count": 25,
   "id": "71c383f7",
   "metadata": {},
   "outputs": [],
   "source": [
    "import pandas as pd\n",
    "import numpy as np\n",
    "from sklearn.feature_selection import SelectKBest, f_classif, chi2"
   ]
  },
  {
   "cell_type": "code",
   "execution_count": 26,
   "id": "80a8c8bc",
   "metadata": {},
   "outputs": [
    {
     "name": "stdout",
     "output_type": "stream",
     "text": [
      "   Selected_columns  Score_ANOVA\n",
      "0         aluminium   997.043964\n",
      "4           cadmium   558.060442\n",
      "5        chloramine   285.270642\n",
      "6          chromium   271.674432\n",
      "2           arsenic   123.923516\n",
      "18           silver    84.186802\n",
      "10          viruses    77.216413\n",
      "3            barium    65.644819\n",
      "19          uranium    45.752568\n",
      "15      perchlorate    45.038202\n"
     ]
    }
   ],
   "source": [
    "##ANOVA (Input : Numerik, Output : Kategorik)\n",
    "#Misalkan akan dipilih variabel numerik yang mempengaruhi is_safe\n",
    "X = dt.iloc[:,0:20]\n",
    "y = dt.iloc[:,20]\n",
    "\n",
    "#Feature Selection ANOVA\n",
    "fsanova = SelectKBest(score_func=f_classif,k=10)\n",
    "fit=fsanova.fit(X,y)\n",
    "dfscores=pd.DataFrame(fit.scores_)\n",
    "dfcolumns = pd.DataFrame(X.columns) #kolom dataframe\n",
    "\n",
    "#Hasil Feature Selection ANOVA\n",
    "featureScores = pd.concat([dfcolumns,dfscores],axis=1)\n",
    "featureScores.columns=['Selected_columns','Score_ANOVA']\n",
    "\n",
    "#print best fearures\n",
    "print(featureScores.nlargest(10,'Score_ANOVA'))"
   ]
  },
  {
   "cell_type": "markdown",
   "id": "4f5b5fb2",
   "metadata": {},
   "source": [
    "### Metode Wrapper"
   ]
  },
  {
   "cell_type": "code",
   "execution_count": 27,
   "id": "1d9784a8",
   "metadata": {},
   "outputs": [],
   "source": [
    "from sklearn.feature_selection import RFE\n",
    "from sklearn.linear_model import LogisticRegression"
   ]
  },
  {
   "cell_type": "code",
   "execution_count": 28,
   "id": "96322808",
   "metadata": {},
   "outputs": [
    {
     "name": "stderr",
     "output_type": "stream",
     "text": [
      "C:\\Users\\Rania Yunaningrum\\anaconda3\\lib\\site-packages\\sklearn\\linear_model\\_logistic.py:814: ConvergenceWarning: lbfgs failed to converge (status=1):\n",
      "STOP: TOTAL NO. of ITERATIONS REACHED LIMIT.\n",
      "\n",
      "Increase the number of iterations (max_iter) or scale the data as shown in:\n",
      "    https://scikit-learn.org/stable/modules/preprocessing.html\n",
      "Please also refer to the documentation for alternative solver options:\n",
      "    https://scikit-learn.org/stable/modules/linear_model.html#logistic-regression\n",
      "  n_iter_i = _check_optimize_result(\n",
      "C:\\Users\\Rania Yunaningrum\\anaconda3\\lib\\site-packages\\sklearn\\linear_model\\_logistic.py:814: ConvergenceWarning: lbfgs failed to converge (status=1):\n",
      "STOP: TOTAL NO. of ITERATIONS REACHED LIMIT.\n",
      "\n",
      "Increase the number of iterations (max_iter) or scale the data as shown in:\n",
      "    https://scikit-learn.org/stable/modules/preprocessing.html\n",
      "Please also refer to the documentation for alternative solver options:\n",
      "    https://scikit-learn.org/stable/modules/linear_model.html#logistic-regression\n",
      "  n_iter_i = _check_optimize_result(\n",
      "C:\\Users\\Rania Yunaningrum\\anaconda3\\lib\\site-packages\\sklearn\\linear_model\\_logistic.py:814: ConvergenceWarning: lbfgs failed to converge (status=1):\n",
      "STOP: TOTAL NO. of ITERATIONS REACHED LIMIT.\n",
      "\n",
      "Increase the number of iterations (max_iter) or scale the data as shown in:\n",
      "    https://scikit-learn.org/stable/modules/preprocessing.html\n",
      "Please also refer to the documentation for alternative solver options:\n",
      "    https://scikit-learn.org/stable/modules/linear_model.html#logistic-regression\n",
      "  n_iter_i = _check_optimize_result(\n",
      "C:\\Users\\Rania Yunaningrum\\anaconda3\\lib\\site-packages\\sklearn\\linear_model\\_logistic.py:814: ConvergenceWarning: lbfgs failed to converge (status=1):\n",
      "STOP: TOTAL NO. of ITERATIONS REACHED LIMIT.\n",
      "\n",
      "Increase the number of iterations (max_iter) or scale the data as shown in:\n",
      "    https://scikit-learn.org/stable/modules/preprocessing.html\n",
      "Please also refer to the documentation for alternative solver options:\n",
      "    https://scikit-learn.org/stable/modules/linear_model.html#logistic-regression\n",
      "  n_iter_i = _check_optimize_result(\n",
      "C:\\Users\\Rania Yunaningrum\\anaconda3\\lib\\site-packages\\sklearn\\linear_model\\_logistic.py:814: ConvergenceWarning: lbfgs failed to converge (status=1):\n",
      "STOP: TOTAL NO. of ITERATIONS REACHED LIMIT.\n",
      "\n",
      "Increase the number of iterations (max_iter) or scale the data as shown in:\n",
      "    https://scikit-learn.org/stable/modules/preprocessing.html\n",
      "Please also refer to the documentation for alternative solver options:\n",
      "    https://scikit-learn.org/stable/modules/linear_model.html#logistic-regression\n",
      "  n_iter_i = _check_optimize_result(\n",
      "C:\\Users\\Rania Yunaningrum\\anaconda3\\lib\\site-packages\\sklearn\\linear_model\\_logistic.py:814: ConvergenceWarning: lbfgs failed to converge (status=1):\n",
      "STOP: TOTAL NO. of ITERATIONS REACHED LIMIT.\n",
      "\n",
      "Increase the number of iterations (max_iter) or scale the data as shown in:\n",
      "    https://scikit-learn.org/stable/modules/preprocessing.html\n",
      "Please also refer to the documentation for alternative solver options:\n",
      "    https://scikit-learn.org/stable/modules/linear_model.html#logistic-regression\n",
      "  n_iter_i = _check_optimize_result(\n",
      "C:\\Users\\Rania Yunaningrum\\anaconda3\\lib\\site-packages\\sklearn\\linear_model\\_logistic.py:814: ConvergenceWarning: lbfgs failed to converge (status=1):\n",
      "STOP: TOTAL NO. of ITERATIONS REACHED LIMIT.\n",
      "\n",
      "Increase the number of iterations (max_iter) or scale the data as shown in:\n",
      "    https://scikit-learn.org/stable/modules/preprocessing.html\n",
      "Please also refer to the documentation for alternative solver options:\n",
      "    https://scikit-learn.org/stable/modules/linear_model.html#logistic-regression\n",
      "  n_iter_i = _check_optimize_result(\n",
      "C:\\Users\\Rania Yunaningrum\\anaconda3\\lib\\site-packages\\sklearn\\linear_model\\_logistic.py:814: ConvergenceWarning: lbfgs failed to converge (status=1):\n",
      "STOP: TOTAL NO. of ITERATIONS REACHED LIMIT.\n",
      "\n",
      "Increase the number of iterations (max_iter) or scale the data as shown in:\n",
      "    https://scikit-learn.org/stable/modules/preprocessing.html\n",
      "Please also refer to the documentation for alternative solver options:\n",
      "    https://scikit-learn.org/stable/modules/linear_model.html#logistic-regression\n",
      "  n_iter_i = _check_optimize_result(\n"
     ]
    },
    {
     "name": "stdout",
     "output_type": "stream",
     "text": [
      "Num Features : 10\n",
      "Selected Features: [ True False  True False  True False  True False False  True  True  True\n",
      " False False False False False  True  True  True]\n",
      "Selected Features: [ 1  9  1  6  1  4  1  2  5  1  1  1  8  3 11 10  7  1  1  1]\n",
      "Most important features (RFE) : ['aluminium' 'arsenic' 'cadmium' 'chromium' 'bacteria' 'viruses' 'lead'\n",
      " 'selenium' 'silver' 'uranium']\n"
     ]
    }
   ],
   "source": [
    "#WRAPPER backward (Recursive feature elimination)\n",
    "Xw = dt.iloc[:,0:20] #x harus numerik\n",
    "yw=dt.iloc[:,20] #respon menggunakan regresi logistik harus nominal biner\n",
    "\n",
    "model_wrap=LogisticRegression(random_state=1234)\n",
    "rfe=RFE(model_wrap, n_features_to_select=10) #memilih 10 variabel terbaik dalam model\n",
    "fit=rfe.fit(Xw,yw) #nilai fit/prediksi model\n",
    "print(\"Num Features : %s\"%(fit.n_features_)) #jumlah variabel yang dipilih\n",
    "print(\"Selected Features: %s\"%(fit.support_)) #status variabel terbaik\n",
    "print(\"Selected Features: %s\"%(fit.ranking_)) #variabel yang dipilih\n",
    "\n",
    "feature_names=np.array(Xw.columns)\n",
    "print('Most important features (RFE) : %s'%feature_names[rfe.support_]) #hasil pemilihan variabel terbaik"
   ]
  },
  {
   "cell_type": "markdown",
   "id": "a1450222",
   "metadata": {},
   "source": [
    "### Metode Embedded (Lasso)"
   ]
  },
  {
   "cell_type": "code",
   "execution_count": 29,
   "id": "0832f1d9",
   "metadata": {},
   "outputs": [
    {
     "data": {
      "text/html": [
       "<div>\n",
       "<style scoped>\n",
       "    .dataframe tbody tr th:only-of-type {\n",
       "        vertical-align: middle;\n",
       "    }\n",
       "\n",
       "    .dataframe tbody tr th {\n",
       "        vertical-align: top;\n",
       "    }\n",
       "\n",
       "    .dataframe thead th {\n",
       "        text-align: right;\n",
       "    }\n",
       "</style>\n",
       "<table border=\"1\" class=\"dataframe\">\n",
       "  <thead>\n",
       "    <tr style=\"text-align: right;\">\n",
       "      <th></th>\n",
       "      <th>Lasso Method</th>\n",
       "    </tr>\n",
       "  </thead>\n",
       "  <tbody>\n",
       "    <tr>\n",
       "      <th>0</th>\n",
       "      <td>aluminium</td>\n",
       "    </tr>\n",
       "    <tr>\n",
       "      <th>1</th>\n",
       "      <td>ammonia</td>\n",
       "    </tr>\n",
       "    <tr>\n",
       "      <th>2</th>\n",
       "      <td>arsenic</td>\n",
       "    </tr>\n",
       "    <tr>\n",
       "      <th>3</th>\n",
       "      <td>barium</td>\n",
       "    </tr>\n",
       "    <tr>\n",
       "      <th>4</th>\n",
       "      <td>cadmium</td>\n",
       "    </tr>\n",
       "    <tr>\n",
       "      <th>5</th>\n",
       "      <td>chloramine</td>\n",
       "    </tr>\n",
       "    <tr>\n",
       "      <th>6</th>\n",
       "      <td>chromium</td>\n",
       "    </tr>\n",
       "    <tr>\n",
       "      <th>7</th>\n",
       "      <td>copper</td>\n",
       "    </tr>\n",
       "    <tr>\n",
       "      <th>8</th>\n",
       "      <td>flouride</td>\n",
       "    </tr>\n",
       "    <tr>\n",
       "      <th>9</th>\n",
       "      <td>bacteria</td>\n",
       "    </tr>\n",
       "  </tbody>\n",
       "</table>\n",
       "</div>"
      ],
      "text/plain": [
       "  Lasso Method\n",
       "0    aluminium\n",
       "1      ammonia\n",
       "2      arsenic\n",
       "3       barium\n",
       "4      cadmium\n",
       "5   chloramine\n",
       "6     chromium\n",
       "7       copper\n",
       "8     flouride\n",
       "9     bacteria"
      ]
     },
     "execution_count": 29,
     "metadata": {},
     "output_type": "execute_result"
    }
   ],
   "source": [
    "from sklearn.linear_model import Lasso\n",
    "Xlasso = dt.iloc[:,0:20]\n",
    "ylasso=dt.iloc[:,20]\n",
    "ydlasso = pd.get_dummies(ylasso) #perlu didummykan\n",
    "yd2=ydlasso.iloc[:,1] #is_safe = 1 yang sudah didummykan\n",
    "\n",
    "lasso=Lasso(3) #ubah lambda = alpha\n",
    "lasso.fit(Xlasso,yd2) #x dan y merupakan variabel numerik\n",
    "\n",
    "lasso_coef=pd.DataFrame({'Feature':Xlasso.columns,'LassoCoef':lasso.coef_}).sort_values(by='LassoCoef',ascending=False) #mengurutkan nilai lasso terbesar\n",
    "\n",
    "lasso_coef['LassoCoef']=abs(lasso_coef['LassoCoef'])\n",
    "lasso_coef.sort_values(by='LassoCoef',ascending=False)\n",
    "\n",
    "#mengenolkan koefisien lasso dgn meninggikan lambda\n",
    "lasso_df=lasso_coef.sort_values(by='LassoCoef',ascending=False).head(10)\n",
    "lasso_df=pd.DataFrame({'Lasso Method' : lasso_df['Feature'].values})\n",
    "lasso_df"
   ]
  },
  {
   "cell_type": "markdown",
   "id": "c1a905df",
   "metadata": {},
   "source": [
    "# SVM"
   ]
  },
  {
   "cell_type": "code",
   "execution_count": 30,
   "id": "a56e0b17",
   "metadata": {},
   "outputs": [],
   "source": [
    "#SVM\n",
    "from sklearn.model_selection import train_test_split, StratifiedKFold, GridSearchCV\n",
    "from sklearn import datasets\n",
    "from sklearn.metrics import confusion_matrix, accuracy_score,precision_score, recall_score, f1_score"
   ]
  },
  {
   "cell_type": "code",
   "execution_count": 31,
   "id": "89fc7d70",
   "metadata": {},
   "outputs": [
    {
     "name": "stdout",
     "output_type": "stream",
     "text": [
      "<class 'pandas.core.frame.DataFrame'>\n",
      "RangeIndex: 7999 entries, 0 to 7998\n",
      "Data columns (total 23 columns):\n",
      " #   Column        Non-Null Count  Dtype  \n",
      "---  ------        --------------  -----  \n",
      " 0   aluminium     7999 non-null   float64\n",
      " 1   ammonia       7999 non-null   float64\n",
      " 2   arsenic       7999 non-null   float64\n",
      " 3   barium        7999 non-null   float64\n",
      " 4   cadmium       7999 non-null   float64\n",
      " 5   chloramine    7999 non-null   float64\n",
      " 6   chromium      7999 non-null   float64\n",
      " 7   copper        7999 non-null   float64\n",
      " 8   flouride      7999 non-null   float64\n",
      " 9   bacteria      7999 non-null   float64\n",
      " 10  viruses       7999 non-null   float64\n",
      " 11  lead          7999 non-null   float64\n",
      " 12  nitrates      7999 non-null   float64\n",
      " 13  nitrites      7999 non-null   float64\n",
      " 14  mercury       7999 non-null   float64\n",
      " 15  perchlorate   7999 non-null   float64\n",
      " 16  radium        7999 non-null   float64\n",
      " 17  selenium      7999 non-null   float64\n",
      " 18  silver        7999 non-null   float64\n",
      " 19  uranium       7999 non-null   float64\n",
      " 20  is_safe       7999 non-null   int64  \n",
      " 21  aluminium_zs  7999 non-null   float64\n",
      " 22  arsenic_zs    7999 non-null   float64\n",
      "dtypes: float64(22), int64(1)\n",
      "memory usage: 1.4 MB\n"
     ]
    }
   ],
   "source": [
    "dt.info()"
   ]
  },
  {
   "cell_type": "code",
   "execution_count": 32,
   "id": "eba56884",
   "metadata": {},
   "outputs": [],
   "source": [
    "#Variabel yang digunakan untuk SVM\n",
    "y=dt['is_safe']\n",
    "x=dt.loc[:,['aluminium_zs','cadmium','chloramine','chromium','arsenic_zs','silver','viruses','barium','uranium','bacteria']]\n",
    "y1=y.values \n",
    "x1=x.values"
   ]
  },
  {
   "cell_type": "code",
   "execution_count": 33,
   "id": "89ce1a8c",
   "metadata": {},
   "outputs": [],
   "source": [
    "from sklearn.metrics import roc_auc_score\n",
    "from sklearn import svm"
   ]
  },
  {
   "cell_type": "code",
   "execution_count": 34,
   "id": "8c88edab",
   "metadata": {},
   "outputs": [
    {
     "data": {
      "text/plain": [
       "SVC(random_state=2)"
      ]
     },
     "execution_count": 34,
     "metadata": {},
     "output_type": "execute_result"
    }
   ],
   "source": [
    "#Menggunakan Cross Validation\n",
    "cv=StratifiedKFold(n_splits=5, random_state=None) #menentukan banyaknya K (pembagian fold) = 10\n",
    "ss=svm.SVC(class_weight=None,random_state=2) #parameter C dalam SVM tidak terboboti, pengacakan data untuk estimasi probabilitas\n",
    "model=ss.fit(x1,y1) #pemodelan svm\n",
    "model"
   ]
  },
  {
   "cell_type": "code",
   "execution_count": 35,
   "id": "5949f516",
   "metadata": {},
   "outputs": [
    {
     "data": {
      "text/plain": [
       "GridSearchCV(cv=StratifiedKFold(n_splits=5, random_state=None, shuffle=False),\n",
       "             estimator=SVC(random_state=2), n_jobs=1,\n",
       "             param_grid={'C': [0.0001, 0.001, 0.01, 0.1, 1, 10, 100, 1000,\n",
       "                               10000],\n",
       "                         'gamma': [0.0001, 0.001, 0.01, 0.1, 1, 10, 100, 1000,\n",
       "                                   10000],\n",
       "                         'kernel': ('linear', 'poly', 'rbf')},\n",
       "             scoring='accuracy')"
      ]
     },
     "execution_count": 35,
     "metadata": {},
     "output_type": "execute_result"
    }
   ],
   "source": [
    "#PARAMETER\n",
    "#Pemilihan parameter C, kernel, gamma, terbaik\n",
    "#Parameter SVM ada 3 yaitu C,kernel,gamma\n",
    "parameter={\n",
    "    'kernel':('linear','poly','rbf'),\n",
    "    'C':[0.0001,0.001,0.01,0.1,1,10,100,1000,10000],\n",
    "    'gamma':[0.0001,0.001,0.01,0.1,1,10,100,1000,10000]\n",
    "}\n",
    "grid=GridSearchCV(model,parameter,cv=cv,n_jobs=1,scoring='accuracy') #mencari nilai akurasi model SVM dari setiap iterasi CV\n",
    "grid"
   ]
  },
  {
   "cell_type": "code",
   "execution_count": 36,
   "id": "2a8d5498",
   "metadata": {},
   "outputs": [],
   "source": [
    "# mencari best parameter\n",
    "#gridfit = grid.fit(x,y)\n",
    "#gridfit.best_params_"
   ]
  },
  {
   "cell_type": "markdown",
   "id": "f463b804",
   "metadata": {},
   "source": [
    "# KERNEL LINEAR"
   ]
  },
  {
   "cell_type": "code",
   "execution_count": 37,
   "id": "498a0a2e",
   "metadata": {},
   "outputs": [],
   "source": [
    "from sklearn import svm\n",
    "svm = svm.SVC(class_weight=None, C=1, gamma = 0.1, kernel = 'linear', random_state=100)\n",
    "n = 5\n",
    "from sklearn.model_selection import StratifiedKFold\n",
    "kf = StratifiedKFold(n_splits = n, random_state = None)\n",
    "#c bisa custom\n",
    "#kernel = linear, poly, rbf"
   ]
  },
  {
   "cell_type": "code",
   "execution_count": 38,
   "id": "b384c60b",
   "metadata": {},
   "outputs": [
    {
     "name": "stderr",
     "output_type": "stream",
     "text": [
      "C:\\Users\\Rania Yunaningrum\\anaconda3\\lib\\site-packages\\sklearn\\base.py:443: UserWarning: X has feature names, but SVC was fitted without feature names\n",
      "  warnings.warn(\n"
     ]
    },
    {
     "data": {
      "text/plain": [
       "array([0, 0, 0, ..., 0, 0, 0], dtype=int64)"
      ]
     },
     "execution_count": 38,
     "metadata": {},
     "output_type": "execute_result"
    }
   ],
   "source": [
    "svm.fit(x1,y1)\n",
    "y_pred1 = svm.predict(x)\n",
    "y_pred1"
   ]
  },
  {
   "cell_type": "code",
   "execution_count": 39,
   "id": "ef80c69c",
   "metadata": {},
   "outputs": [],
   "source": [
    "#membuat tempat\n",
    "cm=[]\n",
    "total = []\n",
    "ac = []\n",
    "se = []\n",
    "sp = []"
   ]
  },
  {
   "cell_type": "code",
   "execution_count": 40,
   "id": "4cbad294",
   "metadata": {},
   "outputs": [
    {
     "name": "stdout",
     "output_type": "stream",
     "text": [
      "Akurasi :  0.762110694183865\n",
      "Spesifisitas :  0.17267759562841528\n",
      "Sensitivitas : 0.8382498235709246\n"
     ]
    },
    {
     "data": {
      "text/html": [
       "<div>\n",
       "<style scoped>\n",
       "    .dataframe tbody tr th:only-of-type {\n",
       "        vertical-align: middle;\n",
       "    }\n",
       "\n",
       "    .dataframe tbody tr th {\n",
       "        vertical-align: top;\n",
       "    }\n",
       "\n",
       "    .dataframe thead th {\n",
       "        text-align: right;\n",
       "    }\n",
       "</style>\n",
       "<table border=\"1\" class=\"dataframe\">\n",
       "  <thead>\n",
       "    <tr style=\"text-align: right;\">\n",
       "      <th></th>\n",
       "      <th>Akurasi</th>\n",
       "      <th>Spesitifitas</th>\n",
       "      <th>Sensitivitas</th>\n",
       "    </tr>\n",
       "  </thead>\n",
       "  <tbody>\n",
       "    <tr>\n",
       "      <th>0</th>\n",
       "      <td>0.268125</td>\n",
       "      <td>0.863388</td>\n",
       "      <td>0.191249</td>\n",
       "    </tr>\n",
       "    <tr>\n",
       "      <th>1</th>\n",
       "      <td>0.885625</td>\n",
       "      <td>0.000000</td>\n",
       "      <td>1.000000</td>\n",
       "    </tr>\n",
       "    <tr>\n",
       "      <th>2</th>\n",
       "      <td>0.885625</td>\n",
       "      <td>0.000000</td>\n",
       "      <td>1.000000</td>\n",
       "    </tr>\n",
       "    <tr>\n",
       "      <th>3</th>\n",
       "      <td>0.885625</td>\n",
       "      <td>0.000000</td>\n",
       "      <td>1.000000</td>\n",
       "    </tr>\n",
       "    <tr>\n",
       "      <th>4</th>\n",
       "      <td>0.885553</td>\n",
       "      <td>0.000000</td>\n",
       "      <td>1.000000</td>\n",
       "    </tr>\n",
       "  </tbody>\n",
       "</table>\n",
       "</div>"
      ],
      "text/plain": [
       "    Akurasi  Spesitifitas  Sensitivitas\n",
       "0  0.268125      0.863388      0.191249\n",
       "1  0.885625      0.000000      1.000000\n",
       "2  0.885625      0.000000      1.000000\n",
       "3  0.885625      0.000000      1.000000\n",
       "4  0.885553      0.000000      1.000000"
      ]
     },
     "execution_count": 40,
     "metadata": {},
     "output_type": "execute_result"
    }
   ],
   "source": [
    "for train_index, test_index in kf.split(x1,y1):\n",
    "    x_train, x_test = x1[train_index], x1[test_index]\n",
    "    y_train, y_test = y1[train_index], y1[test_index]\n",
    "    svm.fit(x_train, y_train)\n",
    "    y_pred1 = svm.predict(x_test)\n",
    "    cm.append((confusion_matrix(y_test, y_pred1)).astype(float))\n",
    "for j in range (n):\n",
    "    total.append(sum(sum(cm[j])))\n",
    "    ac.append((cm[j][0,0]+cm[j][1,1])/total[j])\n",
    "    se.append(cm[j][0,0]/(cm[j][0,0]+cm[j][0,1]))\n",
    "    sp.append(cm[j][1,1]/(cm[j][1,0]+cm[j][1,1]))\n",
    "akurasi1=np.mean(ac)\n",
    "spesifisiti1=np.mean(sp)\n",
    "sensitiviti1=np.mean(se)\n",
    "print(\"Akurasi : \",akurasi1)\n",
    "print(\"Spesifisitas : \", spesifisiti1)\n",
    "print(\"Sensitivitas :\", sensitiviti1)\n",
    "\n",
    "#performansi masing masing fold\n",
    "df_k1=pd.DataFrame()\n",
    "test=dict()\n",
    "for j in range (3):\n",
    "    test[j]=[]\n",
    "for i in range (n):\n",
    "    test[0].append(ac[i])\n",
    "    test[1].append(sp[i])\n",
    "    test[2].append(se[i])\n",
    "for i in range (3):\n",
    "    df_k1=pd.concat([df_k1,pd.DataFrame(test[i])],axis=1)\n",
    "df_k1.columns=['Akurasi','Spesitifitas','Sensitivitas']\n",
    "df_k1"
   ]
  },
  {
   "cell_type": "markdown",
   "id": "bea6ceff",
   "metadata": {},
   "source": [
    "# KERNEL POLY"
   ]
  },
  {
   "cell_type": "code",
   "execution_count": 41,
   "id": "5c814cfe",
   "metadata": {},
   "outputs": [],
   "source": [
    "from sklearn import svm\n",
    "svm = svm.SVC(class_weight=None, C=1, gamma = 0.1, kernel = 'poly', random_state=100)\n",
    "n = 5\n",
    "from sklearn.model_selection import StratifiedKFold\n",
    "kf = StratifiedKFold(n_splits = n, random_state = None)\n",
    "#c bisa custom\n",
    "#kernel = linear, oly, rbf"
   ]
  },
  {
   "cell_type": "code",
   "execution_count": 42,
   "id": "afb9256e",
   "metadata": {},
   "outputs": [
    {
     "data": {
      "text/plain": [
       "array([0, 1, 0, ..., 0, 0, 0], dtype=int64)"
      ]
     },
     "execution_count": 42,
     "metadata": {},
     "output_type": "execute_result"
    }
   ],
   "source": [
    "svm.fit(x1,y1)\n",
    "y_pred2 = svm.predict(x1)\n",
    "y_pred2"
   ]
  },
  {
   "cell_type": "code",
   "execution_count": 43,
   "id": "69f218bf",
   "metadata": {},
   "outputs": [],
   "source": [
    "#membuat tempat\n",
    "cm=[]\n",
    "total = []\n",
    "ac = []\n",
    "se = []\n",
    "sp = []"
   ]
  },
  {
   "cell_type": "code",
   "execution_count": 44,
   "id": "59b4c790",
   "metadata": {},
   "outputs": [
    {
     "name": "stdout",
     "output_type": "stream",
     "text": [
      "Akurasi :  0.7701106941838649\n",
      "Spesifisitas :  0.22622950819672133\n",
      "Sensitivitas : 0.8403669724770643\n"
     ]
    },
    {
     "data": {
      "text/html": [
       "<div>\n",
       "<style scoped>\n",
       "    .dataframe tbody tr th:only-of-type {\n",
       "        vertical-align: middle;\n",
       "    }\n",
       "\n",
       "    .dataframe tbody tr th {\n",
       "        vertical-align: top;\n",
       "    }\n",
       "\n",
       "    .dataframe thead th {\n",
       "        text-align: right;\n",
       "    }\n",
       "</style>\n",
       "<table border=\"1\" class=\"dataframe\">\n",
       "  <thead>\n",
       "    <tr style=\"text-align: right;\">\n",
       "      <th></th>\n",
       "      <th>Akurasi</th>\n",
       "      <th>Spesitifitas</th>\n",
       "      <th>Sensitivitas</th>\n",
       "    </tr>\n",
       "  </thead>\n",
       "  <tbody>\n",
       "    <tr>\n",
       "      <th>0</th>\n",
       "      <td>0.300625</td>\n",
       "      <td>0.808743</td>\n",
       "      <td>0.235004</td>\n",
       "    </tr>\n",
       "    <tr>\n",
       "      <th>1</th>\n",
       "      <td>0.869375</td>\n",
       "      <td>0.114754</td>\n",
       "      <td>0.966831</td>\n",
       "    </tr>\n",
       "    <tr>\n",
       "      <th>2</th>\n",
       "      <td>0.901875</td>\n",
       "      <td>0.142077</td>\n",
       "      <td>1.000000</td>\n",
       "    </tr>\n",
       "    <tr>\n",
       "      <th>3</th>\n",
       "      <td>0.893125</td>\n",
       "      <td>0.065574</td>\n",
       "      <td>1.000000</td>\n",
       "    </tr>\n",
       "    <tr>\n",
       "      <th>4</th>\n",
       "      <td>0.885553</td>\n",
       "      <td>0.000000</td>\n",
       "      <td>1.000000</td>\n",
       "    </tr>\n",
       "  </tbody>\n",
       "</table>\n",
       "</div>"
      ],
      "text/plain": [
       "    Akurasi  Spesitifitas  Sensitivitas\n",
       "0  0.300625      0.808743      0.235004\n",
       "1  0.869375      0.114754      0.966831\n",
       "2  0.901875      0.142077      1.000000\n",
       "3  0.893125      0.065574      1.000000\n",
       "4  0.885553      0.000000      1.000000"
      ]
     },
     "execution_count": 44,
     "metadata": {},
     "output_type": "execute_result"
    }
   ],
   "source": [
    "for train_index, test_index in kf.split(x1,y1):\n",
    "    x_train, x_test = x1[train_index], x1[test_index]\n",
    "    y_train, y_test = y1[train_index], y1[test_index]\n",
    "    svm.fit(x_train, y_train)\n",
    "    y_pred2 = svm.predict(x_test)\n",
    "    cm.append((confusion_matrix(y_test, y_pred2)).astype(float))\n",
    "for j in range (n):\n",
    "    total.append(sum(sum(cm[j])))\n",
    "    ac.append((cm[j][0,0]+cm[j][1,1])/total[j])\n",
    "    se.append(cm[j][0,0]/(cm[j][0,0]+cm[j][0,1]))\n",
    "    sp.append(cm[j][1,1]/(cm[j][1,0]+cm[j][1,1]))\n",
    "akurasi2=np.mean(ac)\n",
    "spesifisiti2=np.mean(sp)\n",
    "sensitiviti2=np.mean(se)\n",
    "print(\"Akurasi : \",akurasi2)\n",
    "print(\"Spesifisitas : \", spesifisiti2)\n",
    "print(\"Sensitivitas :\", sensitiviti2)\n",
    "\n",
    "#performansi masing masing fold\n",
    "df_k2=pd.DataFrame()\n",
    "test=dict()\n",
    "for j in range (3):\n",
    "    test[j]=[]\n",
    "for i in range (n):\n",
    "    test[0].append(ac[i])\n",
    "    test[1].append(sp[i])\n",
    "    test[2].append(se[i])\n",
    "for i in range (3):\n",
    "    df_k2=pd.concat([df_k2,pd.DataFrame(test[i])],axis=1)\n",
    "df_k2.columns=['Akurasi','Spesitifitas','Sensitivitas']\n",
    "df_k2"
   ]
  },
  {
   "cell_type": "markdown",
   "id": "5c2b64b8",
   "metadata": {},
   "source": [
    "# KERNEL RBF"
   ]
  },
  {
   "cell_type": "code",
   "execution_count": 45,
   "id": "1c9887d9",
   "metadata": {},
   "outputs": [],
   "source": [
    "from sklearn import svm\n",
    "svm = svm.SVC(class_weight=None, C=1, gamma = 0.1, kernel = 'rbf', random_state=100)\n",
    "n = 5\n",
    "from sklearn.model_selection import StratifiedKFold\n",
    "kf = StratifiedKFold(n_splits = n, random_state = None)\n",
    "#c bisa custom\n",
    "#kernel = linear, poly, rbf"
   ]
  },
  {
   "cell_type": "code",
   "execution_count": 46,
   "id": "e23718e6",
   "metadata": {},
   "outputs": [
    {
     "data": {
      "text/plain": [
       "array([1, 1, 0, ..., 0, 0, 0], dtype=int64)"
      ]
     },
     "execution_count": 46,
     "metadata": {},
     "output_type": "execute_result"
    }
   ],
   "source": [
    "svm.fit(x1,y1)\n",
    "y_pred3 = svm.predict(x1)\n",
    "y_pred3"
   ]
  },
  {
   "cell_type": "code",
   "execution_count": 47,
   "id": "f7de7f8d",
   "metadata": {},
   "outputs": [],
   "source": [
    "#membuat tempat\n",
    "cm=[]\n",
    "total = []\n",
    "ac = []\n",
    "se = []\n",
    "sp = []"
   ]
  },
  {
   "cell_type": "code",
   "execution_count": 48,
   "id": "843894f0",
   "metadata": {},
   "outputs": [
    {
     "name": "stdout",
     "output_type": "stream",
     "text": [
      "Akurasi :  0.7853606941838649\n",
      "Spesifisitas :  0.2983606557377049\n",
      "Sensitivitas : 0.8482709950599858\n"
     ]
    },
    {
     "data": {
      "text/html": [
       "<div>\n",
       "<style scoped>\n",
       "    .dataframe tbody tr th:only-of-type {\n",
       "        vertical-align: middle;\n",
       "    }\n",
       "\n",
       "    .dataframe tbody tr th {\n",
       "        vertical-align: top;\n",
       "    }\n",
       "\n",
       "    .dataframe thead th {\n",
       "        text-align: right;\n",
       "    }\n",
       "</style>\n",
       "<table border=\"1\" class=\"dataframe\">\n",
       "  <thead>\n",
       "    <tr style=\"text-align: right;\">\n",
       "      <th></th>\n",
       "      <th>Akurasi</th>\n",
       "      <th>Spesitifitas</th>\n",
       "      <th>Sensitivitas</th>\n",
       "    </tr>\n",
       "  </thead>\n",
       "  <tbody>\n",
       "    <tr>\n",
       "      <th>0</th>\n",
       "      <td>0.310000</td>\n",
       "      <td>0.830601</td>\n",
       "      <td>0.242766</td>\n",
       "    </tr>\n",
       "    <tr>\n",
       "      <th>1</th>\n",
       "      <td>0.906875</td>\n",
       "      <td>0.196721</td>\n",
       "      <td>0.998589</td>\n",
       "    </tr>\n",
       "    <tr>\n",
       "      <th>2</th>\n",
       "      <td>0.913750</td>\n",
       "      <td>0.245902</td>\n",
       "      <td>1.000000</td>\n",
       "    </tr>\n",
       "    <tr>\n",
       "      <th>3</th>\n",
       "      <td>0.910625</td>\n",
       "      <td>0.218579</td>\n",
       "      <td>1.000000</td>\n",
       "    </tr>\n",
       "    <tr>\n",
       "      <th>4</th>\n",
       "      <td>0.885553</td>\n",
       "      <td>0.000000</td>\n",
       "      <td>1.000000</td>\n",
       "    </tr>\n",
       "  </tbody>\n",
       "</table>\n",
       "</div>"
      ],
      "text/plain": [
       "    Akurasi  Spesitifitas  Sensitivitas\n",
       "0  0.310000      0.830601      0.242766\n",
       "1  0.906875      0.196721      0.998589\n",
       "2  0.913750      0.245902      1.000000\n",
       "3  0.910625      0.218579      1.000000\n",
       "4  0.885553      0.000000      1.000000"
      ]
     },
     "execution_count": 48,
     "metadata": {},
     "output_type": "execute_result"
    }
   ],
   "source": [
    "for train_index, test_index in kf.split(x1,y1):\n",
    "    x_train_1, x_test_1 = x1[train_index], x1[test_index]\n",
    "    y_train_1, y_test_1 = y1[train_index], y1[test_index]\n",
    "    svm.fit(x_train_1, y_train_1)\n",
    "    y_pred3 = svm.predict(x_test_1)\n",
    "    cm.append((confusion_matrix(y_test_1, y_pred3)).astype(float))\n",
    "for j in range (n):\n",
    "    total.append(sum(sum(cm[j])))\n",
    "    ac.append((cm[j][0,0]+cm[j][1,1])/total[j])\n",
    "    se.append(cm[j][0,0]/(cm[j][0,0]+cm[j][0,1]))\n",
    "    sp.append(cm[j][1,1]/(cm[j][1,0]+cm[j][1,1]))\n",
    "akurasi3=np.mean(ac)\n",
    "spesifisiti3=np.mean(sp)\n",
    "sensitiviti3=np.mean(se)\n",
    "print(\"Akurasi : \",akurasi3)\n",
    "print(\"Spesifisitas : \", spesifisiti3)\n",
    "print(\"Sensitivitas :\", sensitiviti3)\n",
    "\n",
    "\n",
    "#performansi masing masing fold\n",
    "df_k3=pd.DataFrame()\n",
    "test=dict()\n",
    "for j in range (3):\n",
    "    test[j]=[]\n",
    "for i in range (n):\n",
    "    test[0].append(ac[i])\n",
    "    test[1].append(sp[i])\n",
    "    test[2].append(se[i])\n",
    "for i in range (3):\n",
    "    df_k3=pd.concat([df_k3,pd.DataFrame(test[i])],axis=1)\n",
    "df_k3.columns=['Akurasi','Spesitifitas','Sensitivitas']\n",
    "df_k3"
   ]
  },
  {
   "cell_type": "markdown",
   "id": "8dd754d6",
   "metadata": {},
   "source": [
    "# Diperoleh bahwa kernel rbf memiliki tingkat akurasi yang lebih tinggi dibandingkan dengan kernel linear maupun kernel poly"
   ]
  },
  {
   "cell_type": "markdown",
   "id": "80263860",
   "metadata": {},
   "source": [
    "# Membandingkan nilai C dan gamma optimum pada kernel rbf"
   ]
  },
  {
   "cell_type": "markdown",
   "id": "79b14613",
   "metadata": {},
   "source": [
    "# C = 0.0001"
   ]
  },
  {
   "cell_type": "code",
   "execution_count": 49,
   "id": "7c6c532c",
   "metadata": {},
   "outputs": [],
   "source": [
    "from sklearn import svm\n",
    "svm = svm.SVC(class_weight=None, C=0.0001, gamma = 0.0001, kernel = 'rbf', random_state=100)\n",
    "n = 5\n",
    "from sklearn.model_selection import StratifiedKFold\n",
    "kf = StratifiedKFold(n_splits = n, random_state = None)\n",
    "#c bisa custom"
   ]
  },
  {
   "cell_type": "code",
   "execution_count": 50,
   "id": "994f3078",
   "metadata": {},
   "outputs": [
    {
     "data": {
      "text/plain": [
       "array([0, 0, 0, ..., 0, 0, 0], dtype=int64)"
      ]
     },
     "execution_count": 50,
     "metadata": {},
     "output_type": "execute_result"
    }
   ],
   "source": [
    "svm.fit(x1,y1)\n",
    "y_pred3 = svm.predict(x1)\n",
    "y_pred3"
   ]
  },
  {
   "cell_type": "code",
   "execution_count": 51,
   "id": "83bfb883",
   "metadata": {},
   "outputs": [],
   "source": [
    "#membuat tempat\n",
    "cm=[]\n",
    "total = []\n",
    "ac = []\n",
    "se = []\n",
    "sp = []"
   ]
  },
  {
   "cell_type": "code",
   "execution_count": 52,
   "id": "ef4f204e",
   "metadata": {},
   "outputs": [
    {
     "name": "stdout",
     "output_type": "stream",
     "text": [
      "Akurasi :  0.8856106941838648\n",
      "Spesifisitas :  0.0\n",
      "Sensitivitas : 1.0\n"
     ]
    },
    {
     "data": {
      "text/html": [
       "<div>\n",
       "<style scoped>\n",
       "    .dataframe tbody tr th:only-of-type {\n",
       "        vertical-align: middle;\n",
       "    }\n",
       "\n",
       "    .dataframe tbody tr th {\n",
       "        vertical-align: top;\n",
       "    }\n",
       "\n",
       "    .dataframe thead th {\n",
       "        text-align: right;\n",
       "    }\n",
       "</style>\n",
       "<table border=\"1\" class=\"dataframe\">\n",
       "  <thead>\n",
       "    <tr style=\"text-align: right;\">\n",
       "      <th></th>\n",
       "      <th>Akurasi</th>\n",
       "      <th>Spesitifitas</th>\n",
       "      <th>Sensitivitas</th>\n",
       "    </tr>\n",
       "  </thead>\n",
       "  <tbody>\n",
       "    <tr>\n",
       "      <th>0</th>\n",
       "      <td>0.885625</td>\n",
       "      <td>0.0</td>\n",
       "      <td>1.0</td>\n",
       "    </tr>\n",
       "    <tr>\n",
       "      <th>1</th>\n",
       "      <td>0.885625</td>\n",
       "      <td>0.0</td>\n",
       "      <td>1.0</td>\n",
       "    </tr>\n",
       "    <tr>\n",
       "      <th>2</th>\n",
       "      <td>0.885625</td>\n",
       "      <td>0.0</td>\n",
       "      <td>1.0</td>\n",
       "    </tr>\n",
       "    <tr>\n",
       "      <th>3</th>\n",
       "      <td>0.885625</td>\n",
       "      <td>0.0</td>\n",
       "      <td>1.0</td>\n",
       "    </tr>\n",
       "    <tr>\n",
       "      <th>4</th>\n",
       "      <td>0.885553</td>\n",
       "      <td>0.0</td>\n",
       "      <td>1.0</td>\n",
       "    </tr>\n",
       "  </tbody>\n",
       "</table>\n",
       "</div>"
      ],
      "text/plain": [
       "    Akurasi  Spesitifitas  Sensitivitas\n",
       "0  0.885625           0.0           1.0\n",
       "1  0.885625           0.0           1.0\n",
       "2  0.885625           0.0           1.0\n",
       "3  0.885625           0.0           1.0\n",
       "4  0.885553           0.0           1.0"
      ]
     },
     "execution_count": 52,
     "metadata": {},
     "output_type": "execute_result"
    }
   ],
   "source": [
    "for train_index, test_index in kf.split(x1,y1):\n",
    "    x_train_1, x_test_1 = x1[train_index], x1[test_index]\n",
    "    y_train_1, y_test_1 = y1[train_index], y1[test_index]\n",
    "    svm.fit(x_train_1, y_train_1)\n",
    "    y_pred3 = svm.predict(x_test_1)\n",
    "    cm.append((confusion_matrix(y_test_1, y_pred3)).astype(float))\n",
    "for j in range (n):\n",
    "    total.append(sum(sum(cm[j])))\n",
    "    ac.append((cm[j][0,0]+cm[j][1,1])/total[j])\n",
    "    se.append(cm[j][0,0]/(cm[j][0,0]+cm[j][0,1]))\n",
    "    sp.append(cm[j][1,1]/(cm[j][1,0]+cm[j][1,1]))\n",
    "akurasi3=np.mean(ac)\n",
    "spesifisiti3=np.mean(sp)\n",
    "sensitiviti3=np.mean(se)\n",
    "print(\"Akurasi : \",akurasi3)\n",
    "print(\"Spesifisitas : \", spesifisiti3)\n",
    "print(\"Sensitivitas :\", sensitiviti3)\n",
    "\n",
    "\n",
    "#performansi masing masing fold\n",
    "df_k3=pd.DataFrame()\n",
    "test=dict()\n",
    "for j in range (3):\n",
    "    test[j]=[]\n",
    "for i in range (n):\n",
    "    test[0].append(ac[i])\n",
    "    test[1].append(sp[i])\n",
    "    test[2].append(se[i])\n",
    "for i in range (3):\n",
    "    df_k3=pd.concat([df_k3,pd.DataFrame(test[i])],axis=1)\n",
    "df_k3.columns=['Akurasi','Spesitifitas','Sensitivitas']\n",
    "df_k3"
   ]
  },
  {
   "cell_type": "markdown",
   "id": "77067c5b",
   "metadata": {},
   "source": [
    "# C = 0.001"
   ]
  },
  {
   "cell_type": "code",
   "execution_count": 53,
   "id": "0e829688",
   "metadata": {},
   "outputs": [],
   "source": [
    "from sklearn import svm\n",
    "svm = svm.SVC(class_weight=None, C=0.001, gamma = 0.0001, kernel = 'rbf', random_state=100)\n",
    "n = 5\n",
    "from sklearn.model_selection import StratifiedKFold\n",
    "kf = StratifiedKFold(n_splits = n, random_state = None)\n",
    "#c bisa custom"
   ]
  },
  {
   "cell_type": "code",
   "execution_count": 54,
   "id": "9d1ff496",
   "metadata": {},
   "outputs": [
    {
     "data": {
      "text/plain": [
       "array([0, 0, 0, ..., 0, 0, 0], dtype=int64)"
      ]
     },
     "execution_count": 54,
     "metadata": {},
     "output_type": "execute_result"
    }
   ],
   "source": [
    "svm.fit(x1,y1)\n",
    "y_pred3 = svm.predict(x1)\n",
    "y_pred3"
   ]
  },
  {
   "cell_type": "code",
   "execution_count": 55,
   "id": "a7fc3508",
   "metadata": {},
   "outputs": [],
   "source": [
    "#membuat tempat\n",
    "cm=[]\n",
    "total = []\n",
    "ac = []\n",
    "se = []\n",
    "sp = []"
   ]
  },
  {
   "cell_type": "code",
   "execution_count": 56,
   "id": "551b3523",
   "metadata": {},
   "outputs": [
    {
     "name": "stdout",
     "output_type": "stream",
     "text": [
      "Akurasi :  0.8856106941838648\n",
      "Spesifisitas :  0.0\n",
      "Sensitivitas : 1.0\n"
     ]
    },
    {
     "data": {
      "text/html": [
       "<div>\n",
       "<style scoped>\n",
       "    .dataframe tbody tr th:only-of-type {\n",
       "        vertical-align: middle;\n",
       "    }\n",
       "\n",
       "    .dataframe tbody tr th {\n",
       "        vertical-align: top;\n",
       "    }\n",
       "\n",
       "    .dataframe thead th {\n",
       "        text-align: right;\n",
       "    }\n",
       "</style>\n",
       "<table border=\"1\" class=\"dataframe\">\n",
       "  <thead>\n",
       "    <tr style=\"text-align: right;\">\n",
       "      <th></th>\n",
       "      <th>Akurasi</th>\n",
       "      <th>Spesitifitas</th>\n",
       "      <th>Sensitivitas</th>\n",
       "    </tr>\n",
       "  </thead>\n",
       "  <tbody>\n",
       "    <tr>\n",
       "      <th>0</th>\n",
       "      <td>0.885625</td>\n",
       "      <td>0.0</td>\n",
       "      <td>1.0</td>\n",
       "    </tr>\n",
       "    <tr>\n",
       "      <th>1</th>\n",
       "      <td>0.885625</td>\n",
       "      <td>0.0</td>\n",
       "      <td>1.0</td>\n",
       "    </tr>\n",
       "    <tr>\n",
       "      <th>2</th>\n",
       "      <td>0.885625</td>\n",
       "      <td>0.0</td>\n",
       "      <td>1.0</td>\n",
       "    </tr>\n",
       "    <tr>\n",
       "      <th>3</th>\n",
       "      <td>0.885625</td>\n",
       "      <td>0.0</td>\n",
       "      <td>1.0</td>\n",
       "    </tr>\n",
       "    <tr>\n",
       "      <th>4</th>\n",
       "      <td>0.885553</td>\n",
       "      <td>0.0</td>\n",
       "      <td>1.0</td>\n",
       "    </tr>\n",
       "  </tbody>\n",
       "</table>\n",
       "</div>"
      ],
      "text/plain": [
       "    Akurasi  Spesitifitas  Sensitivitas\n",
       "0  0.885625           0.0           1.0\n",
       "1  0.885625           0.0           1.0\n",
       "2  0.885625           0.0           1.0\n",
       "3  0.885625           0.0           1.0\n",
       "4  0.885553           0.0           1.0"
      ]
     },
     "execution_count": 56,
     "metadata": {},
     "output_type": "execute_result"
    }
   ],
   "source": [
    "for train_index, test_index in kf.split(x1,y1):\n",
    "    x_train_1, x_test_1 = x1[train_index], x1[test_index]\n",
    "    y_train_1, y_test_1 = y1[train_index], y1[test_index]\n",
    "    svm.fit(x_train_1, y_train_1)\n",
    "    y_pred3 = svm.predict(x_test_1)\n",
    "    cm.append((confusion_matrix(y_test_1, y_pred3)).astype(float))\n",
    "for j in range (n):\n",
    "    total.append(sum(sum(cm[j])))\n",
    "    ac.append((cm[j][0,0]+cm[j][1,1])/total[j])\n",
    "    se.append(cm[j][0,0]/(cm[j][0,0]+cm[j][0,1]))\n",
    "    sp.append(cm[j][1,1]/(cm[j][1,0]+cm[j][1,1]))\n",
    "akurasi3=np.mean(ac)\n",
    "spesifisiti3=np.mean(sp)\n",
    "sensitiviti3=np.mean(se)\n",
    "print(\"Akurasi : \",akurasi3)\n",
    "print(\"Spesifisitas : \", spesifisiti3)\n",
    "print(\"Sensitivitas :\", sensitiviti3)\n",
    "\n",
    "\n",
    "#performansi masing masing fold\n",
    "df_k3=pd.DataFrame()\n",
    "test=dict()\n",
    "for j in range (3):\n",
    "    test[j]=[]\n",
    "for i in range (n):\n",
    "    test[0].append(ac[i])\n",
    "    test[1].append(sp[i])\n",
    "    test[2].append(se[i])\n",
    "for i in range (3):\n",
    "    df_k3=pd.concat([df_k3,pd.DataFrame(test[i])],axis=1)\n",
    "df_k3.columns=['Akurasi','Spesitifitas','Sensitivitas']\n",
    "df_k3"
   ]
  },
  {
   "cell_type": "markdown",
   "id": "de86cf66",
   "metadata": {},
   "source": [
    "# C = 0.01"
   ]
  },
  {
   "cell_type": "code",
   "execution_count": 57,
   "id": "91eafa33",
   "metadata": {},
   "outputs": [],
   "source": [
    "from sklearn import svm\n",
    "svm = svm.SVC(class_weight=None, C=0.01, gamma = 0.0001, kernel = 'rbf', random_state=100)\n",
    "n = 5\n",
    "from sklearn.model_selection import StratifiedKFold\n",
    "kf = StratifiedKFold(n_splits = n, random_state = None)\n",
    "#c bisa custom"
   ]
  },
  {
   "cell_type": "code",
   "execution_count": 58,
   "id": "5132a1a7",
   "metadata": {},
   "outputs": [
    {
     "data": {
      "text/plain": [
       "array([0, 0, 0, ..., 0, 0, 0], dtype=int64)"
      ]
     },
     "execution_count": 58,
     "metadata": {},
     "output_type": "execute_result"
    }
   ],
   "source": [
    "svm.fit(x1,y1)\n",
    "y_pred3 = svm.predict(x1)\n",
    "y_pred3"
   ]
  },
  {
   "cell_type": "code",
   "execution_count": 59,
   "id": "9ba342aa",
   "metadata": {},
   "outputs": [],
   "source": [
    "#membuat tempat\n",
    "cm=[]\n",
    "total = []\n",
    "ac = []\n",
    "se = []\n",
    "sp = []"
   ]
  },
  {
   "cell_type": "code",
   "execution_count": 60,
   "id": "102731cc",
   "metadata": {},
   "outputs": [
    {
     "name": "stdout",
     "output_type": "stream",
     "text": [
      "Akurasi :  0.8856106941838648\n",
      "Spesifisitas :  0.0\n",
      "Sensitivitas : 1.0\n"
     ]
    },
    {
     "data": {
      "text/html": [
       "<div>\n",
       "<style scoped>\n",
       "    .dataframe tbody tr th:only-of-type {\n",
       "        vertical-align: middle;\n",
       "    }\n",
       "\n",
       "    .dataframe tbody tr th {\n",
       "        vertical-align: top;\n",
       "    }\n",
       "\n",
       "    .dataframe thead th {\n",
       "        text-align: right;\n",
       "    }\n",
       "</style>\n",
       "<table border=\"1\" class=\"dataframe\">\n",
       "  <thead>\n",
       "    <tr style=\"text-align: right;\">\n",
       "      <th></th>\n",
       "      <th>Akurasi</th>\n",
       "      <th>Spesitifitas</th>\n",
       "      <th>Sensitivitas</th>\n",
       "    </tr>\n",
       "  </thead>\n",
       "  <tbody>\n",
       "    <tr>\n",
       "      <th>0</th>\n",
       "      <td>0.885625</td>\n",
       "      <td>0.0</td>\n",
       "      <td>1.0</td>\n",
       "    </tr>\n",
       "    <tr>\n",
       "      <th>1</th>\n",
       "      <td>0.885625</td>\n",
       "      <td>0.0</td>\n",
       "      <td>1.0</td>\n",
       "    </tr>\n",
       "    <tr>\n",
       "      <th>2</th>\n",
       "      <td>0.885625</td>\n",
       "      <td>0.0</td>\n",
       "      <td>1.0</td>\n",
       "    </tr>\n",
       "    <tr>\n",
       "      <th>3</th>\n",
       "      <td>0.885625</td>\n",
       "      <td>0.0</td>\n",
       "      <td>1.0</td>\n",
       "    </tr>\n",
       "    <tr>\n",
       "      <th>4</th>\n",
       "      <td>0.885553</td>\n",
       "      <td>0.0</td>\n",
       "      <td>1.0</td>\n",
       "    </tr>\n",
       "  </tbody>\n",
       "</table>\n",
       "</div>"
      ],
      "text/plain": [
       "    Akurasi  Spesitifitas  Sensitivitas\n",
       "0  0.885625           0.0           1.0\n",
       "1  0.885625           0.0           1.0\n",
       "2  0.885625           0.0           1.0\n",
       "3  0.885625           0.0           1.0\n",
       "4  0.885553           0.0           1.0"
      ]
     },
     "execution_count": 60,
     "metadata": {},
     "output_type": "execute_result"
    }
   ],
   "source": [
    "for train_index, test_index in kf.split(x1,y1):\n",
    "    x_train_1, x_test_1 = x1[train_index], x1[test_index]\n",
    "    y_train_1, y_test_1 = y1[train_index], y1[test_index]\n",
    "    svm.fit(x_train_1, y_train_1)\n",
    "    y_pred3 = svm.predict(x_test_1)\n",
    "    cm.append((confusion_matrix(y_test_1, y_pred3)).astype(float))\n",
    "for j in range (n):\n",
    "    total.append(sum(sum(cm[j])))\n",
    "    ac.append((cm[j][0,0]+cm[j][1,1])/total[j])\n",
    "    se.append(cm[j][0,0]/(cm[j][0,0]+cm[j][0,1]))\n",
    "    sp.append(cm[j][1,1]/(cm[j][1,0]+cm[j][1,1]))\n",
    "akurasi3=np.mean(ac)\n",
    "spesifisiti3=np.mean(sp)\n",
    "sensitiviti3=np.mean(se)\n",
    "print(\"Akurasi : \",akurasi3)\n",
    "print(\"Spesifisitas : \", spesifisiti3)\n",
    "print(\"Sensitivitas :\", sensitiviti3)\n",
    "\n",
    "\n",
    "#performansi masing masing fold\n",
    "df_k3=pd.DataFrame()\n",
    "test=dict()\n",
    "for j in range (3):\n",
    "    test[j]=[]\n",
    "for i in range (n):\n",
    "    test[0].append(ac[i])\n",
    "    test[1].append(sp[i])\n",
    "    test[2].append(se[i])\n",
    "for i in range (3):\n",
    "    df_k3=pd.concat([df_k3,pd.DataFrame(test[i])],axis=1)\n",
    "df_k3.columns=['Akurasi','Spesitifitas','Sensitivitas']\n",
    "df_k3"
   ]
  },
  {
   "cell_type": "markdown",
   "id": "a7be01c1",
   "metadata": {},
   "source": [
    "# C = 0.1"
   ]
  },
  {
   "cell_type": "code",
   "execution_count": 61,
   "id": "199db4ac",
   "metadata": {},
   "outputs": [],
   "source": [
    "from sklearn import svm\n",
    "svm = svm.SVC(class_weight=None, C=0.1, gamma = 0.0001, kernel = 'rbf', random_state=100)\n",
    "n = 5\n",
    "from sklearn.model_selection import StratifiedKFold\n",
    "kf = StratifiedKFold(n_splits = n, random_state = None)\n",
    "#c bisa custom"
   ]
  },
  {
   "cell_type": "code",
   "execution_count": 62,
   "id": "fe17edc1",
   "metadata": {},
   "outputs": [
    {
     "data": {
      "text/plain": [
       "array([0, 0, 0, ..., 0, 0, 0], dtype=int64)"
      ]
     },
     "execution_count": 62,
     "metadata": {},
     "output_type": "execute_result"
    }
   ],
   "source": [
    "svm.fit(x1,y1)\n",
    "y_pred3 = svm.predict(x1)\n",
    "y_pred3"
   ]
  },
  {
   "cell_type": "code",
   "execution_count": 63,
   "id": "7e807578",
   "metadata": {},
   "outputs": [],
   "source": [
    "#membuat tempat\n",
    "cm=[]\n",
    "total = []\n",
    "ac = []\n",
    "se = []\n",
    "sp = []"
   ]
  },
  {
   "cell_type": "code",
   "execution_count": 64,
   "id": "b4992903",
   "metadata": {},
   "outputs": [
    {
     "name": "stdout",
     "output_type": "stream",
     "text": [
      "Akurasi :  0.8856106941838648\n",
      "Spesifisitas :  0.0\n",
      "Sensitivitas : 1.0\n"
     ]
    },
    {
     "data": {
      "text/html": [
       "<div>\n",
       "<style scoped>\n",
       "    .dataframe tbody tr th:only-of-type {\n",
       "        vertical-align: middle;\n",
       "    }\n",
       "\n",
       "    .dataframe tbody tr th {\n",
       "        vertical-align: top;\n",
       "    }\n",
       "\n",
       "    .dataframe thead th {\n",
       "        text-align: right;\n",
       "    }\n",
       "</style>\n",
       "<table border=\"1\" class=\"dataframe\">\n",
       "  <thead>\n",
       "    <tr style=\"text-align: right;\">\n",
       "      <th></th>\n",
       "      <th>Akurasi</th>\n",
       "      <th>Spesitifitas</th>\n",
       "      <th>Sensitivitas</th>\n",
       "    </tr>\n",
       "  </thead>\n",
       "  <tbody>\n",
       "    <tr>\n",
       "      <th>0</th>\n",
       "      <td>0.885625</td>\n",
       "      <td>0.0</td>\n",
       "      <td>1.0</td>\n",
       "    </tr>\n",
       "    <tr>\n",
       "      <th>1</th>\n",
       "      <td>0.885625</td>\n",
       "      <td>0.0</td>\n",
       "      <td>1.0</td>\n",
       "    </tr>\n",
       "    <tr>\n",
       "      <th>2</th>\n",
       "      <td>0.885625</td>\n",
       "      <td>0.0</td>\n",
       "      <td>1.0</td>\n",
       "    </tr>\n",
       "    <tr>\n",
       "      <th>3</th>\n",
       "      <td>0.885625</td>\n",
       "      <td>0.0</td>\n",
       "      <td>1.0</td>\n",
       "    </tr>\n",
       "    <tr>\n",
       "      <th>4</th>\n",
       "      <td>0.885553</td>\n",
       "      <td>0.0</td>\n",
       "      <td>1.0</td>\n",
       "    </tr>\n",
       "  </tbody>\n",
       "</table>\n",
       "</div>"
      ],
      "text/plain": [
       "    Akurasi  Spesitifitas  Sensitivitas\n",
       "0  0.885625           0.0           1.0\n",
       "1  0.885625           0.0           1.0\n",
       "2  0.885625           0.0           1.0\n",
       "3  0.885625           0.0           1.0\n",
       "4  0.885553           0.0           1.0"
      ]
     },
     "execution_count": 64,
     "metadata": {},
     "output_type": "execute_result"
    }
   ],
   "source": [
    "for train_index, test_index in kf.split(x1,y1):\n",
    "    x_train_1, x_test_1 = x1[train_index], x1[test_index]\n",
    "    y_train_1, y_test_1 = y1[train_index], y1[test_index]\n",
    "    svm.fit(x_train_1, y_train_1)\n",
    "    y_pred3 = svm.predict(x_test_1)\n",
    "    cm.append((confusion_matrix(y_test_1, y_pred3)).astype(float))\n",
    "for j in range (n):\n",
    "    total.append(sum(sum(cm[j])))\n",
    "    ac.append((cm[j][0,0]+cm[j][1,1])/total[j])\n",
    "    se.append(cm[j][0,0]/(cm[j][0,0]+cm[j][0,1]))\n",
    "    sp.append(cm[j][1,1]/(cm[j][1,0]+cm[j][1,1]))\n",
    "akurasi3=np.mean(ac)\n",
    "spesifisiti3=np.mean(sp)\n",
    "sensitiviti3=np.mean(se)\n",
    "print(\"Akurasi : \",akurasi3)\n",
    "print(\"Spesifisitas : \", spesifisiti3)\n",
    "print(\"Sensitivitas :\", sensitiviti3)\n",
    "\n",
    "\n",
    "#performansi masing masing fold\n",
    "df_k3=pd.DataFrame()\n",
    "test=dict()\n",
    "for j in range (3):\n",
    "    test[j]=[]\n",
    "for i in range (n):\n",
    "    test[0].append(ac[i])\n",
    "    test[1].append(sp[i])\n",
    "    test[2].append(se[i])\n",
    "for i in range (3):\n",
    "    df_k3=pd.concat([df_k3,pd.DataFrame(test[i])],axis=1)\n",
    "df_k3.columns=['Akurasi','Spesitifitas','Sensitivitas']\n",
    "df_k3"
   ]
  },
  {
   "cell_type": "markdown",
   "id": "905128f4",
   "metadata": {},
   "source": [
    "# C = 1"
   ]
  },
  {
   "cell_type": "code",
   "execution_count": 65,
   "id": "a3739824",
   "metadata": {},
   "outputs": [],
   "source": [
    "from sklearn import svm\n",
    "svm = svm.SVC(class_weight=None, C=1, gamma = 0.0001, kernel = 'rbf', random_state=100)\n",
    "n = 5\n",
    "from sklearn.model_selection import StratifiedKFold\n",
    "kf = StratifiedKFold(n_splits = n, random_state = None)\n",
    "#c bisa custom"
   ]
  },
  {
   "cell_type": "code",
   "execution_count": 66,
   "id": "7856a21b",
   "metadata": {},
   "outputs": [
    {
     "data": {
      "text/plain": [
       "array([0, 0, 0, ..., 0, 0, 0], dtype=int64)"
      ]
     },
     "execution_count": 66,
     "metadata": {},
     "output_type": "execute_result"
    }
   ],
   "source": [
    "svm.fit(x1,y1)\n",
    "y_pred3 = svm.predict(x1)\n",
    "y_pred3"
   ]
  },
  {
   "cell_type": "code",
   "execution_count": 67,
   "id": "3cfc6430",
   "metadata": {},
   "outputs": [],
   "source": [
    "#membuat tempat\n",
    "cm=[]\n",
    "total = []\n",
    "ac = []\n",
    "se = []\n",
    "sp = []"
   ]
  },
  {
   "cell_type": "code",
   "execution_count": 68,
   "id": "ca60ea0c",
   "metadata": {},
   "outputs": [
    {
     "name": "stdout",
     "output_type": "stream",
     "text": [
      "Akurasi :  0.8856106941838648\n",
      "Spesifisitas :  0.0\n",
      "Sensitivitas : 1.0\n"
     ]
    },
    {
     "data": {
      "text/html": [
       "<div>\n",
       "<style scoped>\n",
       "    .dataframe tbody tr th:only-of-type {\n",
       "        vertical-align: middle;\n",
       "    }\n",
       "\n",
       "    .dataframe tbody tr th {\n",
       "        vertical-align: top;\n",
       "    }\n",
       "\n",
       "    .dataframe thead th {\n",
       "        text-align: right;\n",
       "    }\n",
       "</style>\n",
       "<table border=\"1\" class=\"dataframe\">\n",
       "  <thead>\n",
       "    <tr style=\"text-align: right;\">\n",
       "      <th></th>\n",
       "      <th>Akurasi</th>\n",
       "      <th>Spesitifitas</th>\n",
       "      <th>Sensitivitas</th>\n",
       "    </tr>\n",
       "  </thead>\n",
       "  <tbody>\n",
       "    <tr>\n",
       "      <th>0</th>\n",
       "      <td>0.885625</td>\n",
       "      <td>0.0</td>\n",
       "      <td>1.0</td>\n",
       "    </tr>\n",
       "    <tr>\n",
       "      <th>1</th>\n",
       "      <td>0.885625</td>\n",
       "      <td>0.0</td>\n",
       "      <td>1.0</td>\n",
       "    </tr>\n",
       "    <tr>\n",
       "      <th>2</th>\n",
       "      <td>0.885625</td>\n",
       "      <td>0.0</td>\n",
       "      <td>1.0</td>\n",
       "    </tr>\n",
       "    <tr>\n",
       "      <th>3</th>\n",
       "      <td>0.885625</td>\n",
       "      <td>0.0</td>\n",
       "      <td>1.0</td>\n",
       "    </tr>\n",
       "    <tr>\n",
       "      <th>4</th>\n",
       "      <td>0.885553</td>\n",
       "      <td>0.0</td>\n",
       "      <td>1.0</td>\n",
       "    </tr>\n",
       "  </tbody>\n",
       "</table>\n",
       "</div>"
      ],
      "text/plain": [
       "    Akurasi  Spesitifitas  Sensitivitas\n",
       "0  0.885625           0.0           1.0\n",
       "1  0.885625           0.0           1.0\n",
       "2  0.885625           0.0           1.0\n",
       "3  0.885625           0.0           1.0\n",
       "4  0.885553           0.0           1.0"
      ]
     },
     "execution_count": 68,
     "metadata": {},
     "output_type": "execute_result"
    }
   ],
   "source": [
    "for train_index, test_index in kf.split(x1,y1):\n",
    "    x_train_1, x_test_1 = x1[train_index], x1[test_index]\n",
    "    y_train_1, y_test_1 = y1[train_index], y1[test_index]\n",
    "    svm.fit(x_train_1, y_train_1)\n",
    "    y_pred3 = svm.predict(x_test_1)\n",
    "    cm.append((confusion_matrix(y_test_1, y_pred3)).astype(float))\n",
    "for j in range (n):\n",
    "    total.append(sum(sum(cm[j])))\n",
    "    ac.append((cm[j][0,0]+cm[j][1,1])/total[j])\n",
    "    se.append(cm[j][0,0]/(cm[j][0,0]+cm[j][0,1]))\n",
    "    sp.append(cm[j][1,1]/(cm[j][1,0]+cm[j][1,1]))\n",
    "akurasi3=np.mean(ac)\n",
    "spesifisiti3=np.mean(sp)\n",
    "sensitiviti3=np.mean(se)\n",
    "print(\"Akurasi : \",akurasi3)\n",
    "print(\"Spesifisitas : \", spesifisiti3)\n",
    "print(\"Sensitivitas :\", sensitiviti3)\n",
    "\n",
    "\n",
    "#performansi masing masing fold\n",
    "df_k3=pd.DataFrame()\n",
    "test=dict()\n",
    "for j in range (3):\n",
    "    test[j]=[]\n",
    "for i in range (n):\n",
    "    test[0].append(ac[i])\n",
    "    test[1].append(sp[i])\n",
    "    test[2].append(se[i])\n",
    "for i in range (3):\n",
    "    df_k3=pd.concat([df_k3,pd.DataFrame(test[i])],axis=1)\n",
    "df_k3.columns=['Akurasi','Spesitifitas','Sensitivitas']\n",
    "df_k3"
   ]
  },
  {
   "cell_type": "markdown",
   "id": "7fc13dfe",
   "metadata": {},
   "source": [
    "# C = 10"
   ]
  },
  {
   "cell_type": "code",
   "execution_count": 69,
   "id": "8d29c8d3",
   "metadata": {},
   "outputs": [],
   "source": [
    "from sklearn import svm\n",
    "svm = svm.SVC(class_weight=None, C=10, gamma = 0.0001, kernel = 'rbf', random_state=100)\n",
    "n = 5\n",
    "from sklearn.model_selection import StratifiedKFold\n",
    "kf = StratifiedKFold(n_splits = n, random_state = None)\n",
    "#c bisa custom"
   ]
  },
  {
   "cell_type": "code",
   "execution_count": 70,
   "id": "bbdb7867",
   "metadata": {},
   "outputs": [
    {
     "data": {
      "text/plain": [
       "array([0, 0, 0, ..., 0, 0, 0], dtype=int64)"
      ]
     },
     "execution_count": 70,
     "metadata": {},
     "output_type": "execute_result"
    }
   ],
   "source": [
    "svm.fit(x1,y1)\n",
    "y_pred3 = svm.predict(x1)\n",
    "y_pred3"
   ]
  },
  {
   "cell_type": "code",
   "execution_count": 71,
   "id": "d2fc24cd",
   "metadata": {},
   "outputs": [],
   "source": [
    "#membuat tempat\n",
    "cm=[]\n",
    "total = []\n",
    "ac = []\n",
    "se = []\n",
    "sp = []"
   ]
  },
  {
   "cell_type": "code",
   "execution_count": 72,
   "id": "77e63d10",
   "metadata": {},
   "outputs": [
    {
     "name": "stdout",
     "output_type": "stream",
     "text": [
      "Akurasi :  0.793860694183865\n",
      "Spesifisitas :  0.12568306010928962\n",
      "Sensitivitas : 0.8801693719124912\n"
     ]
    },
    {
     "data": {
      "text/html": [
       "<div>\n",
       "<style scoped>\n",
       "    .dataframe tbody tr th:only-of-type {\n",
       "        vertical-align: middle;\n",
       "    }\n",
       "\n",
       "    .dataframe tbody tr th {\n",
       "        vertical-align: top;\n",
       "    }\n",
       "\n",
       "    .dataframe thead th {\n",
       "        text-align: right;\n",
       "    }\n",
       "</style>\n",
       "<table border=\"1\" class=\"dataframe\">\n",
       "  <thead>\n",
       "    <tr style=\"text-align: right;\">\n",
       "      <th></th>\n",
       "      <th>Akurasi</th>\n",
       "      <th>Spesitifitas</th>\n",
       "      <th>Sensitivitas</th>\n",
       "    </tr>\n",
       "  </thead>\n",
       "  <tbody>\n",
       "    <tr>\n",
       "      <th>0</th>\n",
       "      <td>0.426875</td>\n",
       "      <td>0.628415</td>\n",
       "      <td>0.400847</td>\n",
       "    </tr>\n",
       "    <tr>\n",
       "      <th>1</th>\n",
       "      <td>0.885625</td>\n",
       "      <td>0.000000</td>\n",
       "      <td>1.000000</td>\n",
       "    </tr>\n",
       "    <tr>\n",
       "      <th>2</th>\n",
       "      <td>0.885625</td>\n",
       "      <td>0.000000</td>\n",
       "      <td>1.000000</td>\n",
       "    </tr>\n",
       "    <tr>\n",
       "      <th>3</th>\n",
       "      <td>0.885625</td>\n",
       "      <td>0.000000</td>\n",
       "      <td>1.000000</td>\n",
       "    </tr>\n",
       "    <tr>\n",
       "      <th>4</th>\n",
       "      <td>0.885553</td>\n",
       "      <td>0.000000</td>\n",
       "      <td>1.000000</td>\n",
       "    </tr>\n",
       "  </tbody>\n",
       "</table>\n",
       "</div>"
      ],
      "text/plain": [
       "    Akurasi  Spesitifitas  Sensitivitas\n",
       "0  0.426875      0.628415      0.400847\n",
       "1  0.885625      0.000000      1.000000\n",
       "2  0.885625      0.000000      1.000000\n",
       "3  0.885625      0.000000      1.000000\n",
       "4  0.885553      0.000000      1.000000"
      ]
     },
     "execution_count": 72,
     "metadata": {},
     "output_type": "execute_result"
    }
   ],
   "source": [
    "for train_index, test_index in kf.split(x1,y1):\n",
    "    x_train_1, x_test_1 = x1[train_index], x1[test_index]\n",
    "    y_train_1, y_test_1 = y1[train_index], y1[test_index]\n",
    "    svm.fit(x_train_1, y_train_1)\n",
    "    y_pred3 = svm.predict(x_test_1)\n",
    "    cm.append((confusion_matrix(y_test_1, y_pred3)).astype(float))\n",
    "for j in range (n):\n",
    "    total.append(sum(sum(cm[j])))\n",
    "    ac.append((cm[j][0,0]+cm[j][1,1])/total[j])\n",
    "    se.append(cm[j][0,0]/(cm[j][0,0]+cm[j][0,1]))\n",
    "    sp.append(cm[j][1,1]/(cm[j][1,0]+cm[j][1,1]))\n",
    "akurasi3=np.mean(ac)\n",
    "spesifisiti3=np.mean(sp)\n",
    "sensitiviti3=np.mean(se)\n",
    "print(\"Akurasi : \",akurasi3)\n",
    "print(\"Spesifisitas : \", spesifisiti3)\n",
    "print(\"Sensitivitas :\", sensitiviti3)\n",
    "\n",
    "\n",
    "#performansi masing masing fold\n",
    "df_k3=pd.DataFrame()\n",
    "test=dict()\n",
    "for j in range (3):\n",
    "    test[j]=[]\n",
    "for i in range (n):\n",
    "    test[0].append(ac[i])\n",
    "    test[1].append(sp[i])\n",
    "    test[2].append(se[i])\n",
    "for i in range (3):\n",
    "    df_k3=pd.concat([df_k3,pd.DataFrame(test[i])],axis=1)\n",
    "df_k3.columns=['Akurasi','Spesitifitas','Sensitivitas']\n",
    "df_k3"
   ]
  },
  {
   "cell_type": "markdown",
   "id": "c0529066",
   "metadata": {},
   "source": [
    "# C = 100"
   ]
  },
  {
   "cell_type": "code",
   "execution_count": 73,
   "id": "8b11bf72",
   "metadata": {},
   "outputs": [],
   "source": [
    "from sklearn import svm\n",
    "svm = svm.SVC(class_weight=None, C=100, gamma = 0.0001, kernel = 'rbf', random_state=100)\n",
    "n = 5\n",
    "from sklearn.model_selection import StratifiedKFold\n",
    "kf = StratifiedKFold(n_splits = n, random_state = None)\n",
    "#c bisa custom"
   ]
  },
  {
   "cell_type": "code",
   "execution_count": 74,
   "id": "a650a049",
   "metadata": {},
   "outputs": [
    {
     "data": {
      "text/plain": [
       "array([0, 0, 0, ..., 0, 0, 0], dtype=int64)"
      ]
     },
     "execution_count": 74,
     "metadata": {},
     "output_type": "execute_result"
    }
   ],
   "source": [
    "svm.fit(x1,y1)\n",
    "y_pred3 = svm.predict(x1)\n",
    "y_pred3"
   ]
  },
  {
   "cell_type": "code",
   "execution_count": 75,
   "id": "eb09a4d7",
   "metadata": {},
   "outputs": [],
   "source": [
    "#membuat tempat\n",
    "cm=[]\n",
    "total = []\n",
    "ac = []\n",
    "se = []\n",
    "sp = []"
   ]
  },
  {
   "cell_type": "code",
   "execution_count": 76,
   "id": "5936a328",
   "metadata": {},
   "outputs": [
    {
     "name": "stdout",
     "output_type": "stream",
     "text": [
      "Akurasi :  0.7724856941838649\n",
      "Spesifisitas :  0.15081967213114753\n",
      "Sensitivitas : 0.8527875793930839\n"
     ]
    },
    {
     "data": {
      "text/html": [
       "<div>\n",
       "<style scoped>\n",
       "    .dataframe tbody tr th:only-of-type {\n",
       "        vertical-align: middle;\n",
       "    }\n",
       "\n",
       "    .dataframe tbody tr th {\n",
       "        vertical-align: top;\n",
       "    }\n",
       "\n",
       "    .dataframe thead th {\n",
       "        text-align: right;\n",
       "    }\n",
       "</style>\n",
       "<table border=\"1\" class=\"dataframe\">\n",
       "  <thead>\n",
       "    <tr style=\"text-align: right;\">\n",
       "      <th></th>\n",
       "      <th>Akurasi</th>\n",
       "      <th>Spesitifitas</th>\n",
       "      <th>Sensitivitas</th>\n",
       "    </tr>\n",
       "  </thead>\n",
       "  <tbody>\n",
       "    <tr>\n",
       "      <th>0</th>\n",
       "      <td>0.320000</td>\n",
       "      <td>0.754098</td>\n",
       "      <td>0.263938</td>\n",
       "    </tr>\n",
       "    <tr>\n",
       "      <th>1</th>\n",
       "      <td>0.885625</td>\n",
       "      <td>0.000000</td>\n",
       "      <td>1.000000</td>\n",
       "    </tr>\n",
       "    <tr>\n",
       "      <th>2</th>\n",
       "      <td>0.885625</td>\n",
       "      <td>0.000000</td>\n",
       "      <td>1.000000</td>\n",
       "    </tr>\n",
       "    <tr>\n",
       "      <th>3</th>\n",
       "      <td>0.885625</td>\n",
       "      <td>0.000000</td>\n",
       "      <td>1.000000</td>\n",
       "    </tr>\n",
       "    <tr>\n",
       "      <th>4</th>\n",
       "      <td>0.885553</td>\n",
       "      <td>0.000000</td>\n",
       "      <td>1.000000</td>\n",
       "    </tr>\n",
       "  </tbody>\n",
       "</table>\n",
       "</div>"
      ],
      "text/plain": [
       "    Akurasi  Spesitifitas  Sensitivitas\n",
       "0  0.320000      0.754098      0.263938\n",
       "1  0.885625      0.000000      1.000000\n",
       "2  0.885625      0.000000      1.000000\n",
       "3  0.885625      0.000000      1.000000\n",
       "4  0.885553      0.000000      1.000000"
      ]
     },
     "execution_count": 76,
     "metadata": {},
     "output_type": "execute_result"
    }
   ],
   "source": [
    "for train_index, test_index in kf.split(x1,y1):\n",
    "    x_train_1, x_test_1 = x1[train_index], x1[test_index]\n",
    "    y_train_1, y_test_1 = y1[train_index], y1[test_index]\n",
    "    svm.fit(x_train_1, y_train_1)\n",
    "    y_pred3 = svm.predict(x_test_1)\n",
    "    cm.append((confusion_matrix(y_test_1, y_pred3)).astype(float))\n",
    "for j in range (n):\n",
    "    total.append(sum(sum(cm[j])))\n",
    "    ac.append((cm[j][0,0]+cm[j][1,1])/total[j])\n",
    "    se.append(cm[j][0,0]/(cm[j][0,0]+cm[j][0,1]))\n",
    "    sp.append(cm[j][1,1]/(cm[j][1,0]+cm[j][1,1]))\n",
    "akurasi3=np.mean(ac)\n",
    "spesifisiti3=np.mean(sp)\n",
    "sensitiviti3=np.mean(se)\n",
    "print(\"Akurasi : \",akurasi3)\n",
    "print(\"Spesifisitas : \", spesifisiti3)\n",
    "print(\"Sensitivitas :\", sensitiviti3)\n",
    "\n",
    "\n",
    "#performansi masing masing fold\n",
    "df_k3=pd.DataFrame()\n",
    "test=dict()\n",
    "for j in range (3):\n",
    "    test[j]=[]\n",
    "for i in range (n):\n",
    "    test[0].append(ac[i])\n",
    "    test[1].append(sp[i])\n",
    "    test[2].append(se[i])\n",
    "for i in range (3):\n",
    "    df_k3=pd.concat([df_k3,pd.DataFrame(test[i])],axis=1)\n",
    "df_k3.columns=['Akurasi','Spesitifitas','Sensitivitas']\n",
    "df_k3"
   ]
  },
  {
   "cell_type": "markdown",
   "id": "c48ebd88",
   "metadata": {},
   "source": [
    "# C = 1000"
   ]
  },
  {
   "cell_type": "code",
   "execution_count": 77,
   "id": "005b303a",
   "metadata": {},
   "outputs": [],
   "source": [
    "from sklearn import svm\n",
    "svm = svm.SVC(class_weight=None, C=1000, gamma = 0.0001, kernel = 'rbf', random_state=100)\n",
    "n = 5\n",
    "from sklearn.model_selection import StratifiedKFold\n",
    "kf = StratifiedKFold(n_splits = n, random_state = None)\n",
    "#c bisa custom"
   ]
  },
  {
   "cell_type": "code",
   "execution_count": 78,
   "id": "f9941759",
   "metadata": {},
   "outputs": [
    {
     "data": {
      "text/plain": [
       "array([0, 0, 0, ..., 0, 0, 0], dtype=int64)"
      ]
     },
     "execution_count": 78,
     "metadata": {},
     "output_type": "execute_result"
    }
   ],
   "source": [
    "svm.fit(x1,y1)\n",
    "y_pred3 = svm.predict(x1)\n",
    "y_pred3"
   ]
  },
  {
   "cell_type": "code",
   "execution_count": 79,
   "id": "cade94a6",
   "metadata": {},
   "outputs": [],
   "source": [
    "#membuat tempat\n",
    "cm=[]\n",
    "total = []\n",
    "ac = []\n",
    "se = []\n",
    "sp = []"
   ]
  },
  {
   "cell_type": "code",
   "execution_count": 80,
   "id": "8c29660e",
   "metadata": {},
   "outputs": [
    {
     "name": "stdout",
     "output_type": "stream",
     "text": [
      "Akurasi :  0.762985694183865\n",
      "Spesifisitas :  0.17049180327868851\n",
      "Sensitivitas : 0.8395201129146084\n"
     ]
    },
    {
     "data": {
      "text/html": [
       "<div>\n",
       "<style scoped>\n",
       "    .dataframe tbody tr th:only-of-type {\n",
       "        vertical-align: middle;\n",
       "    }\n",
       "\n",
       "    .dataframe tbody tr th {\n",
       "        vertical-align: top;\n",
       "    }\n",
       "\n",
       "    .dataframe thead th {\n",
       "        text-align: right;\n",
       "    }\n",
       "</style>\n",
       "<table border=\"1\" class=\"dataframe\">\n",
       "  <thead>\n",
       "    <tr style=\"text-align: right;\">\n",
       "      <th></th>\n",
       "      <th>Akurasi</th>\n",
       "      <th>Spesitifitas</th>\n",
       "      <th>Sensitivitas</th>\n",
       "    </tr>\n",
       "  </thead>\n",
       "  <tbody>\n",
       "    <tr>\n",
       "      <th>0</th>\n",
       "      <td>0.272500</td>\n",
       "      <td>0.852459</td>\n",
       "      <td>0.197601</td>\n",
       "    </tr>\n",
       "    <tr>\n",
       "      <th>1</th>\n",
       "      <td>0.885625</td>\n",
       "      <td>0.000000</td>\n",
       "      <td>1.000000</td>\n",
       "    </tr>\n",
       "    <tr>\n",
       "      <th>2</th>\n",
       "      <td>0.885625</td>\n",
       "      <td>0.000000</td>\n",
       "      <td>1.000000</td>\n",
       "    </tr>\n",
       "    <tr>\n",
       "      <th>3</th>\n",
       "      <td>0.885625</td>\n",
       "      <td>0.000000</td>\n",
       "      <td>1.000000</td>\n",
       "    </tr>\n",
       "    <tr>\n",
       "      <th>4</th>\n",
       "      <td>0.885553</td>\n",
       "      <td>0.000000</td>\n",
       "      <td>1.000000</td>\n",
       "    </tr>\n",
       "  </tbody>\n",
       "</table>\n",
       "</div>"
      ],
      "text/plain": [
       "    Akurasi  Spesitifitas  Sensitivitas\n",
       "0  0.272500      0.852459      0.197601\n",
       "1  0.885625      0.000000      1.000000\n",
       "2  0.885625      0.000000      1.000000\n",
       "3  0.885625      0.000000      1.000000\n",
       "4  0.885553      0.000000      1.000000"
      ]
     },
     "execution_count": 80,
     "metadata": {},
     "output_type": "execute_result"
    }
   ],
   "source": [
    "for train_index, test_index in kf.split(x1,y1):\n",
    "    x_train_1, x_test_1 = x1[train_index], x1[test_index]\n",
    "    y_train_1, y_test_1 = y1[train_index], y1[test_index]\n",
    "    svm.fit(x_train_1, y_train_1)\n",
    "    y_pred3 = svm.predict(x_test_1)\n",
    "    cm.append((confusion_matrix(y_test_1, y_pred3)).astype(float))\n",
    "for j in range (n):\n",
    "    total.append(sum(sum(cm[j])))\n",
    "    ac.append((cm[j][0,0]+cm[j][1,1])/total[j])\n",
    "    se.append(cm[j][0,0]/(cm[j][0,0]+cm[j][0,1]))\n",
    "    sp.append(cm[j][1,1]/(cm[j][1,0]+cm[j][1,1]))\n",
    "akurasi3=np.mean(ac)\n",
    "spesifisiti3=np.mean(sp)\n",
    "sensitiviti3=np.mean(se)\n",
    "print(\"Akurasi : \",akurasi3)\n",
    "print(\"Spesifisitas : \", spesifisiti3)\n",
    "print(\"Sensitivitas :\", sensitiviti3)\n",
    "\n",
    "\n",
    "#performansi masing masing fold\n",
    "df_k3=pd.DataFrame()\n",
    "test=dict()\n",
    "for j in range (3):\n",
    "    test[j]=[]\n",
    "for i in range (n):\n",
    "    test[0].append(ac[i])\n",
    "    test[1].append(sp[i])\n",
    "    test[2].append(se[i])\n",
    "for i in range (3):\n",
    "    df_k3=pd.concat([df_k3,pd.DataFrame(test[i])],axis=1)\n",
    "df_k3.columns=['Akurasi','Spesitifitas','Sensitivitas']\n",
    "df_k3"
   ]
  },
  {
   "cell_type": "markdown",
   "id": "b5a2f142",
   "metadata": {},
   "source": [
    "# C = 10000"
   ]
  },
  {
   "cell_type": "code",
   "execution_count": 81,
   "id": "fb236d12",
   "metadata": {},
   "outputs": [],
   "source": [
    "from sklearn import svm\n",
    "svm = svm.SVC(class_weight=None, C=10000, gamma = 0.0001, kernel = 'rbf', random_state=100)\n",
    "n = 5\n",
    "from sklearn.model_selection import StratifiedKFold\n",
    "kf = StratifiedKFold(n_splits = n, random_state = None)\n",
    "#c bisa custom"
   ]
  },
  {
   "cell_type": "code",
   "execution_count": 82,
   "id": "d0ebea66",
   "metadata": {},
   "outputs": [
    {
     "data": {
      "text/plain": [
       "array([0, 0, 0, ..., 0, 0, 0], dtype=int64)"
      ]
     },
     "execution_count": 82,
     "metadata": {},
     "output_type": "execute_result"
    }
   ],
   "source": [
    "svm.fit(x1,y1)\n",
    "y_pred3 = svm.predict(x1)\n",
    "y_pred3"
   ]
  },
  {
   "cell_type": "code",
   "execution_count": 83,
   "id": "59f73a91",
   "metadata": {},
   "outputs": [],
   "source": [
    "#membuat tempat\n",
    "cm=[]\n",
    "total = []\n",
    "ac = []\n",
    "se = []\n",
    "sp = []"
   ]
  },
  {
   "cell_type": "code",
   "execution_count": 84,
   "id": "c117312a",
   "metadata": {},
   "outputs": [
    {
     "name": "stdout",
     "output_type": "stream",
     "text": [
      "Akurasi :  0.7614856941838649\n",
      "Spesifisitas :  0.17267759562841528\n",
      "Sensitivitas : 0.837544107268878\n"
     ]
    },
    {
     "data": {
      "text/html": [
       "<div>\n",
       "<style scoped>\n",
       "    .dataframe tbody tr th:only-of-type {\n",
       "        vertical-align: middle;\n",
       "    }\n",
       "\n",
       "    .dataframe tbody tr th {\n",
       "        vertical-align: top;\n",
       "    }\n",
       "\n",
       "    .dataframe thead th {\n",
       "        text-align: right;\n",
       "    }\n",
       "</style>\n",
       "<table border=\"1\" class=\"dataframe\">\n",
       "  <thead>\n",
       "    <tr style=\"text-align: right;\">\n",
       "      <th></th>\n",
       "      <th>Akurasi</th>\n",
       "      <th>Spesitifitas</th>\n",
       "      <th>Sensitivitas</th>\n",
       "    </tr>\n",
       "  </thead>\n",
       "  <tbody>\n",
       "    <tr>\n",
       "      <th>0</th>\n",
       "      <td>0.265000</td>\n",
       "      <td>0.863388</td>\n",
       "      <td>0.187721</td>\n",
       "    </tr>\n",
       "    <tr>\n",
       "      <th>1</th>\n",
       "      <td>0.885625</td>\n",
       "      <td>0.000000</td>\n",
       "      <td>1.000000</td>\n",
       "    </tr>\n",
       "    <tr>\n",
       "      <th>2</th>\n",
       "      <td>0.885625</td>\n",
       "      <td>0.000000</td>\n",
       "      <td>1.000000</td>\n",
       "    </tr>\n",
       "    <tr>\n",
       "      <th>3</th>\n",
       "      <td>0.885625</td>\n",
       "      <td>0.000000</td>\n",
       "      <td>1.000000</td>\n",
       "    </tr>\n",
       "    <tr>\n",
       "      <th>4</th>\n",
       "      <td>0.885553</td>\n",
       "      <td>0.000000</td>\n",
       "      <td>1.000000</td>\n",
       "    </tr>\n",
       "  </tbody>\n",
       "</table>\n",
       "</div>"
      ],
      "text/plain": [
       "    Akurasi  Spesitifitas  Sensitivitas\n",
       "0  0.265000      0.863388      0.187721\n",
       "1  0.885625      0.000000      1.000000\n",
       "2  0.885625      0.000000      1.000000\n",
       "3  0.885625      0.000000      1.000000\n",
       "4  0.885553      0.000000      1.000000"
      ]
     },
     "execution_count": 84,
     "metadata": {},
     "output_type": "execute_result"
    }
   ],
   "source": [
    "for train_index, test_index in kf.split(x1,y1):\n",
    "    x_train_1, x_test_1 = x1[train_index], x1[test_index]\n",
    "    y_train_1, y_test_1 = y1[train_index], y1[test_index]\n",
    "    svm.fit(x_train_1, y_train_1)\n",
    "    y_pred3 = svm.predict(x_test_1)\n",
    "    cm.append((confusion_matrix(y_test_1, y_pred3)).astype(float))\n",
    "for j in range (n):\n",
    "    total.append(sum(sum(cm[j])))\n",
    "    ac.append((cm[j][0,0]+cm[j][1,1])/total[j])\n",
    "    se.append(cm[j][0,0]/(cm[j][0,0]+cm[j][0,1]))\n",
    "    sp.append(cm[j][1,1]/(cm[j][1,0]+cm[j][1,1]))\n",
    "akurasi3=np.mean(ac)\n",
    "spesifisiti3=np.mean(sp)\n",
    "sensitiviti3=np.mean(se)\n",
    "print(\"Akurasi : \",akurasi3)\n",
    "print(\"Spesifisitas : \", spesifisiti3)\n",
    "print(\"Sensitivitas :\", sensitiviti3)\n",
    "\n",
    "\n",
    "#performansi masing masing fold\n",
    "df_k3=pd.DataFrame()\n",
    "test=dict()\n",
    "for j in range (3):\n",
    "    test[j]=[]\n",
    "for i in range (n):\n",
    "    test[0].append(ac[i])\n",
    "    test[1].append(sp[i])\n",
    "    test[2].append(se[i])\n",
    "for i in range (3):\n",
    "    df_k3=pd.concat([df_k3,pd.DataFrame(test[i])],axis=1)\n",
    "df_k3.columns=['Akurasi','Spesitifitas','Sensitivitas']\n",
    "df_k3"
   ]
  },
  {
   "cell_type": "markdown",
   "id": "b27fbcb2",
   "metadata": {},
   "source": [
    "# Membandingkan nilai Gamma dengan C = 1"
   ]
  },
  {
   "cell_type": "markdown",
   "id": "531f01e8",
   "metadata": {},
   "source": [
    "# Gamma = 0.0001"
   ]
  },
  {
   "cell_type": "code",
   "execution_count": 85,
   "id": "05b336c6",
   "metadata": {},
   "outputs": [],
   "source": [
    "from sklearn import svm\n",
    "svm = svm.SVC(class_weight=None, C=1, gamma = 0.0001, kernel = 'rbf', random_state=100)\n",
    "n = 5\n",
    "from sklearn.model_selection import StratifiedKFold\n",
    "kf = StratifiedKFold(n_splits = n, random_state = None)\n",
    "#c bisa custom"
   ]
  },
  {
   "cell_type": "code",
   "execution_count": 86,
   "id": "8f3393fc",
   "metadata": {},
   "outputs": [
    {
     "data": {
      "text/plain": [
       "array([0, 0, 0, ..., 0, 0, 0], dtype=int64)"
      ]
     },
     "execution_count": 86,
     "metadata": {},
     "output_type": "execute_result"
    }
   ],
   "source": [
    "svm.fit(x1,y1)\n",
    "y_pred3 = svm.predict(x1)\n",
    "y_pred3"
   ]
  },
  {
   "cell_type": "code",
   "execution_count": 87,
   "id": "95a0e1c6",
   "metadata": {},
   "outputs": [],
   "source": [
    "#membuat tempat\n",
    "cm=[]\n",
    "total = []\n",
    "ac = []\n",
    "se = []\n",
    "sp = []"
   ]
  },
  {
   "cell_type": "code",
   "execution_count": 88,
   "id": "110a48d3",
   "metadata": {},
   "outputs": [
    {
     "name": "stdout",
     "output_type": "stream",
     "text": [
      "Akurasi :  0.8856106941838648\n",
      "Spesifisitas :  0.0\n",
      "Sensitivitas : 1.0\n"
     ]
    },
    {
     "data": {
      "text/html": [
       "<div>\n",
       "<style scoped>\n",
       "    .dataframe tbody tr th:only-of-type {\n",
       "        vertical-align: middle;\n",
       "    }\n",
       "\n",
       "    .dataframe tbody tr th {\n",
       "        vertical-align: top;\n",
       "    }\n",
       "\n",
       "    .dataframe thead th {\n",
       "        text-align: right;\n",
       "    }\n",
       "</style>\n",
       "<table border=\"1\" class=\"dataframe\">\n",
       "  <thead>\n",
       "    <tr style=\"text-align: right;\">\n",
       "      <th></th>\n",
       "      <th>Akurasi</th>\n",
       "      <th>Spesitifitas</th>\n",
       "      <th>Sensitivitas</th>\n",
       "    </tr>\n",
       "  </thead>\n",
       "  <tbody>\n",
       "    <tr>\n",
       "      <th>0</th>\n",
       "      <td>0.885625</td>\n",
       "      <td>0.0</td>\n",
       "      <td>1.0</td>\n",
       "    </tr>\n",
       "    <tr>\n",
       "      <th>1</th>\n",
       "      <td>0.885625</td>\n",
       "      <td>0.0</td>\n",
       "      <td>1.0</td>\n",
       "    </tr>\n",
       "    <tr>\n",
       "      <th>2</th>\n",
       "      <td>0.885625</td>\n",
       "      <td>0.0</td>\n",
       "      <td>1.0</td>\n",
       "    </tr>\n",
       "    <tr>\n",
       "      <th>3</th>\n",
       "      <td>0.885625</td>\n",
       "      <td>0.0</td>\n",
       "      <td>1.0</td>\n",
       "    </tr>\n",
       "    <tr>\n",
       "      <th>4</th>\n",
       "      <td>0.885553</td>\n",
       "      <td>0.0</td>\n",
       "      <td>1.0</td>\n",
       "    </tr>\n",
       "  </tbody>\n",
       "</table>\n",
       "</div>"
      ],
      "text/plain": [
       "    Akurasi  Spesitifitas  Sensitivitas\n",
       "0  0.885625           0.0           1.0\n",
       "1  0.885625           0.0           1.0\n",
       "2  0.885625           0.0           1.0\n",
       "3  0.885625           0.0           1.0\n",
       "4  0.885553           0.0           1.0"
      ]
     },
     "execution_count": 88,
     "metadata": {},
     "output_type": "execute_result"
    }
   ],
   "source": [
    "for train_index, test_index in kf.split(x1,y1):\n",
    "    x_train_1, x_test_1 = x1[train_index], x1[test_index]\n",
    "    y_train_1, y_test_1 = y1[train_index], y1[test_index]\n",
    "    svm.fit(x_train_1, y_train_1)\n",
    "    y_pred3 = svm.predict(x_test_1)\n",
    "    cm.append((confusion_matrix(y_test_1, y_pred3)).astype(float))\n",
    "for j in range (n):\n",
    "    total.append(sum(sum(cm[j])))\n",
    "    ac.append((cm[j][0,0]+cm[j][1,1])/total[j])\n",
    "    se.append(cm[j][0,0]/(cm[j][0,0]+cm[j][0,1]))\n",
    "    sp.append(cm[j][1,1]/(cm[j][1,0]+cm[j][1,1]))\n",
    "akurasi3=np.mean(ac)\n",
    "spesifisiti3=np.mean(sp)\n",
    "sensitiviti3=np.mean(se)\n",
    "print(\"Akurasi : \",akurasi3)\n",
    "print(\"Spesifisitas : \", spesifisiti3)\n",
    "print(\"Sensitivitas :\", sensitiviti3)\n",
    "\n",
    "\n",
    "#performansi masing masing fold\n",
    "df_k3=pd.DataFrame()\n",
    "test=dict()\n",
    "for j in range (3):\n",
    "    test[j]=[]\n",
    "for i in range (n):\n",
    "    test[0].append(ac[i])\n",
    "    test[1].append(sp[i])\n",
    "    test[2].append(se[i])\n",
    "for i in range (3):\n",
    "    df_k3=pd.concat([df_k3,pd.DataFrame(test[i])],axis=1)\n",
    "df_k3.columns=['Akurasi','Spesitifitas','Sensitivitas']\n",
    "df_k3"
   ]
  },
  {
   "cell_type": "markdown",
   "id": "7389a1b9",
   "metadata": {},
   "source": [
    "# Gamma = 0.001"
   ]
  },
  {
   "cell_type": "code",
   "execution_count": 89,
   "id": "37a481f3",
   "metadata": {},
   "outputs": [],
   "source": [
    "from sklearn import svm\n",
    "svm = svm.SVC(class_weight=None, C=1, gamma = 0.001, kernel = 'rbf', random_state=100)\n",
    "n = 5\n",
    "from sklearn.model_selection import StratifiedKFold\n",
    "kf = StratifiedKFold(n_splits = n, random_state = None)\n",
    "#c bisa custom"
   ]
  },
  {
   "cell_type": "code",
   "execution_count": 90,
   "id": "f219aabe",
   "metadata": {},
   "outputs": [
    {
     "data": {
      "text/plain": [
       "array([0, 0, 0, ..., 0, 0, 0], dtype=int64)"
      ]
     },
     "execution_count": 90,
     "metadata": {},
     "output_type": "execute_result"
    }
   ],
   "source": [
    "svm.fit(x1,y1)\n",
    "y_pred3 = svm.predict(x1)\n",
    "y_pred3"
   ]
  },
  {
   "cell_type": "code",
   "execution_count": 91,
   "id": "25de0b0f",
   "metadata": {},
   "outputs": [],
   "source": [
    "#membuat tempat\n",
    "cm=[]\n",
    "total = []\n",
    "ac = []\n",
    "se = []\n",
    "sp = []"
   ]
  },
  {
   "cell_type": "code",
   "execution_count": 92,
   "id": "9e3d11fe",
   "metadata": {},
   "outputs": [
    {
     "name": "stdout",
     "output_type": "stream",
     "text": [
      "Akurasi :  0.793985694183865\n",
      "Spesifisitas :  0.12459016393442623\n",
      "Sensitivitas : 0.8804516584333097\n"
     ]
    },
    {
     "data": {
      "text/html": [
       "<div>\n",
       "<style scoped>\n",
       "    .dataframe tbody tr th:only-of-type {\n",
       "        vertical-align: middle;\n",
       "    }\n",
       "\n",
       "    .dataframe tbody tr th {\n",
       "        vertical-align: top;\n",
       "    }\n",
       "\n",
       "    .dataframe thead th {\n",
       "        text-align: right;\n",
       "    }\n",
       "</style>\n",
       "<table border=\"1\" class=\"dataframe\">\n",
       "  <thead>\n",
       "    <tr style=\"text-align: right;\">\n",
       "      <th></th>\n",
       "      <th>Akurasi</th>\n",
       "      <th>Spesitifitas</th>\n",
       "      <th>Sensitivitas</th>\n",
       "    </tr>\n",
       "  </thead>\n",
       "  <tbody>\n",
       "    <tr>\n",
       "      <th>0</th>\n",
       "      <td>0.427500</td>\n",
       "      <td>0.622951</td>\n",
       "      <td>0.402258</td>\n",
       "    </tr>\n",
       "    <tr>\n",
       "      <th>1</th>\n",
       "      <td>0.885625</td>\n",
       "      <td>0.000000</td>\n",
       "      <td>1.000000</td>\n",
       "    </tr>\n",
       "    <tr>\n",
       "      <th>2</th>\n",
       "      <td>0.885625</td>\n",
       "      <td>0.000000</td>\n",
       "      <td>1.000000</td>\n",
       "    </tr>\n",
       "    <tr>\n",
       "      <th>3</th>\n",
       "      <td>0.885625</td>\n",
       "      <td>0.000000</td>\n",
       "      <td>1.000000</td>\n",
       "    </tr>\n",
       "    <tr>\n",
       "      <th>4</th>\n",
       "      <td>0.885553</td>\n",
       "      <td>0.000000</td>\n",
       "      <td>1.000000</td>\n",
       "    </tr>\n",
       "  </tbody>\n",
       "</table>\n",
       "</div>"
      ],
      "text/plain": [
       "    Akurasi  Spesitifitas  Sensitivitas\n",
       "0  0.427500      0.622951      0.402258\n",
       "1  0.885625      0.000000      1.000000\n",
       "2  0.885625      0.000000      1.000000\n",
       "3  0.885625      0.000000      1.000000\n",
       "4  0.885553      0.000000      1.000000"
      ]
     },
     "execution_count": 92,
     "metadata": {},
     "output_type": "execute_result"
    }
   ],
   "source": [
    "for train_index, test_index in kf.split(x1,y1):\n",
    "    x_train_1, x_test_1 = x1[train_index], x1[test_index]\n",
    "    y_train_1, y_test_1 = y1[train_index], y1[test_index]\n",
    "    svm.fit(x_train_1, y_train_1)\n",
    "    y_pred3 = svm.predict(x_test_1)\n",
    "    cm.append((confusion_matrix(y_test_1, y_pred3)).astype(float))\n",
    "for j in range (n):\n",
    "    total.append(sum(sum(cm[j])))\n",
    "    ac.append((cm[j][0,0]+cm[j][1,1])/total[j])\n",
    "    se.append(cm[j][0,0]/(cm[j][0,0]+cm[j][0,1]))\n",
    "    sp.append(cm[j][1,1]/(cm[j][1,0]+cm[j][1,1]))\n",
    "akurasi3=np.mean(ac)\n",
    "spesifisiti3=np.mean(sp)\n",
    "sensitiviti3=np.mean(se)\n",
    "print(\"Akurasi : \",akurasi3)\n",
    "print(\"Spesifisitas : \", spesifisiti3)\n",
    "print(\"Sensitivitas :\", sensitiviti3)\n",
    "\n",
    "\n",
    "#performansi masing masing fold\n",
    "df_k3=pd.DataFrame()\n",
    "test=dict()\n",
    "for j in range (3):\n",
    "    test[j]=[]\n",
    "for i in range (n):\n",
    "    test[0].append(ac[i])\n",
    "    test[1].append(sp[i])\n",
    "    test[2].append(se[i])\n",
    "for i in range (3):\n",
    "    df_k3=pd.concat([df_k3,pd.DataFrame(test[i])],axis=1)\n",
    "df_k3.columns=['Akurasi','Spesitifitas','Sensitivitas']\n",
    "df_k3"
   ]
  },
  {
   "cell_type": "markdown",
   "id": "4f614e88",
   "metadata": {},
   "source": [
    "# Gamma = 0.01"
   ]
  },
  {
   "cell_type": "code",
   "execution_count": 93,
   "id": "5d15820a",
   "metadata": {},
   "outputs": [],
   "source": [
    "from sklearn import svm\n",
    "svm = svm.SVC(class_weight=None, C=1, gamma = 0.01, kernel = 'rbf', random_state=100)\n",
    "n = 5\n",
    "from sklearn.model_selection import StratifiedKFold\n",
    "kf = StratifiedKFold(n_splits = n, random_state = None)\n",
    "#c bisa custom"
   ]
  },
  {
   "cell_type": "code",
   "execution_count": 94,
   "id": "e4c1131f",
   "metadata": {},
   "outputs": [
    {
     "data": {
      "text/plain": [
       "array([0, 0, 0, ..., 0, 0, 0], dtype=int64)"
      ]
     },
     "execution_count": 94,
     "metadata": {},
     "output_type": "execute_result"
    }
   ],
   "source": [
    "svm.fit(x1,y1)\n",
    "y_pred3 = svm.predict(x1)\n",
    "y_pred3"
   ]
  },
  {
   "cell_type": "code",
   "execution_count": 95,
   "id": "0a8e4290",
   "metadata": {},
   "outputs": [],
   "source": [
    "#membuat tempat\n",
    "cm=[]\n",
    "total = []\n",
    "ac = []\n",
    "se = []\n",
    "sp = []"
   ]
  },
  {
   "cell_type": "code",
   "execution_count": 96,
   "id": "9a5c4a70",
   "metadata": {},
   "outputs": [
    {
     "name": "stdout",
     "output_type": "stream",
     "text": [
      "Akurasi :  0.7738606941838649\n",
      "Spesifisitas :  0.1519125683060109\n",
      "Sensitivitas : 0.8541990119971772\n"
     ]
    },
    {
     "data": {
      "text/html": [
       "<div>\n",
       "<style scoped>\n",
       "    .dataframe tbody tr th:only-of-type {\n",
       "        vertical-align: middle;\n",
       "    }\n",
       "\n",
       "    .dataframe tbody tr th {\n",
       "        vertical-align: top;\n",
       "    }\n",
       "\n",
       "    .dataframe thead th {\n",
       "        text-align: right;\n",
       "    }\n",
       "</style>\n",
       "<table border=\"1\" class=\"dataframe\">\n",
       "  <thead>\n",
       "    <tr style=\"text-align: right;\">\n",
       "      <th></th>\n",
       "      <th>Akurasi</th>\n",
       "      <th>Spesitifitas</th>\n",
       "      <th>Sensitivitas</th>\n",
       "    </tr>\n",
       "  </thead>\n",
       "  <tbody>\n",
       "    <tr>\n",
       "      <th>0</th>\n",
       "      <td>0.326875</td>\n",
       "      <td>0.759563</td>\n",
       "      <td>0.270995</td>\n",
       "    </tr>\n",
       "    <tr>\n",
       "      <th>1</th>\n",
       "      <td>0.885625</td>\n",
       "      <td>0.000000</td>\n",
       "      <td>1.000000</td>\n",
       "    </tr>\n",
       "    <tr>\n",
       "      <th>2</th>\n",
       "      <td>0.885625</td>\n",
       "      <td>0.000000</td>\n",
       "      <td>1.000000</td>\n",
       "    </tr>\n",
       "    <tr>\n",
       "      <th>3</th>\n",
       "      <td>0.885625</td>\n",
       "      <td>0.000000</td>\n",
       "      <td>1.000000</td>\n",
       "    </tr>\n",
       "    <tr>\n",
       "      <th>4</th>\n",
       "      <td>0.885553</td>\n",
       "      <td>0.000000</td>\n",
       "      <td>1.000000</td>\n",
       "    </tr>\n",
       "  </tbody>\n",
       "</table>\n",
       "</div>"
      ],
      "text/plain": [
       "    Akurasi  Spesitifitas  Sensitivitas\n",
       "0  0.326875      0.759563      0.270995\n",
       "1  0.885625      0.000000      1.000000\n",
       "2  0.885625      0.000000      1.000000\n",
       "3  0.885625      0.000000      1.000000\n",
       "4  0.885553      0.000000      1.000000"
      ]
     },
     "execution_count": 96,
     "metadata": {},
     "output_type": "execute_result"
    }
   ],
   "source": [
    "for train_index, test_index in kf.split(x1,y1):\n",
    "    x_train_1, x_test_1 = x1[train_index], x1[test_index]\n",
    "    y_train_1, y_test_1 = y1[train_index], y1[test_index]\n",
    "    svm.fit(x_train_1, y_train_1)\n",
    "    y_pred3 = svm.predict(x_test_1)\n",
    "    cm.append((confusion_matrix(y_test_1, y_pred3)).astype(float))\n",
    "for j in range (n):\n",
    "    total.append(sum(sum(cm[j])))\n",
    "    ac.append((cm[j][0,0]+cm[j][1,1])/total[j])\n",
    "    se.append(cm[j][0,0]/(cm[j][0,0]+cm[j][0,1]))\n",
    "    sp.append(cm[j][1,1]/(cm[j][1,0]+cm[j][1,1]))\n",
    "akurasi3=np.mean(ac)\n",
    "spesifisiti3=np.mean(sp)\n",
    "sensitiviti3=np.mean(se)\n",
    "print(\"Akurasi : \",akurasi3)\n",
    "print(\"Spesifisitas : \", spesifisiti3)\n",
    "print(\"Sensitivitas :\", sensitiviti3)\n",
    "\n",
    "\n",
    "#performansi masing masing fold\n",
    "df_k3=pd.DataFrame()\n",
    "test=dict()\n",
    "for j in range (3):\n",
    "    test[j]=[]\n",
    "for i in range (n):\n",
    "    test[0].append(ac[i])\n",
    "    test[1].append(sp[i])\n",
    "    test[2].append(se[i])\n",
    "for i in range (3):\n",
    "    df_k3=pd.concat([df_k3,pd.DataFrame(test[i])],axis=1)\n",
    "df_k3.columns=['Akurasi','Spesitifitas','Sensitivitas']\n",
    "df_k3"
   ]
  },
  {
   "cell_type": "markdown",
   "id": "84e1bc16",
   "metadata": {},
   "source": [
    "# Gamma = 0.1"
   ]
  },
  {
   "cell_type": "code",
   "execution_count": 97,
   "id": "ea157243",
   "metadata": {},
   "outputs": [],
   "source": [
    "from sklearn import svm\n",
    "svm = svm.SVC(class_weight=None, C=1, gamma = 0.1, kernel = 'rbf', random_state=100)\n",
    "n = 5\n",
    "from sklearn.model_selection import StratifiedKFold\n",
    "kf = StratifiedKFold(n_splits = n, random_state = None)\n",
    "#c bisa custom"
   ]
  },
  {
   "cell_type": "code",
   "execution_count": 98,
   "id": "f90b905d",
   "metadata": {},
   "outputs": [
    {
     "data": {
      "text/plain": [
       "array([1, 1, 0, ..., 0, 0, 0], dtype=int64)"
      ]
     },
     "execution_count": 98,
     "metadata": {},
     "output_type": "execute_result"
    }
   ],
   "source": [
    "svm.fit(x1,y1)\n",
    "y_pred3 = svm.predict(x1)\n",
    "y_pred3"
   ]
  },
  {
   "cell_type": "code",
   "execution_count": 99,
   "id": "f5073e5e",
   "metadata": {},
   "outputs": [],
   "source": [
    "#membuat tempat\n",
    "cm=[]\n",
    "total = []\n",
    "ac = []\n",
    "se = []\n",
    "sp = []"
   ]
  },
  {
   "cell_type": "code",
   "execution_count": 100,
   "id": "4eb68849",
   "metadata": {},
   "outputs": [
    {
     "name": "stdout",
     "output_type": "stream",
     "text": [
      "Akurasi :  0.7853606941838649\n",
      "Spesifisitas :  0.2983606557377049\n",
      "Sensitivitas : 0.8482709950599858\n"
     ]
    },
    {
     "data": {
      "text/html": [
       "<div>\n",
       "<style scoped>\n",
       "    .dataframe tbody tr th:only-of-type {\n",
       "        vertical-align: middle;\n",
       "    }\n",
       "\n",
       "    .dataframe tbody tr th {\n",
       "        vertical-align: top;\n",
       "    }\n",
       "\n",
       "    .dataframe thead th {\n",
       "        text-align: right;\n",
       "    }\n",
       "</style>\n",
       "<table border=\"1\" class=\"dataframe\">\n",
       "  <thead>\n",
       "    <tr style=\"text-align: right;\">\n",
       "      <th></th>\n",
       "      <th>Akurasi</th>\n",
       "      <th>Spesitifitas</th>\n",
       "      <th>Sensitivitas</th>\n",
       "    </tr>\n",
       "  </thead>\n",
       "  <tbody>\n",
       "    <tr>\n",
       "      <th>0</th>\n",
       "      <td>0.310000</td>\n",
       "      <td>0.830601</td>\n",
       "      <td>0.242766</td>\n",
       "    </tr>\n",
       "    <tr>\n",
       "      <th>1</th>\n",
       "      <td>0.906875</td>\n",
       "      <td>0.196721</td>\n",
       "      <td>0.998589</td>\n",
       "    </tr>\n",
       "    <tr>\n",
       "      <th>2</th>\n",
       "      <td>0.913750</td>\n",
       "      <td>0.245902</td>\n",
       "      <td>1.000000</td>\n",
       "    </tr>\n",
       "    <tr>\n",
       "      <th>3</th>\n",
       "      <td>0.910625</td>\n",
       "      <td>0.218579</td>\n",
       "      <td>1.000000</td>\n",
       "    </tr>\n",
       "    <tr>\n",
       "      <th>4</th>\n",
       "      <td>0.885553</td>\n",
       "      <td>0.000000</td>\n",
       "      <td>1.000000</td>\n",
       "    </tr>\n",
       "  </tbody>\n",
       "</table>\n",
       "</div>"
      ],
      "text/plain": [
       "    Akurasi  Spesitifitas  Sensitivitas\n",
       "0  0.310000      0.830601      0.242766\n",
       "1  0.906875      0.196721      0.998589\n",
       "2  0.913750      0.245902      1.000000\n",
       "3  0.910625      0.218579      1.000000\n",
       "4  0.885553      0.000000      1.000000"
      ]
     },
     "execution_count": 100,
     "metadata": {},
     "output_type": "execute_result"
    }
   ],
   "source": [
    "for train_index, test_index in kf.split(x1,y1):\n",
    "    x_train_1, x_test_1 = x1[train_index], x1[test_index]\n",
    "    y_train_1, y_test_1 = y1[train_index], y1[test_index]\n",
    "    svm.fit(x_train_1, y_train_1)\n",
    "    y_pred3 = svm.predict(x_test_1)\n",
    "    cm.append((confusion_matrix(y_test_1, y_pred3)).astype(float))\n",
    "for j in range (n):\n",
    "    total.append(sum(sum(cm[j])))\n",
    "    ac.append((cm[j][0,0]+cm[j][1,1])/total[j])\n",
    "    se.append(cm[j][0,0]/(cm[j][0,0]+cm[j][0,1]))\n",
    "    sp.append(cm[j][1,1]/(cm[j][1,0]+cm[j][1,1]))\n",
    "akurasi3=np.mean(ac)\n",
    "spesifisiti3=np.mean(sp)\n",
    "sensitiviti3=np.mean(se)\n",
    "print(\"Akurasi : \",akurasi3)\n",
    "print(\"Spesifisitas : \", spesifisiti3)\n",
    "print(\"Sensitivitas :\", sensitiviti3)\n",
    "\n",
    "\n",
    "#performansi masing masing fold\n",
    "df_k3=pd.DataFrame()\n",
    "test=dict()\n",
    "for j in range (3):\n",
    "    test[j]=[]\n",
    "for i in range (n):\n",
    "    test[0].append(ac[i])\n",
    "    test[1].append(sp[i])\n",
    "    test[2].append(se[i])\n",
    "for i in range (3):\n",
    "    df_k3=pd.concat([df_k3,pd.DataFrame(test[i])],axis=1)\n",
    "df_k3.columns=['Akurasi','Spesitifitas','Sensitivitas']\n",
    "df_k3"
   ]
  },
  {
   "cell_type": "markdown",
   "id": "965a88ff",
   "metadata": {},
   "source": [
    "# Gamma = 1"
   ]
  },
  {
   "cell_type": "code",
   "execution_count": 101,
   "id": "8ff5fab2",
   "metadata": {},
   "outputs": [],
   "source": [
    "from sklearn import svm\n",
    "svm = svm.SVC(class_weight=None, C=1, gamma = 1, kernel = 'rbf', random_state=100)\n",
    "n = 5\n",
    "from sklearn.model_selection import StratifiedKFold\n",
    "kf = StratifiedKFold(n_splits = n, random_state = None)\n",
    "#c bisa custom"
   ]
  },
  {
   "cell_type": "code",
   "execution_count": 102,
   "id": "e2575467",
   "metadata": {},
   "outputs": [
    {
     "data": {
      "text/plain": [
       "array([1, 1, 0, ..., 0, 0, 0], dtype=int64)"
      ]
     },
     "execution_count": 102,
     "metadata": {},
     "output_type": "execute_result"
    }
   ],
   "source": [
    "svm.fit(x1,y1)\n",
    "y_pred3 = svm.predict(x1)\n",
    "y_pred3"
   ]
  },
  {
   "cell_type": "code",
   "execution_count": 103,
   "id": "5dd1d48c",
   "metadata": {},
   "outputs": [],
   "source": [
    "#membuat tempat\n",
    "cm=[]\n",
    "total = []\n",
    "ac = []\n",
    "se = []\n",
    "sp = []"
   ]
  },
  {
   "cell_type": "code",
   "execution_count": 104,
   "id": "b541039f",
   "metadata": {},
   "outputs": [
    {
     "name": "stdout",
     "output_type": "stream",
     "text": [
      "Akurasi :  0.8016106941838649\n",
      "Spesifisitas :  0.35628415300546445\n",
      "Sensitivitas : 0.8591390261115033\n"
     ]
    },
    {
     "data": {
      "text/html": [
       "<div>\n",
       "<style scoped>\n",
       "    .dataframe tbody tr th:only-of-type {\n",
       "        vertical-align: middle;\n",
       "    }\n",
       "\n",
       "    .dataframe tbody tr th {\n",
       "        vertical-align: top;\n",
       "    }\n",
       "\n",
       "    .dataframe thead th {\n",
       "        text-align: right;\n",
       "    }\n",
       "</style>\n",
       "<table border=\"1\" class=\"dataframe\">\n",
       "  <thead>\n",
       "    <tr style=\"text-align: right;\">\n",
       "      <th></th>\n",
       "      <th>Akurasi</th>\n",
       "      <th>Spesitifitas</th>\n",
       "      <th>Sensitivitas</th>\n",
       "    </tr>\n",
       "  </thead>\n",
       "  <tbody>\n",
       "    <tr>\n",
       "      <th>0</th>\n",
       "      <td>0.408125</td>\n",
       "      <td>0.825137</td>\n",
       "      <td>0.354270</td>\n",
       "    </tr>\n",
       "    <tr>\n",
       "      <th>1</th>\n",
       "      <td>0.876875</td>\n",
       "      <td>0.377049</td>\n",
       "      <td>0.941426</td>\n",
       "    </tr>\n",
       "    <tr>\n",
       "      <th>2</th>\n",
       "      <td>0.923125</td>\n",
       "      <td>0.327869</td>\n",
       "      <td>1.000000</td>\n",
       "    </tr>\n",
       "    <tr>\n",
       "      <th>3</th>\n",
       "      <td>0.914375</td>\n",
       "      <td>0.251366</td>\n",
       "      <td>1.000000</td>\n",
       "    </tr>\n",
       "    <tr>\n",
       "      <th>4</th>\n",
       "      <td>0.885553</td>\n",
       "      <td>0.000000</td>\n",
       "      <td>1.000000</td>\n",
       "    </tr>\n",
       "  </tbody>\n",
       "</table>\n",
       "</div>"
      ],
      "text/plain": [
       "    Akurasi  Spesitifitas  Sensitivitas\n",
       "0  0.408125      0.825137      0.354270\n",
       "1  0.876875      0.377049      0.941426\n",
       "2  0.923125      0.327869      1.000000\n",
       "3  0.914375      0.251366      1.000000\n",
       "4  0.885553      0.000000      1.000000"
      ]
     },
     "execution_count": 104,
     "metadata": {},
     "output_type": "execute_result"
    }
   ],
   "source": [
    "for train_index, test_index in kf.split(x1,y1):\n",
    "    x_train_1, x_test_1 = x1[train_index], x1[test_index]\n",
    "    y_train_1, y_test_1 = y1[train_index], y1[test_index]\n",
    "    svm.fit(x_train_1, y_train_1)\n",
    "    y_pred3 = svm.predict(x_test_1)\n",
    "    cm.append((confusion_matrix(y_test_1, y_pred3)).astype(float))\n",
    "for j in range (n):\n",
    "    total.append(sum(sum(cm[j])))\n",
    "    ac.append((cm[j][0,0]+cm[j][1,1])/total[j])\n",
    "    se.append(cm[j][0,0]/(cm[j][0,0]+cm[j][0,1]))\n",
    "    sp.append(cm[j][1,1]/(cm[j][1,0]+cm[j][1,1]))\n",
    "akurasi3=np.mean(ac)\n",
    "spesifisiti3=np.mean(sp)\n",
    "sensitiviti3=np.mean(se)\n",
    "print(\"Akurasi : \",akurasi3)\n",
    "print(\"Spesifisitas : \", spesifisiti3)\n",
    "print(\"Sensitivitas :\", sensitiviti3)\n",
    "\n",
    "\n",
    "#performansi masing masing fold\n",
    "df_k3=pd.DataFrame()\n",
    "test=dict()\n",
    "for j in range (3):\n",
    "    test[j]=[]\n",
    "for i in range (n):\n",
    "    test[0].append(ac[i])\n",
    "    test[1].append(sp[i])\n",
    "    test[2].append(se[i])\n",
    "for i in range (3):\n",
    "    df_k3=pd.concat([df_k3,pd.DataFrame(test[i])],axis=1)\n",
    "df_k3.columns=['Akurasi','Spesitifitas','Sensitivitas']\n",
    "df_k3"
   ]
  },
  {
   "cell_type": "markdown",
   "id": "de089054",
   "metadata": {},
   "source": [
    "# Gamma = 10"
   ]
  },
  {
   "cell_type": "code",
   "execution_count": 105,
   "id": "a9d5d505",
   "metadata": {},
   "outputs": [],
   "source": [
    "from sklearn import svm\n",
    "svm = svm.SVC(class_weight=None, C=1, gamma = 10, kernel = 'rbf', random_state=100)\n",
    "n = 5\n",
    "from sklearn.model_selection import StratifiedKFold\n",
    "kf = StratifiedKFold(n_splits = n, random_state = None)\n",
    "#c bisa custom"
   ]
  },
  {
   "cell_type": "code",
   "execution_count": 106,
   "id": "aca8a401",
   "metadata": {},
   "outputs": [
    {
     "data": {
      "text/plain": [
       "array([1, 1, 0, ..., 0, 1, 0], dtype=int64)"
      ]
     },
     "execution_count": 106,
     "metadata": {},
     "output_type": "execute_result"
    }
   ],
   "source": [
    "svm.fit(x1,y1)\n",
    "y_pred3 = svm.predict(x1)\n",
    "y_pred3"
   ]
  },
  {
   "cell_type": "code",
   "execution_count": 107,
   "id": "3c3c30fd",
   "metadata": {},
   "outputs": [],
   "source": [
    "#membuat tempat\n",
    "cm=[]\n",
    "total = []\n",
    "ac = []\n",
    "se = []\n",
    "sp = []"
   ]
  },
  {
   "cell_type": "code",
   "execution_count": 108,
   "id": "3b1f78dc",
   "metadata": {},
   "outputs": [
    {
     "name": "stdout",
     "output_type": "stream",
     "text": [
      "Akurasi :  0.884110694183865\n",
      "Spesifisitas :  0.005464480874316941\n",
      "Sensitivitas : 0.9976005645730417\n"
     ]
    },
    {
     "data": {
      "text/html": [
       "<div>\n",
       "<style scoped>\n",
       "    .dataframe tbody tr th:only-of-type {\n",
       "        vertical-align: middle;\n",
       "    }\n",
       "\n",
       "    .dataframe tbody tr th {\n",
       "        vertical-align: top;\n",
       "    }\n",
       "\n",
       "    .dataframe thead th {\n",
       "        text-align: right;\n",
       "    }\n",
       "</style>\n",
       "<table border=\"1\" class=\"dataframe\">\n",
       "  <thead>\n",
       "    <tr style=\"text-align: right;\">\n",
       "      <th></th>\n",
       "      <th>Akurasi</th>\n",
       "      <th>Spesitifitas</th>\n",
       "      <th>Sensitivitas</th>\n",
       "    </tr>\n",
       "  </thead>\n",
       "  <tbody>\n",
       "    <tr>\n",
       "      <th>0</th>\n",
       "      <td>0.884375</td>\n",
       "      <td>0.010929</td>\n",
       "      <td>0.997177</td>\n",
       "    </tr>\n",
       "    <tr>\n",
       "      <th>1</th>\n",
       "      <td>0.878125</td>\n",
       "      <td>0.005464</td>\n",
       "      <td>0.990826</td>\n",
       "    </tr>\n",
       "    <tr>\n",
       "      <th>2</th>\n",
       "      <td>0.885625</td>\n",
       "      <td>0.000000</td>\n",
       "      <td>1.000000</td>\n",
       "    </tr>\n",
       "    <tr>\n",
       "      <th>3</th>\n",
       "      <td>0.886875</td>\n",
       "      <td>0.010929</td>\n",
       "      <td>1.000000</td>\n",
       "    </tr>\n",
       "    <tr>\n",
       "      <th>4</th>\n",
       "      <td>0.885553</td>\n",
       "      <td>0.000000</td>\n",
       "      <td>1.000000</td>\n",
       "    </tr>\n",
       "  </tbody>\n",
       "</table>\n",
       "</div>"
      ],
      "text/plain": [
       "    Akurasi  Spesitifitas  Sensitivitas\n",
       "0  0.884375      0.010929      0.997177\n",
       "1  0.878125      0.005464      0.990826\n",
       "2  0.885625      0.000000      1.000000\n",
       "3  0.886875      0.010929      1.000000\n",
       "4  0.885553      0.000000      1.000000"
      ]
     },
     "execution_count": 108,
     "metadata": {},
     "output_type": "execute_result"
    }
   ],
   "source": [
    "for train_index, test_index in kf.split(x1,y1):\n",
    "    x_train_1, x_test_1 = x1[train_index], x1[test_index]\n",
    "    y_train_1, y_test_1 = y1[train_index], y1[test_index]\n",
    "    svm.fit(x_train_1, y_train_1)\n",
    "    y_pred3 = svm.predict(x_test_1)\n",
    "    cm.append((confusion_matrix(y_test_1, y_pred3)).astype(float))\n",
    "for j in range (n):\n",
    "    total.append(sum(sum(cm[j])))\n",
    "    ac.append((cm[j][0,0]+cm[j][1,1])/total[j])\n",
    "    se.append(cm[j][0,0]/(cm[j][0,0]+cm[j][0,1]))\n",
    "    sp.append(cm[j][1,1]/(cm[j][1,0]+cm[j][1,1]))\n",
    "akurasi3=np.mean(ac)\n",
    "spesifisiti3=np.mean(sp)\n",
    "sensitiviti3=np.mean(se)\n",
    "print(\"Akurasi : \",akurasi3)\n",
    "print(\"Spesifisitas : \", spesifisiti3)\n",
    "print(\"Sensitivitas :\", sensitiviti3)\n",
    "\n",
    "\n",
    "#performansi masing masing fold\n",
    "df_k3=pd.DataFrame()\n",
    "test=dict()\n",
    "for j in range (3):\n",
    "    test[j]=[]\n",
    "for i in range (n):\n",
    "    test[0].append(ac[i])\n",
    "    test[1].append(sp[i])\n",
    "    test[2].append(se[i])\n",
    "for i in range (3):\n",
    "    df_k3=pd.concat([df_k3,pd.DataFrame(test[i])],axis=1)\n",
    "df_k3.columns=['Akurasi','Spesitifitas','Sensitivitas']\n",
    "df_k3"
   ]
  },
  {
   "cell_type": "markdown",
   "id": "fcbcb1c5",
   "metadata": {},
   "source": [
    "# Gamma = 100"
   ]
  },
  {
   "cell_type": "code",
   "execution_count": 109,
   "id": "0af93909",
   "metadata": {},
   "outputs": [],
   "source": [
    "from sklearn import svm\n",
    "svm = svm.SVC(class_weight=None, C=1, gamma = 100, kernel = 'rbf', random_state=100)\n",
    "n = 5\n",
    "from sklearn.model_selection import StratifiedKFold\n",
    "kf = StratifiedKFold(n_splits = n, random_state = None)\n",
    "#c bisa custom"
   ]
  },
  {
   "cell_type": "code",
   "execution_count": 110,
   "id": "bcc975e0",
   "metadata": {},
   "outputs": [
    {
     "data": {
      "text/plain": [
       "array([1, 1, 0, ..., 0, 1, 0], dtype=int64)"
      ]
     },
     "execution_count": 110,
     "metadata": {},
     "output_type": "execute_result"
    }
   ],
   "source": [
    "svm.fit(x1,y1)\n",
    "y_pred3 = svm.predict(x1)\n",
    "y_pred3"
   ]
  },
  {
   "cell_type": "code",
   "execution_count": 111,
   "id": "89ff7af0",
   "metadata": {},
   "outputs": [],
   "source": [
    "#membuat tempat\n",
    "cm=[]\n",
    "total = []\n",
    "ac = []\n",
    "se = []\n",
    "sp = []"
   ]
  },
  {
   "cell_type": "code",
   "execution_count": 112,
   "id": "b5d53a8c",
   "metadata": {},
   "outputs": [
    {
     "name": "stdout",
     "output_type": "stream",
     "text": [
      "Akurasi :  0.8854856941838648\n",
      "Spesifisitas :  0.002185792349726776\n",
      "Sensitivitas : 0.9995765702187722\n"
     ]
    },
    {
     "data": {
      "text/html": [
       "<div>\n",
       "<style scoped>\n",
       "    .dataframe tbody tr th:only-of-type {\n",
       "        vertical-align: middle;\n",
       "    }\n",
       "\n",
       "    .dataframe tbody tr th {\n",
       "        vertical-align: top;\n",
       "    }\n",
       "\n",
       "    .dataframe thead th {\n",
       "        text-align: right;\n",
       "    }\n",
       "</style>\n",
       "<table border=\"1\" class=\"dataframe\">\n",
       "  <thead>\n",
       "    <tr style=\"text-align: right;\">\n",
       "      <th></th>\n",
       "      <th>Akurasi</th>\n",
       "      <th>Spesitifitas</th>\n",
       "      <th>Sensitivitas</th>\n",
       "    </tr>\n",
       "  </thead>\n",
       "  <tbody>\n",
       "    <tr>\n",
       "      <th>0</th>\n",
       "      <td>0.886250</td>\n",
       "      <td>0.005464</td>\n",
       "      <td>1.000000</td>\n",
       "    </tr>\n",
       "    <tr>\n",
       "      <th>1</th>\n",
       "      <td>0.884375</td>\n",
       "      <td>0.000000</td>\n",
       "      <td>0.998589</td>\n",
       "    </tr>\n",
       "    <tr>\n",
       "      <th>2</th>\n",
       "      <td>0.885000</td>\n",
       "      <td>0.000000</td>\n",
       "      <td>0.999294</td>\n",
       "    </tr>\n",
       "    <tr>\n",
       "      <th>3</th>\n",
       "      <td>0.886250</td>\n",
       "      <td>0.005464</td>\n",
       "      <td>1.000000</td>\n",
       "    </tr>\n",
       "    <tr>\n",
       "      <th>4</th>\n",
       "      <td>0.885553</td>\n",
       "      <td>0.000000</td>\n",
       "      <td>1.000000</td>\n",
       "    </tr>\n",
       "  </tbody>\n",
       "</table>\n",
       "</div>"
      ],
      "text/plain": [
       "    Akurasi  Spesitifitas  Sensitivitas\n",
       "0  0.886250      0.005464      1.000000\n",
       "1  0.884375      0.000000      0.998589\n",
       "2  0.885000      0.000000      0.999294\n",
       "3  0.886250      0.005464      1.000000\n",
       "4  0.885553      0.000000      1.000000"
      ]
     },
     "execution_count": 112,
     "metadata": {},
     "output_type": "execute_result"
    }
   ],
   "source": [
    "for train_index, test_index in kf.split(x1,y1):\n",
    "    x_train_1, x_test_1 = x1[train_index], x1[test_index]\n",
    "    y_train_1, y_test_1 = y1[train_index], y1[test_index]\n",
    "    svm.fit(x_train_1, y_train_1)\n",
    "    y_pred3 = svm.predict(x_test_1)\n",
    "    cm.append((confusion_matrix(y_test_1, y_pred3)).astype(float))\n",
    "for j in range (n):\n",
    "    total.append(sum(sum(cm[j])))\n",
    "    ac.append((cm[j][0,0]+cm[j][1,1])/total[j])\n",
    "    se.append(cm[j][0,0]/(cm[j][0,0]+cm[j][0,1]))\n",
    "    sp.append(cm[j][1,1]/(cm[j][1,0]+cm[j][1,1]))\n",
    "akurasi3=np.mean(ac)\n",
    "spesifisiti3=np.mean(sp)\n",
    "sensitiviti3=np.mean(se)\n",
    "print(\"Akurasi : \",akurasi3)\n",
    "print(\"Spesifisitas : \", spesifisiti3)\n",
    "print(\"Sensitivitas :\", sensitiviti3)\n",
    "\n",
    "\n",
    "#performansi masing masing fold\n",
    "df_k3=pd.DataFrame()\n",
    "test=dict()\n",
    "for j in range (3):\n",
    "    test[j]=[]\n",
    "for i in range (n):\n",
    "    test[0].append(ac[i])\n",
    "    test[1].append(sp[i])\n",
    "    test[2].append(se[i])\n",
    "for i in range (3):\n",
    "    df_k3=pd.concat([df_k3,pd.DataFrame(test[i])],axis=1)\n",
    "df_k3.columns=['Akurasi','Spesitifitas','Sensitivitas']\n",
    "df_k3"
   ]
  },
  {
   "cell_type": "markdown",
   "id": "6331e5df",
   "metadata": {},
   "source": [
    "# Gamma = 1000"
   ]
  },
  {
   "cell_type": "code",
   "execution_count": 113,
   "id": "cd0677da",
   "metadata": {},
   "outputs": [],
   "source": [
    "from sklearn import svm\n",
    "svm = svm.SVC(class_weight=None, C=1, gamma = 1000, kernel = 'rbf', random_state=100)\n",
    "n = 5\n",
    "from sklearn.model_selection import StratifiedKFold\n",
    "kf = StratifiedKFold(n_splits = n, random_state = None)\n",
    "#c bisa custom"
   ]
  },
  {
   "cell_type": "code",
   "execution_count": 114,
   "id": "aaa8c82a",
   "metadata": {},
   "outputs": [
    {
     "data": {
      "text/plain": [
       "array([1, 1, 0, ..., 1, 1, 1], dtype=int64)"
      ]
     },
     "execution_count": 114,
     "metadata": {},
     "output_type": "execute_result"
    }
   ],
   "source": [
    "svm.fit(x1,y1)\n",
    "y_pred3 = svm.predict(x1)\n",
    "y_pred3"
   ]
  },
  {
   "cell_type": "code",
   "execution_count": 115,
   "id": "485b1afa",
   "metadata": {},
   "outputs": [],
   "source": [
    "#membuat tempat\n",
    "cm=[]\n",
    "total = []\n",
    "ac = []\n",
    "se = []\n",
    "sp = []"
   ]
  },
  {
   "cell_type": "code",
   "execution_count": 116,
   "id": "d20f51ab",
   "metadata": {},
   "outputs": [
    {
     "name": "stdout",
     "output_type": "stream",
     "text": [
      "Akurasi :  0.8858606941838649\n",
      "Spesifisitas :  0.002185792349726776\n",
      "Sensitivitas : 1.0\n"
     ]
    },
    {
     "data": {
      "text/html": [
       "<div>\n",
       "<style scoped>\n",
       "    .dataframe tbody tr th:only-of-type {\n",
       "        vertical-align: middle;\n",
       "    }\n",
       "\n",
       "    .dataframe tbody tr th {\n",
       "        vertical-align: top;\n",
       "    }\n",
       "\n",
       "    .dataframe thead th {\n",
       "        text-align: right;\n",
       "    }\n",
       "</style>\n",
       "<table border=\"1\" class=\"dataframe\">\n",
       "  <thead>\n",
       "    <tr style=\"text-align: right;\">\n",
       "      <th></th>\n",
       "      <th>Akurasi</th>\n",
       "      <th>Spesitifitas</th>\n",
       "      <th>Sensitivitas</th>\n",
       "    </tr>\n",
       "  </thead>\n",
       "  <tbody>\n",
       "    <tr>\n",
       "      <th>0</th>\n",
       "      <td>0.886250</td>\n",
       "      <td>0.005464</td>\n",
       "      <td>1.0</td>\n",
       "    </tr>\n",
       "    <tr>\n",
       "      <th>1</th>\n",
       "      <td>0.885625</td>\n",
       "      <td>0.000000</td>\n",
       "      <td>1.0</td>\n",
       "    </tr>\n",
       "    <tr>\n",
       "      <th>2</th>\n",
       "      <td>0.885625</td>\n",
       "      <td>0.000000</td>\n",
       "      <td>1.0</td>\n",
       "    </tr>\n",
       "    <tr>\n",
       "      <th>3</th>\n",
       "      <td>0.886250</td>\n",
       "      <td>0.005464</td>\n",
       "      <td>1.0</td>\n",
       "    </tr>\n",
       "    <tr>\n",
       "      <th>4</th>\n",
       "      <td>0.885553</td>\n",
       "      <td>0.000000</td>\n",
       "      <td>1.0</td>\n",
       "    </tr>\n",
       "  </tbody>\n",
       "</table>\n",
       "</div>"
      ],
      "text/plain": [
       "    Akurasi  Spesitifitas  Sensitivitas\n",
       "0  0.886250      0.005464           1.0\n",
       "1  0.885625      0.000000           1.0\n",
       "2  0.885625      0.000000           1.0\n",
       "3  0.886250      0.005464           1.0\n",
       "4  0.885553      0.000000           1.0"
      ]
     },
     "execution_count": 116,
     "metadata": {},
     "output_type": "execute_result"
    }
   ],
   "source": [
    "for train_index, test_index in kf.split(x1,y1):\n",
    "    x_train_1, x_test_1 = x1[train_index], x1[test_index]\n",
    "    y_train_1, y_test_1 = y1[train_index], y1[test_index]\n",
    "    svm.fit(x_train_1, y_train_1)\n",
    "    y_pred3 = svm.predict(x_test_1)\n",
    "    cm.append((confusion_matrix(y_test_1, y_pred3)).astype(float))\n",
    "for j in range (n):\n",
    "    total.append(sum(sum(cm[j])))\n",
    "    ac.append((cm[j][0,0]+cm[j][1,1])/total[j])\n",
    "    se.append(cm[j][0,0]/(cm[j][0,0]+cm[j][0,1]))\n",
    "    sp.append(cm[j][1,1]/(cm[j][1,0]+cm[j][1,1]))\n",
    "akurasi3=np.mean(ac)\n",
    "spesifisiti3=np.mean(sp)\n",
    "sensitiviti3=np.mean(se)\n",
    "print(\"Akurasi : \",akurasi3)\n",
    "print(\"Spesifisitas : \", spesifisiti3)\n",
    "print(\"Sensitivitas :\", sensitiviti3)\n",
    "\n",
    "\n",
    "#performansi masing masing fold\n",
    "df_k3=pd.DataFrame()\n",
    "test=dict()\n",
    "for j in range (3):\n",
    "    test[j]=[]\n",
    "for i in range (n):\n",
    "    test[0].append(ac[i])\n",
    "    test[1].append(sp[i])\n",
    "    test[2].append(se[i])\n",
    "for i in range (3):\n",
    "    df_k3=pd.concat([df_k3,pd.DataFrame(test[i])],axis=1)\n",
    "df_k3.columns=['Akurasi','Spesitifitas','Sensitivitas']\n",
    "df_k3"
   ]
  },
  {
   "cell_type": "markdown",
   "id": "ca225573",
   "metadata": {},
   "source": [
    "# Gamma = 10000"
   ]
  },
  {
   "cell_type": "code",
   "execution_count": 117,
   "id": "eb1fcb44",
   "metadata": {},
   "outputs": [],
   "source": [
    "from sklearn import svm\n",
    "svm = svm.SVC(class_weight=None, C=1, gamma = 10000, kernel = 'rbf', random_state=100)\n",
    "n = 5\n",
    "from sklearn.model_selection import StratifiedKFold\n",
    "kf = StratifiedKFold(n_splits = n, random_state = None)\n",
    "#c bisa custom"
   ]
  },
  {
   "cell_type": "code",
   "execution_count": 118,
   "id": "532ce95b",
   "metadata": {},
   "outputs": [
    {
     "data": {
      "text/plain": [
       "array([1, 1, 0, ..., 1, 1, 1], dtype=int64)"
      ]
     },
     "execution_count": 118,
     "metadata": {},
     "output_type": "execute_result"
    }
   ],
   "source": [
    "svm.fit(x1,y1)\n",
    "y_pred3 = svm.predict(x1)\n",
    "y_pred3"
   ]
  },
  {
   "cell_type": "code",
   "execution_count": 119,
   "id": "85eb9d09",
   "metadata": {},
   "outputs": [],
   "source": [
    "#membuat tempat\n",
    "cm=[]\n",
    "total = []\n",
    "ac = []\n",
    "se = []\n",
    "sp = []"
   ]
  },
  {
   "cell_type": "code",
   "execution_count": 120,
   "id": "d4eb90a5",
   "metadata": {},
   "outputs": [
    {
     "name": "stdout",
     "output_type": "stream",
     "text": [
      "Akurasi :  0.8856106941838648\n",
      "Spesifisitas :  0.0\n",
      "Sensitivitas : 1.0\n"
     ]
    },
    {
     "data": {
      "text/html": [
       "<div>\n",
       "<style scoped>\n",
       "    .dataframe tbody tr th:only-of-type {\n",
       "        vertical-align: middle;\n",
       "    }\n",
       "\n",
       "    .dataframe tbody tr th {\n",
       "        vertical-align: top;\n",
       "    }\n",
       "\n",
       "    .dataframe thead th {\n",
       "        text-align: right;\n",
       "    }\n",
       "</style>\n",
       "<table border=\"1\" class=\"dataframe\">\n",
       "  <thead>\n",
       "    <tr style=\"text-align: right;\">\n",
       "      <th></th>\n",
       "      <th>Akurasi</th>\n",
       "      <th>Spesitifitas</th>\n",
       "      <th>Sensitivitas</th>\n",
       "    </tr>\n",
       "  </thead>\n",
       "  <tbody>\n",
       "    <tr>\n",
       "      <th>0</th>\n",
       "      <td>0.885625</td>\n",
       "      <td>0.0</td>\n",
       "      <td>1.0</td>\n",
       "    </tr>\n",
       "    <tr>\n",
       "      <th>1</th>\n",
       "      <td>0.885625</td>\n",
       "      <td>0.0</td>\n",
       "      <td>1.0</td>\n",
       "    </tr>\n",
       "    <tr>\n",
       "      <th>2</th>\n",
       "      <td>0.885625</td>\n",
       "      <td>0.0</td>\n",
       "      <td>1.0</td>\n",
       "    </tr>\n",
       "    <tr>\n",
       "      <th>3</th>\n",
       "      <td>0.885625</td>\n",
       "      <td>0.0</td>\n",
       "      <td>1.0</td>\n",
       "    </tr>\n",
       "    <tr>\n",
       "      <th>4</th>\n",
       "      <td>0.885553</td>\n",
       "      <td>0.0</td>\n",
       "      <td>1.0</td>\n",
       "    </tr>\n",
       "  </tbody>\n",
       "</table>\n",
       "</div>"
      ],
      "text/plain": [
       "    Akurasi  Spesitifitas  Sensitivitas\n",
       "0  0.885625           0.0           1.0\n",
       "1  0.885625           0.0           1.0\n",
       "2  0.885625           0.0           1.0\n",
       "3  0.885625           0.0           1.0\n",
       "4  0.885553           0.0           1.0"
      ]
     },
     "execution_count": 120,
     "metadata": {},
     "output_type": "execute_result"
    }
   ],
   "source": [
    "for train_index, test_index in kf.split(x1,y1):\n",
    "    x_train_1, x_test_1 = x1[train_index], x1[test_index]\n",
    "    y_train_1, y_test_1 = y1[train_index], y1[test_index]\n",
    "    svm.fit(x_train_1, y_train_1)\n",
    "    y_pred3 = svm.predict(x_test_1)\n",
    "    cm.append((confusion_matrix(y_test_1, y_pred3)).astype(float))\n",
    "for j in range (n):\n",
    "    total.append(sum(sum(cm[j])))\n",
    "    ac.append((cm[j][0,0]+cm[j][1,1])/total[j])\n",
    "    se.append(cm[j][0,0]/(cm[j][0,0]+cm[j][0,1]))\n",
    "    sp.append(cm[j][1,1]/(cm[j][1,0]+cm[j][1,1]))\n",
    "akurasi3=np.mean(ac)\n",
    "spesifisiti3=np.mean(sp)\n",
    "sensitiviti3=np.mean(se)\n",
    "print(\"Akurasi : \",akurasi3)\n",
    "print(\"Spesifisitas : \", spesifisiti3)\n",
    "print(\"Sensitivitas :\", sensitiviti3)\n",
    "\n",
    "\n",
    "#performansi masing masing fold\n",
    "df_k3=pd.DataFrame()\n",
    "test=dict()\n",
    "for j in range (3):\n",
    "    test[j]=[]\n",
    "for i in range (n):\n",
    "    test[0].append(ac[i])\n",
    "    test[1].append(sp[i])\n",
    "    test[2].append(se[i])\n",
    "for i in range (3):\n",
    "    df_k3=pd.concat([df_k3,pd.DataFrame(test[i])],axis=1)\n",
    "df_k3.columns=['Akurasi','Spesitifitas','Sensitivitas']\n",
    "df_k3"
   ]
  },
  {
   "cell_type": "markdown",
   "id": "601cfd07",
   "metadata": {},
   "source": [
    "# Model Optimal"
   ]
  },
  {
   "cell_type": "code",
   "execution_count": 121,
   "id": "814381f7",
   "metadata": {},
   "outputs": [],
   "source": [
    "from sklearn import svm\n",
    "svm = svm.SVC(class_weight=None, C=1, gamma = 1000, kernel = 'rbf', random_state=100)\n",
    "n = 5\n",
    "from sklearn.model_selection import StratifiedKFold\n",
    "kf = StratifiedKFold(n_splits = n, random_state = None)\n",
    "#c bisa custom"
   ]
  },
  {
   "cell_type": "code",
   "execution_count": 122,
   "id": "664028d4",
   "metadata": {},
   "outputs": [
    {
     "data": {
      "text/plain": [
       "array([1, 1, 0, ..., 1, 1, 1], dtype=int64)"
      ]
     },
     "execution_count": 122,
     "metadata": {},
     "output_type": "execute_result"
    }
   ],
   "source": [
    "svm.fit(x1,y1)\n",
    "y_pred3 = svm.predict(x1)\n",
    "y_pred3"
   ]
  },
  {
   "cell_type": "code",
   "execution_count": 123,
   "id": "fdb9577b",
   "metadata": {},
   "outputs": [],
   "source": [
    "#membuat tempat\n",
    "cm=[]\n",
    "total = []\n",
    "ac = []\n",
    "se = []\n",
    "sp = []"
   ]
  },
  {
   "cell_type": "code",
   "execution_count": 124,
   "id": "b51e9771",
   "metadata": {},
   "outputs": [
    {
     "name": "stdout",
     "output_type": "stream",
     "text": [
      "Akurasi :  0.8858606941838649\n",
      "Spesifisitas :  0.002185792349726776\n",
      "Sensitivitas : 1.0\n"
     ]
    },
    {
     "data": {
      "text/html": [
       "<div>\n",
       "<style scoped>\n",
       "    .dataframe tbody tr th:only-of-type {\n",
       "        vertical-align: middle;\n",
       "    }\n",
       "\n",
       "    .dataframe tbody tr th {\n",
       "        vertical-align: top;\n",
       "    }\n",
       "\n",
       "    .dataframe thead th {\n",
       "        text-align: right;\n",
       "    }\n",
       "</style>\n",
       "<table border=\"1\" class=\"dataframe\">\n",
       "  <thead>\n",
       "    <tr style=\"text-align: right;\">\n",
       "      <th></th>\n",
       "      <th>Akurasi</th>\n",
       "      <th>Spesitifitas</th>\n",
       "      <th>Sensitivitas</th>\n",
       "    </tr>\n",
       "  </thead>\n",
       "  <tbody>\n",
       "    <tr>\n",
       "      <th>0</th>\n",
       "      <td>0.886250</td>\n",
       "      <td>0.005464</td>\n",
       "      <td>1.0</td>\n",
       "    </tr>\n",
       "    <tr>\n",
       "      <th>1</th>\n",
       "      <td>0.885625</td>\n",
       "      <td>0.000000</td>\n",
       "      <td>1.0</td>\n",
       "    </tr>\n",
       "    <tr>\n",
       "      <th>2</th>\n",
       "      <td>0.885625</td>\n",
       "      <td>0.000000</td>\n",
       "      <td>1.0</td>\n",
       "    </tr>\n",
       "    <tr>\n",
       "      <th>3</th>\n",
       "      <td>0.886250</td>\n",
       "      <td>0.005464</td>\n",
       "      <td>1.0</td>\n",
       "    </tr>\n",
       "    <tr>\n",
       "      <th>4</th>\n",
       "      <td>0.885553</td>\n",
       "      <td>0.000000</td>\n",
       "      <td>1.0</td>\n",
       "    </tr>\n",
       "  </tbody>\n",
       "</table>\n",
       "</div>"
      ],
      "text/plain": [
       "    Akurasi  Spesitifitas  Sensitivitas\n",
       "0  0.886250      0.005464           1.0\n",
       "1  0.885625      0.000000           1.0\n",
       "2  0.885625      0.000000           1.0\n",
       "3  0.886250      0.005464           1.0\n",
       "4  0.885553      0.000000           1.0"
      ]
     },
     "execution_count": 124,
     "metadata": {},
     "output_type": "execute_result"
    }
   ],
   "source": [
    "for train_index, test_index in kf.split(x1,y1):\n",
    "    x_train_1, x_test_1 = x1[train_index], x1[test_index]\n",
    "    y_train_1, y_test_1 = y1[train_index], y1[test_index]\n",
    "    svm.fit(x_train_1, y_train_1)\n",
    "    y_pred3 = svm.predict(x_test_1)\n",
    "    cm.append((confusion_matrix(y_test_1, y_pred3)).astype(float))\n",
    "for j in range (n):\n",
    "    total.append(sum(sum(cm[j])))\n",
    "    ac.append((cm[j][0,0]+cm[j][1,1])/total[j])\n",
    "    se.append(cm[j][0,0]/(cm[j][0,0]+cm[j][0,1]))\n",
    "    sp.append(cm[j][1,1]/(cm[j][1,0]+cm[j][1,1]))\n",
    "akurasi3=np.mean(ac)\n",
    "spesifisiti3=np.mean(sp)\n",
    "sensitiviti3=np.mean(se)\n",
    "print(\"Akurasi : \",akurasi3)\n",
    "print(\"Spesifisitas : \", spesifisiti3)\n",
    "print(\"Sensitivitas :\", sensitiviti3)\n",
    "\n",
    "\n",
    "#performansi masing masing fold\n",
    "df_k3=pd.DataFrame()\n",
    "test=dict()\n",
    "for j in range (3):\n",
    "    test[j]=[]\n",
    "for i in range (n):\n",
    "    test[0].append(ac[i])\n",
    "    test[1].append(sp[i])\n",
    "    test[2].append(se[i])\n",
    "for i in range (3):\n",
    "    df_k3=pd.concat([df_k3,pd.DataFrame(test[i])],axis=1)\n",
    "df_k3.columns=['Akurasi','Spesitifitas','Sensitivitas']\n",
    "df_k3"
   ]
  },
  {
   "cell_type": "markdown",
   "id": "fc959f01",
   "metadata": {},
   "source": [
    "# Evaluasi Model Optimal"
   ]
  },
  {
   "cell_type": "code",
   "execution_count": 125,
   "id": "4cbc2144",
   "metadata": {},
   "outputs": [
    {
     "data": {
      "text/plain": [
       "Text(0.5, 23.52222222222222, 'predict label')"
      ]
     },
     "execution_count": 125,
     "metadata": {},
     "output_type": "execute_result"
    },
    {
     "data": {
      "image/png": "[encoded data removed]",
      "text/plain": [
       "<Figure size 640x480 with 1 Axes>"
      ]
     },
     "metadata": {},
     "output_type": "display_data"
    }
   ],
   "source": [
    "from sklearn.metrics import confusion_matrix\n",
    "conf_matrix = confusion_matrix(y_test_1, y_pred3)\n",
    "sns.heatmap(conf_matrix, square = True, annot = True, fmt = 'd', cbar = False)\n",
    "plt.ylabel('true label')\n",
    "plt.xlabel('predict label')"
   ]
  },
  {
   "cell_type": "code",
   "execution_count": 126,
   "id": "15a86611",
   "metadata": {},
   "outputs": [
    {
     "name": "stdout",
     "output_type": "stream",
     "text": [
      "Akurasi 0.8855534709193246\n",
      "Presisi [0.88555347 0.        ]\n",
      "Recalls [1. 0.]\n",
      "Sensitivitas 1.0\n",
      "Spesifitas 0.0\n",
      "F1 score 0.0\n"
     ]
    },
    {
     "name": "stderr",
     "output_type": "stream",
     "text": [
      "C:\\Users\\Rania Yunaningrum\\anaconda3\\lib\\site-packages\\sklearn\\metrics\\_classification.py:1370: UserWarning: Note that pos_label (set to 0) is ignored when average != 'binary' (got None). You may use labels=[pos_label] to specify a single positive class.\n",
      "  warnings.warn(\n",
      "C:\\Users\\Rania Yunaningrum\\anaconda3\\lib\\site-packages\\sklearn\\metrics\\_classification.py:1318: UndefinedMetricWarning: Precision is ill-defined and being set to 0.0 in labels with no predicted samples. Use `zero_division` parameter to control this behavior.\n",
      "  _warn_prf(average, modifier, msg_start, len(result))\n",
      "C:\\Users\\Rania Yunaningrum\\anaconda3\\lib\\site-packages\\sklearn\\metrics\\_classification.py:1370: UserWarning: Note that pos_label (set to 0) is ignored when average != 'binary' (got None). You may use labels=[pos_label] to specify a single positive class.\n",
      "  warnings.warn(\n"
     ]
    }
   ],
   "source": [
    "akurasi = accuracy_score(y_test_1,y_pred3)\n",
    "presisi = precision_score(y_test_1,y_pred3, pos_label = 0, average = None)\n",
    "recalls = recall_score(y_test_1,y_pred3,pos_label = 0, average = None)\n",
    "sensitivitas = conf_matrix[0,0]/(conf_matrix[0,0]+conf_matrix[0,1])\n",
    "spesifitas = conf_matrix[1,1]/(conf_matrix[1,0]+conf_matrix[1,1])\n",
    "f1_score = f1_score(y_test_1,y_pred3)\n",
    "print('Akurasi', akurasi)\n",
    "print('Presisi',presisi)\n",
    "print('Recalls',recalls)\n",
    "print('Sensitivitas',sensitivitas)\n",
    "print('Spesifitas',spesifitas)\n",
    "print('F1 score',f1_score)"
   ]
  },
  {
   "cell_type": "code",
   "execution_count": 127,
   "id": "35790c5f",
   "metadata": {},
   "outputs": [],
   "source": [
    "from sklearn.svm import SVC\n",
    "svc = SVC()"
   ]
  },
  {
   "cell_type": "code",
   "execution_count": 128,
   "id": "0af88395",
   "metadata": {},
   "outputs": [],
   "source": [
    "from sklearn import svm\n",
    "model = SVC(probability = True).fit(x_train,y_train)\n",
    "probs = model.predict_proba(x_test_1)[:,1]"
   ]
  },
  {
   "cell_type": "code",
   "execution_count": 129,
   "id": "22455c97",
   "metadata": {},
   "outputs": [
    {
     "data": {
      "image/png": "[encoded data removed]",
      "text/plain": [
       "<Figure size 1200x700 with 1 Axes>"
      ]
     },
     "metadata": {},
     "output_type": "display_data"
    }
   ],
   "source": [
    "from sklearn.metrics import roc_auc_score, roc_curve\n",
    "import matplotlib.pyplot as plt\n",
    "\n",
    "auc = roc_auc_score(y_test_1, probs)\n",
    "fpr, tpr, threshold = roc_curve(y_test_1, probs)\n",
    "\n",
    "plt.figure(figsize=(12, 7))\n",
    "plt.plot(fpr, tpr, label=f'AUC (SVM) = {auc:.2f}')\n",
    "plt.plot([0, 1], [0, 1], color='blue', linestyle='--', label='Baseline')\n",
    "plt.title('ROC Curve', size=20)\n",
    "plt.xlabel('False Positive Rate', size=14)\n",
    "plt.ylabel('True Positive Rate', size=14)\n",
    "plt.legend();"
   ]
  },
  {
   "cell_type": "markdown",
   "id": "f623ce31",
   "metadata": {},
   "source": [
    "# Decision Tree"
   ]
  },
  {
   "cell_type": "code",
   "execution_count": 153,
   "id": "7a630c4d",
   "metadata": {},
   "outputs": [],
   "source": [
    "#Variabel yang digunakan untuk Decision Tree\n",
    "yt=dt['is_safe']\n",
    "xt=dt.loc[:,['aluminium_zs','cadmium','chloramine','chromium','arsenic_zs','silver','viruses','barium','uranium','bacteria']]"
   ]
  },
  {
   "cell_type": "code",
   "execution_count": 154,
   "id": "6100a93f",
   "metadata": {},
   "outputs": [],
   "source": [
    "from sklearn import tree\n",
    "from sklearn.tree import plot_tree\n",
    "from sklearn import metrics\n",
    "from six import StringIO\n",
    "from IPython.display import Image\n",
    "from sklearn.tree import export_graphviz\n",
    "from sklearn.tree import export_text"
   ]
  },
  {
   "cell_type": "code",
   "execution_count": 155,
   "id": "3dfc84ec",
   "metadata": {},
   "outputs": [],
   "source": [
    "#Pemodelan Decision Tree\n",
    "clf=tree.DecisionTreeClassifier() #fungsi untuk menjalankan algoritma decision tree\n",
    "clf=clf.fit(xt,yt) #mengklasifikasikan y berdasarkan variabel x menggunakan metode decision tree\n",
    "\n",
    "#Membuat pemodelan tree untuk data testing dan training\n",
    "clf=tree.DecisionTreeClassifier()\n",
    "x_traintree, x_testtree, y_traintree, y_testtree = train_test_split(xt,yt,test_size=0.20,random_state=100) # 80% data untuk training, 20% testing\n",
    "\n",
    "clf=clf.fit(x_traintree,y_traintree) #mengklasifikasikan data y_train berdasarkan variabel x_train menggunakan metode decision tree\n",
    "y_predtree=clf.predict(x_testtree) #hasil prediksi klasifikasi decision tree"
   ]
  },
  {
   "cell_type": "code",
   "execution_count": 156,
   "id": "d31fdd8c",
   "metadata": {},
   "outputs": [
    {
     "name": "stdout",
     "output_type": "stream",
     "text": [
      "|--- aluminium_zs <= -0.21\n",
      "|   |--- aluminium_zs <= -0.44\n",
      "|   |   |--- viruses <= 0.50\n",
      "|   |   |   |--- bacteria <= 0.01\n",
      "|   |   |   |   |--- viruses <= 0.00\n",
      "|   |   |   |   |   |--- chromium <= 0.35\n",
      "|   |   |   |   |   |   |--- bacteria <= 0.00\n",
      "|   |   |   |   |   |   |   |--- chromium <= 0.05\n",
      "|   |   |   |   |   |   |   |   |--- arsenic_zs <= -0.62\n",
      "|   |   |   |   |   |   |   |   |   |--- chloramine <= 0.05\n",
      "|   |   |   |   |   |   |   |   |   |   |--- class: 1\n",
      "|   |   |   |   |   |   |   |   |   |--- chloramine >  0.05\n",
      "|   |   |   |   |   |   |   |   |   |   |--- barium <= 1.48\n",
      "|   |   |   |   |   |   |   |   |   |   |   |--- class: 0\n",
      "|   |   |   |   |   |   |   |   |   |   |--- barium >  1.48\n",
      "|   |   |   |   |   |   |   |   |   |   |   |--- truncated branch of depth 2\n",
      "|   |   |   |   |   |   |   |   |--- arsenic_zs >  -0.62\n",
      "|   |   |   |   |   |   |   |   |   |--- silver <= 0.10\n",
      "|   |   |   |   |   |   |   |   |   |   |--- barium <= 0.36\n",
      "|   |   |   |   |   |   |   |   |   |   |   |--- class: 0\n",
      "|   |   |   |   |   |   |   |   |   |   |--- barium >  0.36\n",
      "|   |   |   |   |   |   |   |   |   |   |   |--- truncated branch of depth 8\n",
      "|   |   |   |   |   |   |   |   |   |--- silver >  0.10\n",
      "|   |   |   |   |   |   |   |   |   |   |--- uranium <= 0.06\n",
      "|   |   |   |   |   |   |   |   |   |   |   |--- class: 0\n",
      "|   |   |   |   |   |   |   |   |   |   |--- uranium >  0.06\n",
      "|   |   |   |   |   |   |   |   |   |   |   |--- truncated branch of depth 2\n",
      "|   |   |   |   |   |   |   |--- chromium >  0.05\n",
      "|   |   |   |   |   |   |   |   |--- aluminium_zs <= -0.49\n",
      "|   |   |   |   |   |   |   |   |   |--- aluminium_zs <= -0.50\n",
      "|   |   |   |   |   |   |   |   |   |   |--- class: 0\n",
      "|   |   |   |   |   |   |   |   |   |--- aluminium_zs >  -0.50\n",
      "|   |   |   |   |   |   |   |   |   |   |--- cadmium <= 0.09\n",
      "|   |   |   |   |   |   |   |   |   |   |   |--- truncated branch of depth 3\n",
      "|   |   |   |   |   |   |   |   |   |   |--- cadmium >  0.09\n",
      "|   |   |   |   |   |   |   |   |   |   |   |--- truncated branch of depth 2\n",
      "|   |   |   |   |   |   |   |   |--- aluminium_zs >  -0.49\n",
      "|   |   |   |   |   |   |   |   |   |--- class: 0\n",
      "|   |   |   |   |   |   |--- bacteria >  0.00\n",
      "|   |   |   |   |   |   |   |--- chromium <= 0.06\n",
      "|   |   |   |   |   |   |   |   |--- class: 0\n",
      "|   |   |   |   |   |   |   |--- chromium >  0.06\n",
      "|   |   |   |   |   |   |   |   |--- class: 1\n",
      "|   |   |   |   |   |--- chromium >  0.35\n",
      "|   |   |   |   |   |   |--- arsenic_zs <= -0.12\n",
      "|   |   |   |   |   |   |   |--- class: 1\n",
      "|   |   |   |   |   |   |--- arsenic_zs >  -0.12\n",
      "|   |   |   |   |   |   |   |--- class: 0\n",
      "|   |   |   |   |--- viruses >  0.00\n",
      "|   |   |   |   |   |--- barium <= 1.88\n",
      "|   |   |   |   |   |   |--- barium <= 1.86\n",
      "|   |   |   |   |   |   |   |--- uranium <= 0.09\n",
      "|   |   |   |   |   |   |   |   |--- cadmium <= 0.10\n",
      "|   |   |   |   |   |   |   |   |   |--- barium <= 0.16\n",
      "|   |   |   |   |   |   |   |   |   |   |--- silver <= 0.05\n",
      "|   |   |   |   |   |   |   |   |   |   |   |--- truncated branch of depth 6\n",
      "|   |   |   |   |   |   |   |   |   |   |--- silver >  0.05\n",
      "|   |   |   |   |   |   |   |   |   |   |   |--- truncated branch of depth 5\n",
      "|   |   |   |   |   |   |   |   |   |--- barium >  0.16\n",
      "|   |   |   |   |   |   |   |   |   |   |--- barium <= 0.81\n",
      "|   |   |   |   |   |   |   |   |   |   |   |--- truncated branch of depth 16\n",
      "|   |   |   |   |   |   |   |   |   |   |--- barium >  0.81\n",
      "|   |   |   |   |   |   |   |   |   |   |   |--- truncated branch of depth 13\n",
      "|   |   |   |   |   |   |   |   |--- cadmium >  0.10\n",
      "|   |   |   |   |   |   |   |   |   |--- class: 0\n",
      "|   |   |   |   |   |   |   |--- uranium >  0.09\n",
      "|   |   |   |   |   |   |   |   |--- class: 0\n",
      "|   |   |   |   |   |   |--- barium >  1.86\n",
      "|   |   |   |   |   |   |   |--- class: 1\n",
      "|   |   |   |   |   |--- barium >  1.88\n",
      "|   |   |   |   |   |   |--- arsenic_zs <= 0.53\n",
      "|   |   |   |   |   |   |   |--- class: 0\n",
      "|   |   |   |   |   |   |--- arsenic_zs >  0.53\n",
      "|   |   |   |   |   |   |   |--- uranium <= 0.04\n",
      "|   |   |   |   |   |   |   |   |--- class: 1\n",
      "|   |   |   |   |   |   |   |--- uranium >  0.04\n",
      "|   |   |   |   |   |   |   |   |--- class: 0\n",
      "|   |   |   |--- bacteria >  0.01\n",
      "|   |   |   |   |--- chromium <= 0.88\n",
      "|   |   |   |   |   |--- uranium <= 0.03\n",
      "|   |   |   |   |   |   |--- chloramine <= 0.53\n",
      "|   |   |   |   |   |   |   |--- chromium <= 0.00\n",
      "|   |   |   |   |   |   |   |   |--- bacteria <= 0.09\n",
      "|   |   |   |   |   |   |   |   |   |--- barium <= 0.68\n",
      "|   |   |   |   |   |   |   |   |   |   |--- class: 1\n",
      "|   |   |   |   |   |   |   |   |   |--- barium >  0.68\n",
      "|   |   |   |   |   |   |   |   |   |   |--- class: 0\n",
      "|   |   |   |   |   |   |   |   |--- bacteria >  0.09\n",
      "|   |   |   |   |   |   |   |   |   |--- class: 0\n",
      "|   |   |   |   |   |   |   |--- chromium >  0.00\n",
      "|   |   |   |   |   |   |   |   |--- bacteria <= 0.53\n",
      "|   |   |   |   |   |   |   |   |   |--- bacteria <= 0.04\n",
      "|   |   |   |   |   |   |   |   |   |   |--- chromium <= 0.01\n",
      "|   |   |   |   |   |   |   |   |   |   |   |--- truncated branch of depth 2\n",
      "|   |   |   |   |   |   |   |   |   |   |--- chromium >  0.01\n",
      "|   |   |   |   |   |   |   |   |   |   |   |--- class: 0\n",
      "|   |   |   |   |   |   |   |   |   |--- bacteria >  0.04\n",
      "|   |   |   |   |   |   |   |   |   |   |--- class: 0\n",
      "|   |   |   |   |   |   |   |   |--- bacteria >  0.53\n",
      "|   |   |   |   |   |   |   |   |   |--- chromium <= 0.09\n",
      "|   |   |   |   |   |   |   |   |   |   |--- class: 0\n",
      "|   |   |   |   |   |   |   |   |   |--- chromium >  0.09\n",
      "|   |   |   |   |   |   |   |   |   |   |--- class: 1\n",
      "|   |   |   |   |   |   |--- chloramine >  0.53\n",
      "|   |   |   |   |   |   |   |--- silver <= 0.11\n",
      "|   |   |   |   |   |   |   |   |--- chloramine <= 0.77\n",
      "|   |   |   |   |   |   |   |   |   |--- chromium <= 0.36\n",
      "|   |   |   |   |   |   |   |   |   |   |--- class: 0\n",
      "|   |   |   |   |   |   |   |   |   |--- chromium >  0.36\n",
      "|   |   |   |   |   |   |   |   |   |   |--- class: 1\n",
      "|   |   |   |   |   |   |   |   |--- chloramine >  0.77\n",
      "|   |   |   |   |   |   |   |   |   |--- chloramine <= 6.30\n",
      "|   |   |   |   |   |   |   |   |   |   |--- chromium <= 0.56\n",
      "|   |   |   |   |   |   |   |   |   |   |   |--- truncated branch of depth 4\n",
      "|   |   |   |   |   |   |   |   |   |   |--- chromium >  0.56\n",
      "|   |   |   |   |   |   |   |   |   |   |   |--- truncated branch of depth 3\n",
      "|   |   |   |   |   |   |   |   |   |--- chloramine >  6.30\n",
      "|   |   |   |   |   |   |   |   |   |   |--- silver <= 0.10\n",
      "|   |   |   |   |   |   |   |   |   |   |   |--- class: 0\n",
      "|   |   |   |   |   |   |   |   |   |   |--- silver >  0.10\n",
      "|   |   |   |   |   |   |   |   |   |   |   |--- class: 1\n",
      "|   |   |   |   |   |   |   |--- silver >  0.11\n",
      "|   |   |   |   |   |   |   |   |--- class: 0\n",
      "|   |   |   |   |   |--- uranium >  0.03\n",
      "|   |   |   |   |   |   |--- bacteria <= 0.03\n",
      "|   |   |   |   |   |   |   |--- chromium <= 0.03\n",
      "|   |   |   |   |   |   |   |   |--- barium <= 0.69\n",
      "|   |   |   |   |   |   |   |   |   |--- class: 0\n",
      "|   |   |   |   |   |   |   |   |--- barium >  0.69\n",
      "|   |   |   |   |   |   |   |   |   |--- barium <= 1.72\n",
      "|   |   |   |   |   |   |   |   |   |   |--- class: 1\n",
      "|   |   |   |   |   |   |   |   |   |--- barium >  1.72\n",
      "|   |   |   |   |   |   |   |   |   |   |--- class: 0\n",
      "|   |   |   |   |   |   |   |--- chromium >  0.03\n",
      "|   |   |   |   |   |   |   |   |--- class: 0\n",
      "|   |   |   |   |   |   |--- bacteria >  0.03\n",
      "|   |   |   |   |   |   |   |--- aluminium_zs <= -0.52\n",
      "|   |   |   |   |   |   |   |   |--- silver <= 0.26\n",
      "|   |   |   |   |   |   |   |   |   |--- class: 0\n",
      "|   |   |   |   |   |   |   |   |--- silver >  0.26\n",
      "|   |   |   |   |   |   |   |   |   |--- viruses <= 0.00\n",
      "|   |   |   |   |   |   |   |   |   |   |--- class: 1\n",
      "|   |   |   |   |   |   |   |   |   |--- viruses >  0.00\n",
      "|   |   |   |   |   |   |   |   |   |   |--- class: 0\n",
      "|   |   |   |   |   |   |   |--- aluminium_zs >  -0.52\n",
      "|   |   |   |   |   |   |   |   |--- class: 0\n",
      "|   |   |   |   |--- chromium >  0.88\n",
      "|   |   |   |   |   |--- barium <= 0.55\n",
      "|   |   |   |   |   |   |--- class: 1\n",
      "|   |   |   |   |   |--- barium >  0.55\n",
      "|   |   |   |   |   |   |--- class: 0\n",
      "|   |   |--- viruses >  0.50\n",
      "|   |   |   |--- chloramine <= 7.55\n",
      "|   |   |   |   |--- chloramine <= 1.10\n",
      "|   |   |   |   |   |--- aluminium_zs <= -0.44\n",
      "|   |   |   |   |   |   |--- class: 0\n",
      "|   |   |   |   |   |--- aluminium_zs >  -0.44\n",
      "|   |   |   |   |   |   |--- bacteria <= 0.63\n",
      "|   |   |   |   |   |   |   |--- class: 1\n",
      "|   |   |   |   |   |   |--- bacteria >  0.63\n",
      "|   |   |   |   |   |   |   |--- class: 0\n",
      "|   |   |   |   |--- chloramine >  1.10\n",
      "|   |   |   |   |   |--- silver <= 0.11\n",
      "|   |   |   |   |   |   |--- uranium <= 0.02\n",
      "|   |   |   |   |   |   |   |--- viruses <= 0.96\n",
      "|   |   |   |   |   |   |   |   |--- cadmium <= 0.11\n",
      "|   |   |   |   |   |   |   |   |   |--- class: 1\n",
      "|   |   |   |   |   |   |   |   |--- cadmium >  0.11\n",
      "|   |   |   |   |   |   |   |   |   |--- class: 0\n",
      "|   |   |   |   |   |   |   |--- viruses >  0.96\n",
      "|   |   |   |   |   |   |   |   |--- class: 0\n",
      "|   |   |   |   |   |   |--- uranium >  0.02\n",
      "|   |   |   |   |   |   |   |--- chloramine <= 1.15\n",
      "|   |   |   |   |   |   |   |   |--- class: 1\n",
      "|   |   |   |   |   |   |   |--- chloramine >  1.15\n",
      "|   |   |   |   |   |   |   |   |--- bacteria <= 0.73\n",
      "|   |   |   |   |   |   |   |   |   |--- bacteria <= 0.69\n",
      "|   |   |   |   |   |   |   |   |   |   |--- barium <= 2.90\n",
      "|   |   |   |   |   |   |   |   |   |   |   |--- class: 0\n",
      "|   |   |   |   |   |   |   |   |   |   |--- barium >  2.90\n",
      "|   |   |   |   |   |   |   |   |   |   |   |--- truncated branch of depth 3\n",
      "|   |   |   |   |   |   |   |   |   |--- bacteria >  0.69\n",
      "|   |   |   |   |   |   |   |   |   |   |--- arsenic_zs <= 1.30\n",
      "|   |   |   |   |   |   |   |   |   |   |   |--- class: 1\n",
      "|   |   |   |   |   |   |   |   |   |   |--- arsenic_zs >  1.30\n",
      "|   |   |   |   |   |   |   |   |   |   |   |--- class: 0\n",
      "|   |   |   |   |   |   |   |   |--- bacteria >  0.73\n",
      "|   |   |   |   |   |   |   |   |   |--- class: 0\n",
      "|   |   |   |   |   |--- silver >  0.11\n",
      "|   |   |   |   |   |   |--- class: 0\n",
      "|   |   |   |--- chloramine >  7.55\n",
      "|   |   |   |   |--- viruses <= 0.93\n",
      "|   |   |   |   |   |--- silver <= 0.03\n",
      "|   |   |   |   |   |   |--- class: 1\n",
      "|   |   |   |   |   |--- silver >  0.03\n",
      "|   |   |   |   |   |   |--- class: 0\n",
      "|   |   |   |   |--- viruses >  0.93\n",
      "|   |   |   |   |   |--- class: 1\n",
      "|   |--- aluminium_zs >  -0.44\n",
      "|   |   |--- silver <= 0.11\n",
      "|   |   |   |--- uranium <= 0.03\n",
      "|   |   |   |   |--- cadmium <= 0.00\n",
      "|   |   |   |   |   |--- bacteria <= 0.05\n",
      "|   |   |   |   |   |   |--- class: 1\n",
      "|   |   |   |   |   |--- bacteria >  0.05\n",
      "|   |   |   |   |   |   |--- class: 0\n",
      "|   |   |   |   |--- cadmium >  0.00\n",
      "|   |   |   |   |   |--- cadmium <= 0.04\n",
      "|   |   |   |   |   |   |--- arsenic_zs <= -0.54\n",
      "|   |   |   |   |   |   |   |--- chloramine <= 3.16\n",
      "|   |   |   |   |   |   |   |   |--- class: 0\n",
      "|   |   |   |   |   |   |   |--- chloramine >  3.16\n",
      "|   |   |   |   |   |   |   |   |--- class: 1\n",
      "|   |   |   |   |   |   |--- arsenic_zs >  -0.54\n",
      "|   |   |   |   |   |   |   |--- class: 1\n",
      "|   |   |   |   |   |--- cadmium >  0.04\n",
      "|   |   |   |   |   |   |--- barium <= 1.46\n",
      "|   |   |   |   |   |   |   |--- class: 1\n",
      "|   |   |   |   |   |   |--- barium >  1.46\n",
      "|   |   |   |   |   |   |   |--- chromium <= 0.24\n",
      "|   |   |   |   |   |   |   |   |--- silver <= 0.03\n",
      "|   |   |   |   |   |   |   |   |   |--- class: 0\n",
      "|   |   |   |   |   |   |   |   |--- silver >  0.03\n",
      "|   |   |   |   |   |   |   |   |   |--- chromium <= 0.04\n",
      "|   |   |   |   |   |   |   |   |   |   |--- class: 0\n",
      "|   |   |   |   |   |   |   |   |   |--- chromium >  0.04\n",
      "|   |   |   |   |   |   |   |   |   |   |--- class: 1\n",
      "|   |   |   |   |   |   |   |--- chromium >  0.24\n",
      "|   |   |   |   |   |   |   |   |--- class: 0\n",
      "|   |   |   |--- uranium >  0.03\n",
      "|   |   |   |   |--- bacteria <= 0.05\n",
      "|   |   |   |   |   |--- cadmium <= 0.02\n",
      "|   |   |   |   |   |   |--- aluminium_zs <= -0.36\n",
      "|   |   |   |   |   |   |   |--- class: 0\n",
      "|   |   |   |   |   |   |--- aluminium_zs >  -0.36\n",
      "|   |   |   |   |   |   |   |--- class: 1\n",
      "|   |   |   |   |   |--- cadmium >  0.02\n",
      "|   |   |   |   |   |   |--- class: 0\n",
      "|   |   |   |   |--- bacteria >  0.05\n",
      "|   |   |   |   |   |--- bacteria <= 0.93\n",
      "|   |   |   |   |   |   |--- class: 0\n",
      "|   |   |   |   |   |--- bacteria >  0.93\n",
      "|   |   |   |   |   |   |--- cadmium <= 0.00\n",
      "|   |   |   |   |   |   |   |--- class: 1\n",
      "|   |   |   |   |   |   |--- cadmium >  0.00\n",
      "|   |   |   |   |   |   |   |--- class: 0\n",
      "|   |   |--- silver >  0.11\n",
      "|   |   |   |--- cadmium <= 0.01\n",
      "|   |   |   |   |--- bacteria <= 0.01\n",
      "|   |   |   |   |   |--- chromium <= 0.52\n",
      "|   |   |   |   |   |   |--- chromium <= 0.14\n",
      "|   |   |   |   |   |   |   |--- class: 1\n",
      "|   |   |   |   |   |   |--- chromium >  0.14\n",
      "|   |   |   |   |   |   |   |--- barium <= 2.53\n",
      "|   |   |   |   |   |   |   |   |--- class: 0\n",
      "|   |   |   |   |   |   |   |--- barium >  2.53\n",
      "|   |   |   |   |   |   |   |   |--- barium <= 3.07\n",
      "|   |   |   |   |   |   |   |   |   |--- class: 1\n",
      "|   |   |   |   |   |   |   |   |--- barium >  3.07\n",
      "|   |   |   |   |   |   |   |   |   |--- class: 0\n",
      "|   |   |   |   |   |--- chromium >  0.52\n",
      "|   |   |   |   |   |   |--- barium <= 3.80\n",
      "|   |   |   |   |   |   |   |--- arsenic_zs <= -0.62\n",
      "|   |   |   |   |   |   |   |   |--- class: 0\n",
      "|   |   |   |   |   |   |   |--- arsenic_zs >  -0.62\n",
      "|   |   |   |   |   |   |   |   |--- class: 1\n",
      "|   |   |   |   |   |   |--- barium >  3.80\n",
      "|   |   |   |   |   |   |   |--- class: 0\n",
      "|   |   |   |   |--- bacteria >  0.01\n",
      "|   |   |   |   |   |--- aluminium_zs <= -0.29\n",
      "|   |   |   |   |   |   |--- chromium <= 0.26\n",
      "|   |   |   |   |   |   |   |--- class: 0\n",
      "|   |   |   |   |   |   |--- chromium >  0.26\n",
      "|   |   |   |   |   |   |   |--- barium <= 1.10\n",
      "|   |   |   |   |   |   |   |   |--- barium <= 0.74\n",
      "|   |   |   |   |   |   |   |   |   |--- chloramine <= 7.33\n",
      "|   |   |   |   |   |   |   |   |   |   |--- chromium <= 0.28\n",
      "|   |   |   |   |   |   |   |   |   |   |   |--- truncated branch of depth 2\n",
      "|   |   |   |   |   |   |   |   |   |   |--- chromium >  0.28\n",
      "|   |   |   |   |   |   |   |   |   |   |   |--- class: 0\n",
      "|   |   |   |   |   |   |   |   |   |--- chloramine >  7.33\n",
      "|   |   |   |   |   |   |   |   |   |   |--- class: 1\n",
      "|   |   |   |   |   |   |   |   |--- barium >  0.74\n",
      "|   |   |   |   |   |   |   |   |   |--- uranium <= 0.07\n",
      "|   |   |   |   |   |   |   |   |   |   |--- class: 1\n",
      "|   |   |   |   |   |   |   |   |   |--- uranium >  0.07\n",
      "|   |   |   |   |   |   |   |   |   |   |--- aluminium_zs <= -0.35\n",
      "|   |   |   |   |   |   |   |   |   |   |   |--- class: 0\n",
      "|   |   |   |   |   |   |   |   |   |   |--- aluminium_zs >  -0.35\n",
      "|   |   |   |   |   |   |   |   |   |   |   |--- class: 1\n",
      "|   |   |   |   |   |   |   |--- barium >  1.10\n",
      "|   |   |   |   |   |   |   |   |--- bacteria <= 0.78\n",
      "|   |   |   |   |   |   |   |   |   |--- chloramine <= 7.24\n",
      "|   |   |   |   |   |   |   |   |   |   |--- class: 0\n",
      "|   |   |   |   |   |   |   |   |   |--- chloramine >  7.24\n",
      "|   |   |   |   |   |   |   |   |   |   |--- chloramine <= 7.33\n",
      "|   |   |   |   |   |   |   |   |   |   |   |--- truncated branch of depth 2\n",
      "|   |   |   |   |   |   |   |   |   |   |--- chloramine >  7.33\n",
      "|   |   |   |   |   |   |   |   |   |   |   |--- class: 0\n",
      "|   |   |   |   |   |   |   |   |--- bacteria >  0.78\n",
      "|   |   |   |   |   |   |   |   |   |--- aluminium_zs <= -0.36\n",
      "|   |   |   |   |   |   |   |   |   |   |--- silver <= 0.43\n",
      "|   |   |   |   |   |   |   |   |   |   |   |--- truncated branch of depth 3\n",
      "|   |   |   |   |   |   |   |   |   |   |--- silver >  0.43\n",
      "|   |   |   |   |   |   |   |   |   |   |   |--- truncated branch of depth 2\n",
      "|   |   |   |   |   |   |   |   |   |--- aluminium_zs >  -0.36\n",
      "|   |   |   |   |   |   |   |   |   |   |--- chloramine <= 2.95\n",
      "|   |   |   |   |   |   |   |   |   |   |   |--- class: 0\n",
      "|   |   |   |   |   |   |   |   |   |   |--- chloramine >  2.95\n",
      "|   |   |   |   |   |   |   |   |   |   |   |--- truncated branch of depth 2\n",
      "|   |   |   |   |   |--- aluminium_zs >  -0.29\n",
      "|   |   |   |   |   |   |--- cadmium <= 0.00\n",
      "|   |   |   |   |   |   |   |--- class: 0\n",
      "|   |   |   |   |   |   |--- cadmium >  0.00\n",
      "|   |   |   |   |   |   |   |--- barium <= 2.31\n",
      "|   |   |   |   |   |   |   |   |--- barium <= 1.00\n",
      "|   |   |   |   |   |   |   |   |   |--- chromium <= 0.44\n",
      "|   |   |   |   |   |   |   |   |   |   |--- class: 0\n",
      "|   |   |   |   |   |   |   |   |   |--- chromium >  0.44\n",
      "|   |   |   |   |   |   |   |   |   |   |--- class: 1\n",
      "|   |   |   |   |   |   |   |   |--- barium >  1.00\n",
      "|   |   |   |   |   |   |   |   |   |--- class: 1\n",
      "|   |   |   |   |   |   |   |--- barium >  2.31\n",
      "|   |   |   |   |   |   |   |   |--- chloramine <= 6.26\n",
      "|   |   |   |   |   |   |   |   |   |--- chloramine <= 0.89\n",
      "|   |   |   |   |   |   |   |   |   |   |--- cadmium <= 0.01\n",
      "|   |   |   |   |   |   |   |   |   |   |   |--- class: 1\n",
      "|   |   |   |   |   |   |   |   |   |   |--- cadmium >  0.01\n",
      "|   |   |   |   |   |   |   |   |   |   |   |--- class: 0\n",
      "|   |   |   |   |   |   |   |   |   |--- chloramine >  0.89\n",
      "|   |   |   |   |   |   |   |   |   |   |--- class: 0\n",
      "|   |   |   |   |   |   |   |   |--- chloramine >  6.26\n",
      "|   |   |   |   |   |   |   |   |   |--- class: 1\n",
      "|   |   |   |--- cadmium >  0.01\n",
      "|   |   |   |   |--- class: 0\n",
      "|--- aluminium_zs >  -0.21\n",
      "|   |--- cadmium <= 0.01\n",
      "|   |   |--- arsenic_zs <= -0.20\n",
      "|   |   |   |--- aluminium_zs <= 0.04\n",
      "|   |   |   |   |--- chloramine <= 7.82\n",
      "|   |   |   |   |   |--- chloramine <= 3.35\n",
      "|   |   |   |   |   |   |--- class: 1\n",
      "|   |   |   |   |   |--- chloramine >  3.35\n",
      "|   |   |   |   |   |   |--- bacteria <= 0.15\n",
      "|   |   |   |   |   |   |   |--- silver <= 0.43\n",
      "|   |   |   |   |   |   |   |   |--- class: 1\n",
      "|   |   |   |   |   |   |   |--- silver >  0.43\n",
      "|   |   |   |   |   |   |   |   |--- chloramine <= 5.39\n",
      "|   |   |   |   |   |   |   |   |   |--- class: 0\n",
      "|   |   |   |   |   |   |   |   |--- chloramine >  5.39\n",
      "|   |   |   |   |   |   |   |   |   |--- class: 1\n",
      "|   |   |   |   |   |   |--- bacteria >  0.15\n",
      "|   |   |   |   |   |   |   |--- aluminium_zs <= -0.13\n",
      "|   |   |   |   |   |   |   |   |--- aluminium_zs <= -0.19\n",
      "|   |   |   |   |   |   |   |   |   |--- class: 1\n",
      "|   |   |   |   |   |   |   |   |--- aluminium_zs >  -0.19\n",
      "|   |   |   |   |   |   |   |   |   |--- class: 0\n",
      "|   |   |   |   |   |   |   |--- aluminium_zs >  -0.13\n",
      "|   |   |   |   |   |   |   |   |--- chloramine <= 4.40\n",
      "|   |   |   |   |   |   |   |   |   |--- class: 0\n",
      "|   |   |   |   |   |   |   |   |--- chloramine >  4.40\n",
      "|   |   |   |   |   |   |   |   |   |--- class: 1\n",
      "|   |   |   |   |--- chloramine >  7.82\n",
      "|   |   |   |   |   |--- class: 0\n",
      "|   |   |   |--- aluminium_zs >  0.04\n",
      "|   |   |   |   |--- aluminium_zs <= 0.13\n",
      "|   |   |   |   |   |--- barium <= 3.23\n",
      "|   |   |   |   |   |   |--- bacteria <= 0.39\n",
      "|   |   |   |   |   |   |   |--- barium <= 1.79\n",
      "|   |   |   |   |   |   |   |   |--- arsenic_zs <= -0.58\n",
      "|   |   |   |   |   |   |   |   |   |--- class: 0\n",
      "|   |   |   |   |   |   |   |   |--- arsenic_zs >  -0.58\n",
      "|   |   |   |   |   |   |   |   |   |--- class: 1\n",
      "|   |   |   |   |   |   |   |--- barium >  1.79\n",
      "|   |   |   |   |   |   |   |   |--- chromium <= 0.42\n",
      "|   |   |   |   |   |   |   |   |   |--- class: 0\n",
      "|   |   |   |   |   |   |   |   |--- chromium >  0.42\n",
      "|   |   |   |   |   |   |   |   |   |--- silver <= 0.26\n",
      "|   |   |   |   |   |   |   |   |   |   |--- class: 0\n",
      "|   |   |   |   |   |   |   |   |   |--- silver >  0.26\n",
      "|   |   |   |   |   |   |   |   |   |   |--- class: 1\n",
      "|   |   |   |   |   |   |--- bacteria >  0.39\n",
      "|   |   |   |   |   |   |   |--- class: 0\n",
      "|   |   |   |   |   |--- barium >  3.23\n",
      "|   |   |   |   |   |   |--- aluminium_zs <= 0.10\n",
      "|   |   |   |   |   |   |   |--- class: 1\n",
      "|   |   |   |   |   |   |--- aluminium_zs >  0.10\n",
      "|   |   |   |   |   |   |   |--- class: 0\n",
      "|   |   |   |   |--- aluminium_zs >  0.13\n",
      "|   |   |   |   |   |--- aluminium_zs <= 0.21\n",
      "|   |   |   |   |   |   |--- chromium <= 0.07\n",
      "|   |   |   |   |   |   |   |--- chloramine <= 5.13\n",
      "|   |   |   |   |   |   |   |   |--- class: 1\n",
      "|   |   |   |   |   |   |   |--- chloramine >  5.13\n",
      "|   |   |   |   |   |   |   |   |--- class: 0\n",
      "|   |   |   |   |   |   |--- chromium >  0.07\n",
      "|   |   |   |   |   |   |   |--- class: 1\n",
      "|   |   |   |   |   |--- aluminium_zs >  0.21\n",
      "|   |   |   |   |   |   |--- viruses <= 0.61\n",
      "|   |   |   |   |   |   |   |--- bacteria <= 0.27\n",
      "|   |   |   |   |   |   |   |   |--- bacteria <= 0.25\n",
      "|   |   |   |   |   |   |   |   |   |--- barium <= 3.70\n",
      "|   |   |   |   |   |   |   |   |   |   |--- barium <= 3.64\n",
      "|   |   |   |   |   |   |   |   |   |   |   |--- truncated branch of depth 12\n",
      "|   |   |   |   |   |   |   |   |   |   |--- barium >  3.64\n",
      "|   |   |   |   |   |   |   |   |   |   |   |--- truncated branch of depth 2\n",
      "|   |   |   |   |   |   |   |   |   |--- barium >  3.70\n",
      "|   |   |   |   |   |   |   |   |   |   |--- barium <= 3.83\n",
      "|   |   |   |   |   |   |   |   |   |   |   |--- class: 1\n",
      "|   |   |   |   |   |   |   |   |   |   |--- barium >  3.83\n",
      "|   |   |   |   |   |   |   |   |   |   |   |--- truncated branch of depth 4\n",
      "|   |   |   |   |   |   |   |   |--- bacteria >  0.25\n",
      "|   |   |   |   |   |   |   |   |   |--- cadmium <= 0.01\n",
      "|   |   |   |   |   |   |   |   |   |   |--- class: 0\n",
      "|   |   |   |   |   |   |   |   |   |--- cadmium >  0.01\n",
      "|   |   |   |   |   |   |   |   |   |   |--- class: 1\n",
      "|   |   |   |   |   |   |   |--- bacteria >  0.27\n",
      "|   |   |   |   |   |   |   |   |--- chromium <= 0.86\n",
      "|   |   |   |   |   |   |   |   |   |--- uranium <= 0.03\n",
      "|   |   |   |   |   |   |   |   |   |   |--- bacteria <= 0.37\n",
      "|   |   |   |   |   |   |   |   |   |   |   |--- class: 1\n",
      "|   |   |   |   |   |   |   |   |   |   |--- bacteria >  0.37\n",
      "|   |   |   |   |   |   |   |   |   |   |   |--- truncated branch of depth 8\n",
      "|   |   |   |   |   |   |   |   |   |--- uranium >  0.03\n",
      "|   |   |   |   |   |   |   |   |   |   |--- aluminium_zs <= 0.29\n",
      "|   |   |   |   |   |   |   |   |   |   |   |--- class: 0\n",
      "|   |   |   |   |   |   |   |   |   |   |--- aluminium_zs >  0.29\n",
      "|   |   |   |   |   |   |   |   |   |   |   |--- truncated branch of depth 5\n",
      "|   |   |   |   |   |   |   |   |--- chromium >  0.86\n",
      "|   |   |   |   |   |   |   |   |   |--- barium <= 1.55\n",
      "|   |   |   |   |   |   |   |   |   |   |--- class: 1\n",
      "|   |   |   |   |   |   |   |   |   |--- barium >  1.55\n",
      "|   |   |   |   |   |   |   |   |   |   |--- class: 0\n",
      "|   |   |   |   |   |   |--- viruses >  0.61\n",
      "|   |   |   |   |   |   |   |--- chloramine <= 4.20\n",
      "|   |   |   |   |   |   |   |   |--- uranium <= 0.00\n",
      "|   |   |   |   |   |   |   |   |   |--- class: 1\n",
      "|   |   |   |   |   |   |   |   |--- uranium >  0.00\n",
      "|   |   |   |   |   |   |   |   |   |--- aluminium_zs <= 0.79\n",
      "|   |   |   |   |   |   |   |   |   |   |--- viruses <= 0.87\n",
      "|   |   |   |   |   |   |   |   |   |   |   |--- class: 1\n",
      "|   |   |   |   |   |   |   |   |   |   |--- viruses >  0.87\n",
      "|   |   |   |   |   |   |   |   |   |   |   |--- truncated branch of depth 2\n",
      "|   |   |   |   |   |   |   |   |   |--- aluminium_zs >  0.79\n",
      "|   |   |   |   |   |   |   |   |   |   |--- uranium <= 0.07\n",
      "|   |   |   |   |   |   |   |   |   |   |   |--- truncated branch of depth 8\n",
      "|   |   |   |   |   |   |   |   |   |   |--- uranium >  0.07\n",
      "|   |   |   |   |   |   |   |   |   |   |   |--- truncated branch of depth 4\n",
      "|   |   |   |   |   |   |   |--- chloramine >  4.20\n",
      "|   |   |   |   |   |   |   |   |--- chloramine <= 6.20\n",
      "|   |   |   |   |   |   |   |   |   |--- barium <= 3.33\n",
      "|   |   |   |   |   |   |   |   |   |   |--- chromium <= 0.71\n",
      "|   |   |   |   |   |   |   |   |   |   |   |--- truncated branch of depth 3\n",
      "|   |   |   |   |   |   |   |   |   |   |--- chromium >  0.71\n",
      "|   |   |   |   |   |   |   |   |   |   |   |--- truncated branch of depth 3\n",
      "|   |   |   |   |   |   |   |   |   |--- barium >  3.33\n",
      "|   |   |   |   |   |   |   |   |   |   |--- uranium <= 0.04\n",
      "|   |   |   |   |   |   |   |   |   |   |   |--- class: 0\n",
      "|   |   |   |   |   |   |   |   |   |   |--- uranium >  0.04\n",
      "|   |   |   |   |   |   |   |   |   |   |   |--- truncated branch of depth 2\n",
      "|   |   |   |   |   |   |   |   |--- chloramine >  6.20\n",
      "|   |   |   |   |   |   |   |   |   |--- uranium <= 0.06\n",
      "|   |   |   |   |   |   |   |   |   |   |--- chromium <= 0.30\n",
      "|   |   |   |   |   |   |   |   |   |   |   |--- truncated branch of depth 3\n",
      "|   |   |   |   |   |   |   |   |   |   |--- chromium >  0.30\n",
      "|   |   |   |   |   |   |   |   |   |   |   |--- truncated branch of depth 4\n",
      "|   |   |   |   |   |   |   |   |   |--- uranium >  0.06\n",
      "|   |   |   |   |   |   |   |   |   |   |--- aluminium_zs <= 0.43\n",
      "|   |   |   |   |   |   |   |   |   |   |   |--- class: 1\n",
      "|   |   |   |   |   |   |   |   |   |   |--- aluminium_zs >  0.43\n",
      "|   |   |   |   |   |   |   |   |   |   |   |--- class: 0\n",
      "|   |   |--- arsenic_zs >  -0.20\n",
      "|   |   |   |--- class: 0\n",
      "|   |--- cadmium >  0.01\n",
      "|   |   |--- silver <= 0.11\n",
      "|   |   |   |--- uranium <= 0.02\n",
      "|   |   |   |   |--- chloramine <= 6.53\n",
      "|   |   |   |   |   |--- arsenic_zs <= -0.16\n",
      "|   |   |   |   |   |   |--- viruses <= 0.00\n",
      "|   |   |   |   |   |   |   |--- class: 0\n",
      "|   |   |   |   |   |   |--- viruses >  0.00\n",
      "|   |   |   |   |   |   |   |--- class: 1\n",
      "|   |   |   |   |   |--- arsenic_zs >  -0.16\n",
      "|   |   |   |   |   |   |--- chromium <= 0.45\n",
      "|   |   |   |   |   |   |   |--- chloramine <= 2.12\n",
      "|   |   |   |   |   |   |   |   |--- arsenic_zs <= 1.28\n",
      "|   |   |   |   |   |   |   |   |   |--- uranium <= 0.01\n",
      "|   |   |   |   |   |   |   |   |   |   |--- class: 0\n",
      "|   |   |   |   |   |   |   |   |   |--- uranium >  0.01\n",
      "|   |   |   |   |   |   |   |   |   |   |--- class: 1\n",
      "|   |   |   |   |   |   |   |   |--- arsenic_zs >  1.28\n",
      "|   |   |   |   |   |   |   |   |   |--- class: 0\n",
      "|   |   |   |   |   |   |   |--- chloramine >  2.12\n",
      "|   |   |   |   |   |   |   |   |--- bacteria <= 0.18\n",
      "|   |   |   |   |   |   |   |   |   |--- class: 1\n",
      "|   |   |   |   |   |   |   |   |--- bacteria >  0.18\n",
      "|   |   |   |   |   |   |   |   |   |--- silver <= 0.06\n",
      "|   |   |   |   |   |   |   |   |   |   |--- class: 1\n",
      "|   |   |   |   |   |   |   |   |   |--- silver >  0.06\n",
      "|   |   |   |   |   |   |   |   |   |   |--- viruses <= 0.01\n",
      "|   |   |   |   |   |   |   |   |   |   |   |--- class: 1\n",
      "|   |   |   |   |   |   |   |   |   |   |--- viruses >  0.01\n",
      "|   |   |   |   |   |   |   |   |   |   |   |--- class: 0\n",
      "|   |   |   |   |   |   |--- chromium >  0.45\n",
      "|   |   |   |   |   |   |   |--- class: 1\n",
      "|   |   |   |   |--- chloramine >  6.53\n",
      "|   |   |   |   |   |--- viruses <= 0.71\n",
      "|   |   |   |   |   |   |--- arsenic_zs <= 0.09\n",
      "|   |   |   |   |   |   |   |--- class: 1\n",
      "|   |   |   |   |   |   |--- arsenic_zs >  0.09\n",
      "|   |   |   |   |   |   |   |--- class: 0\n",
      "|   |   |   |   |   |--- viruses >  0.71\n",
      "|   |   |   |   |   |   |--- class: 1\n",
      "|   |   |   |--- uranium >  0.02\n",
      "|   |   |   |   |--- uranium <= 0.03\n",
      "|   |   |   |   |   |--- barium <= 4.06\n",
      "|   |   |   |   |   |   |--- chloramine <= 2.77\n",
      "|   |   |   |   |   |   |   |--- silver <= 0.02\n",
      "|   |   |   |   |   |   |   |   |--- class: 0\n",
      "|   |   |   |   |   |   |   |--- silver >  0.02\n",
      "|   |   |   |   |   |   |   |   |--- class: 1\n",
      "|   |   |   |   |   |   |--- chloramine >  2.77\n",
      "|   |   |   |   |   |   |   |--- class: 0\n",
      "|   |   |   |   |   |--- barium >  4.06\n",
      "|   |   |   |   |   |   |--- class: 1\n",
      "|   |   |   |   |--- uranium >  0.03\n",
      "|   |   |   |   |   |--- class: 0\n",
      "|   |   |--- silver >  0.11\n",
      "|   |   |   |--- class: 0\n",
      "\n"
     ]
    }
   ],
   "source": [
    "skema_tree=export_text(clf,feature_names=['aluminium_zs','cadmium','chloramine','chromium','arsenic_zs','silver','viruses','barium','uranium','bacteria'])\n",
    "print(skema_tree)"
   ]
  },
  {
   "cell_type": "code",
   "execution_count": 157,
   "id": "bbcabcbe",
   "metadata": {},
   "outputs": [
    {
     "data": {
      "image/png": "[encoded data removed]",
      "text/plain": [
       "<Figure size 1000x800 with 1 Axes>"
      ]
     },
     "metadata": {},
     "output_type": "display_data"
    }
   ],
   "source": [
    "#Plot Node Decision Tree\n",
    "plt.figure(figsize=(10,8)) #set ukuran plot\n",
    "plot_tree(clf, #menampilkan plot decision tree\n",
    "         feature_names=['aluminium_zs','cadmium','chloramine','chromium','arsenic_zs','silver','viruses','barium','uranium','bacteria'], #nama variabel senagai node\n",
    "         class_names=['safe for drinking','not safe for drinking'], #kategori hasil klasifikasi\n",
    "         rounded=True, #membulatkan angka yang menjadi batas keputusan\n",
    "         filled=True, #menambahkan warna pada setiap variabel\n",
    "         proportion=True); #menampilkan proporsi"
   ]
  },
  {
   "cell_type": "code",
   "execution_count": 158,
   "id": "fab401ce",
   "metadata": {},
   "outputs": [],
   "source": [
    "from six import StringIO\n",
    "from IPython.display import Image\n",
    "from sklearn.tree import export_graphviz\n",
    "\n",
    "#Import Plot sebagai Gambar\n",
    "feature_cols=['aluminium_zs','cadmium','chloramine','chromium','arsenic_zs','silver','viruses','barium','uranium','bacteria']\n",
    "export_graphviz(clf,out_file='.tree_png',\n",
    "               filled=True,rounded=True,\n",
    "               special_characters=True,feature_names=feature_cols,class_names=['yes','no'])"
   ]
  },
  {
   "cell_type": "code",
   "execution_count": 159,
   "id": "123031b8",
   "metadata": {},
   "outputs": [
    {
     "data": {
      "text/html": [
       "<div>\n",
       "<style scoped>\n",
       "    .dataframe tbody tr th:only-of-type {\n",
       "        vertical-align: middle;\n",
       "    }\n",
       "\n",
       "    .dataframe tbody tr th {\n",
       "        vertical-align: top;\n",
       "    }\n",
       "\n",
       "    .dataframe thead th {\n",
       "        text-align: right;\n",
       "    }\n",
       "</style>\n",
       "<table border=\"1\" class=\"dataframe\">\n",
       "  <thead>\n",
       "    <tr style=\"text-align: right;\">\n",
       "      <th></th>\n",
       "      <th>1</th>\n",
       "      <th>0</th>\n",
       "    </tr>\n",
       "  </thead>\n",
       "  <tbody>\n",
       "    <tr>\n",
       "      <th>1</th>\n",
       "      <td>1329</td>\n",
       "      <td>91</td>\n",
       "    </tr>\n",
       "    <tr>\n",
       "      <th>0</th>\n",
       "      <td>81</td>\n",
       "      <td>99</td>\n",
       "    </tr>\n",
       "  </tbody>\n",
       "</table>\n",
       "</div>"
      ],
      "text/plain": [
       "      1   0\n",
       "1  1329  91\n",
       "0    81  99"
      ]
     },
     "execution_count": 159,
     "metadata": {},
     "output_type": "execute_result"
    }
   ],
   "source": [
    "#Membuat matriks konfusi\n",
    "y_predtree2={} #membuat tempat untuk menyimpan y_predict\n",
    "y_predtree2['klasifikasi_tree']=clf.predict(x_testtree) #menyimpan hasil prediksi klasifikasi x_test decision tree\n",
    "\n",
    "conf_matrix={} #membuat tempat untuk menyimpan elemen matriks konfusi\n",
    "classif_name={'klasifikasi_tree'} #mengambil elemen dengan nama 'klasifikasi_tree'\n",
    "for name in classif_name: #membuat matriks konfusi dari data y_testtree dan y_preditree\n",
    "    conf_matrix[name]=pd.DataFrame(data=confusion_matrix(y_testtree,y_predtree2[name]),\n",
    "                                  columns=dt['is_safe'].unique(),\n",
    "                                  index=dt['is_safe'].unique())\n",
    "conf_matrix['klasifikasi_tree']"
   ]
  },
  {
   "cell_type": "code",
   "execution_count": 160,
   "id": "96b9fe74",
   "metadata": {},
   "outputs": [
    {
     "data": {
      "image/png": "[encoded data removed]",
      "text/plain": [
       "<Figure size 640x480 with 2 Axes>"
      ]
     },
     "metadata": {},
     "output_type": "display_data"
    }
   ],
   "source": [
    "#Membuat heatmap matriks konfusi decision tree\n",
    "sns.heatmap(conf_matrix['klasifikasi_tree'],annot=True,cmap='GnBu',fmt='.4g').set(ylabel='True Label',xlabel='Predict Label')\n",
    "plt.show()"
   ]
  },
  {
   "cell_type": "code",
   "execution_count": 161,
   "id": "75af9bab",
   "metadata": {},
   "outputs": [
    {
     "data": {
      "text/plain": [
       "array([[1329,   91],\n",
       "       [  81,   99]], dtype=int64)"
      ]
     },
     "execution_count": 161,
     "metadata": {},
     "output_type": "execute_result"
    }
   ],
   "source": [
    "conf_matrixtree = confusion_matrix(y_testtree, y_predtree)\n",
    "conf_matrixtree"
   ]
  },
  {
   "cell_type": "code",
   "execution_count": 162,
   "id": "be0c3494",
   "metadata": {},
   "outputs": [
    {
     "name": "stderr",
     "output_type": "stream",
     "text": [
      "C:\\Users\\Rania Yunaningrum\\anaconda3\\lib\\site-packages\\sklearn\\metrics\\_classification.py:1370: UserWarning: Note that pos_label (set to 0) is ignored when average != 'binary' (got None). You may use labels=[pos_label] to specify a single positive class.\n",
      "  warnings.warn(\n",
      "C:\\Users\\Rania Yunaningrum\\anaconda3\\lib\\site-packages\\sklearn\\metrics\\_classification.py:1370: UserWarning: Note that pos_label (set to 0) is ignored when average != 'binary' (got None). You may use labels=[pos_label] to specify a single positive class.\n",
      "  warnings.warn(\n"
     ]
    },
    {
     "ename": "TypeError",
     "evalue": "'numpy.float64' object is not callable",
     "output_type": "error",
     "traceback": [
      "\u001b[1;31m---------------------------------------------------------------------------\u001b[0m",
      "\u001b[1;31mTypeError\u001b[0m                                 Traceback (most recent call last)",
      "\u001b[1;32m~\\AppData\\Local\\Temp\\ipykernel_7840\\1537569551.py\u001b[0m in \u001b[0;36m<module>\u001b[1;34m\u001b[0m\n\u001b[0;32m      4\u001b[0m \u001b[0msensitivitas\u001b[0m \u001b[1;33m=\u001b[0m \u001b[0mconf_matrixtree\u001b[0m\u001b[1;33m[\u001b[0m\u001b[1;36m0\u001b[0m\u001b[1;33m,\u001b[0m\u001b[1;36m0\u001b[0m\u001b[1;33m]\u001b[0m\u001b[1;33m/\u001b[0m\u001b[1;33m(\u001b[0m\u001b[0mconf_matrixtree\u001b[0m\u001b[1;33m[\u001b[0m\u001b[1;36m0\u001b[0m\u001b[1;33m,\u001b[0m\u001b[1;36m0\u001b[0m\u001b[1;33m]\u001b[0m\u001b[1;33m+\u001b[0m\u001b[0mconf_matrixtree\u001b[0m\u001b[1;33m[\u001b[0m\u001b[1;36m0\u001b[0m\u001b[1;33m,\u001b[0m\u001b[1;36m1\u001b[0m\u001b[1;33m]\u001b[0m\u001b[1;33m)\u001b[0m\u001b[1;33m\u001b[0m\u001b[1;33m\u001b[0m\u001b[0m\n\u001b[0;32m      5\u001b[0m \u001b[0mspesifitas\u001b[0m \u001b[1;33m=\u001b[0m \u001b[0mconf_matrixtree\u001b[0m\u001b[1;33m[\u001b[0m\u001b[1;36m1\u001b[0m\u001b[1;33m,\u001b[0m\u001b[1;36m1\u001b[0m\u001b[1;33m]\u001b[0m\u001b[1;33m/\u001b[0m\u001b[1;33m(\u001b[0m\u001b[0mconf_matrixtree\u001b[0m\u001b[1;33m[\u001b[0m\u001b[1;36m1\u001b[0m\u001b[1;33m,\u001b[0m\u001b[1;36m0\u001b[0m\u001b[1;33m]\u001b[0m\u001b[1;33m+\u001b[0m\u001b[0mconf_matrixtree\u001b[0m\u001b[1;33m[\u001b[0m\u001b[1;36m1\u001b[0m\u001b[1;33m,\u001b[0m\u001b[1;36m1\u001b[0m\u001b[1;33m]\u001b[0m\u001b[1;33m)\u001b[0m\u001b[1;33m\u001b[0m\u001b[1;33m\u001b[0m\u001b[0m\n\u001b[1;32m----> 6\u001b[1;33m \u001b[0mf1_score\u001b[0m \u001b[1;33m=\u001b[0m \u001b[0mf1_score\u001b[0m\u001b[1;33m(\u001b[0m\u001b[0my_testtree\u001b[0m\u001b[1;33m,\u001b[0m\u001b[0my_predtree\u001b[0m\u001b[1;33m)\u001b[0m\u001b[1;33m\u001b[0m\u001b[1;33m\u001b[0m\u001b[0m\n\u001b[0m\u001b[0;32m      7\u001b[0m \u001b[0mprint\u001b[0m\u001b[1;33m(\u001b[0m\u001b[1;34m'Akurasi'\u001b[0m\u001b[1;33m,\u001b[0m \u001b[0makurasi\u001b[0m\u001b[1;33m)\u001b[0m\u001b[1;33m\u001b[0m\u001b[1;33m\u001b[0m\u001b[0m\n\u001b[0;32m      8\u001b[0m \u001b[0mprint\u001b[0m\u001b[1;33m(\u001b[0m\u001b[1;34m'Presisi'\u001b[0m\u001b[1;33m,\u001b[0m\u001b[0mpresisi\u001b[0m\u001b[1;33m)\u001b[0m\u001b[1;33m\u001b[0m\u001b[1;33m\u001b[0m\u001b[0m\n",
      "\u001b[1;31mTypeError\u001b[0m: 'numpy.float64' object is not callable"
     ]
    }
   ],
   "source": [
    "akurasi = accuracy_score(y_testtree,y_predtree)\n",
    "presisi = precision_score(y_testtree,y_predtree, pos_label = 0, average = None)\n",
    "recalls = recall_score(y_testtree,y_predtree,pos_label = 0, average = None)\n",
    "sensitivitas = conf_matrixtree[0,0]/(conf_matrixtree[0,0]+conf_matrixtree[0,1])\n",
    "spesifitas = conf_matrixtree[1,1]/(conf_matrixtree[1,0]+conf_matrixtree[1,1])\n",
    "f1_score = f1_score(y_testtree,y_predtree)\n",
    "print('Akurasi', akurasi)\n",
    "print('Presisi',presisi)\n",
    "print('Recalls',recalls)\n",
    "print('Sensitivitas',sensitivitas)\n",
    "print('Spesifitas',spesifitas)\n",
    "print('F1 score',f1_score)"
   ]
  },
  {
   "cell_type": "code",
   "execution_count": null,
   "id": "cde4a3a4",
   "metadata": {},
   "outputs": [],
   "source": [
    "#Model Akurasi\n",
    "print('Akurasi Metode Decision Tree:',metrics.accuracy_score(y_testtree,y_predtree))"
   ]
  },
  {
   "cell_type": "markdown",
   "id": "534f5011",
   "metadata": {},
   "source": [
    "# Naive Bayes"
   ]
  },
  {
   "cell_type": "code",
   "execution_count": 163,
   "id": "54f534d1",
   "metadata": {},
   "outputs": [],
   "source": [
    "#Variabel yang digunakan untuk Naive Bayes\n",
    "yb=dt['is_safe']\n",
    "xb=dt.loc[:,['aluminium_zs','cadmium','chloramine','chromium','arsenic_zs','silver','viruses','barium','uranium','bacteria']]"
   ]
  },
  {
   "cell_type": "code",
   "execution_count": 164,
   "id": "1eec0579",
   "metadata": {},
   "outputs": [],
   "source": [
    "from sklearn.naive_bayes import GaussianNB\n",
    "from sklearn.metrics import confusion_matrix, accuracy_score\n",
    "import scipy.stats as stats"
   ]
  },
  {
   "cell_type": "code",
   "execution_count": 165,
   "id": "3b14d90e",
   "metadata": {},
   "outputs": [
    {
     "name": "stdout",
     "output_type": "stream",
     "text": [
      "Test statistics =  181299.29497 P-value =  0.0\n"
     ]
    }
   ],
   "source": [
    "#Uji Independensi Variabel (Uji Bartlett)\n",
    "test_statistic, p_value = stats.bartlett(xb['aluminium_zs'],xb['cadmium'],xb['chloramine'],xb['chromium'],xb['arsenic_zs'],xb['silver'],xb['viruses'],xb['barium'],xb['uranium'],xb['bacteria']) #uji bartlet\n",
    "print('Test statistics = ',round(test_statistic,5), 'P-value = ',round(p_value,5)) #menampilkan statistik dan p-value"
   ]
  },
  {
   "cell_type": "code",
   "execution_count": 166,
   "id": "8e574a44",
   "metadata": {},
   "outputs": [
    {
     "data": {
      "text/plain": [
       "{'klasifikasi_naivebayes': array([0, 1, 0, ..., 0, 0, 0], dtype=int64)}"
      ]
     },
     "execution_count": 166,
     "metadata": {},
     "output_type": "execute_result"
    }
   ],
   "source": [
    "#Pemodelan Naive Bayes\n",
    "x_trainnb, x_testnb, y_trainnb, y_testnb = train_test_split(xb,yb,test_size=0.20,random_state=100) # 80% data untuk training, 20% testing\n",
    "nb=GaussianNB() #fungsi untuk menjalankan algoritma Naive Bayes\n",
    "nb.fit(x_trainnb,y_trainnb) #mengklasifikasikan y berdasarkan variabel x menggunakan metode Naive Bayes\n",
    "\n",
    "y_predictnb={} #membuat tempat untuk menyimpan y_predict\n",
    "y_predictnb['klasifikasi_naivebayes']=nb.predict(x_testnb) #menyimpan hasil prediksi klasifikasi x_test Naive Bayes\n",
    "y_predictnb"
   ]
  },
  {
   "cell_type": "code",
   "execution_count": 167,
   "id": "e21e7b90",
   "metadata": {},
   "outputs": [
    {
     "data": {
      "text/html": [
       "<div>\n",
       "<style scoped>\n",
       "    .dataframe tbody tr th:only-of-type {\n",
       "        vertical-align: middle;\n",
       "    }\n",
       "\n",
       "    .dataframe tbody tr th {\n",
       "        vertical-align: top;\n",
       "    }\n",
       "\n",
       "    .dataframe thead th {\n",
       "        text-align: right;\n",
       "    }\n",
       "</style>\n",
       "<table border=\"1\" class=\"dataframe\">\n",
       "  <thead>\n",
       "    <tr style=\"text-align: right;\">\n",
       "      <th></th>\n",
       "      <th>1</th>\n",
       "      <th>0</th>\n",
       "    </tr>\n",
       "  </thead>\n",
       "  <tbody>\n",
       "    <tr>\n",
       "      <th>1</th>\n",
       "      <td>1292</td>\n",
       "      <td>128</td>\n",
       "    </tr>\n",
       "    <tr>\n",
       "      <th>0</th>\n",
       "      <td>90</td>\n",
       "      <td>90</td>\n",
       "    </tr>\n",
       "  </tbody>\n",
       "</table>\n",
       "</div>"
      ],
      "text/plain": [
       "      1    0\n",
       "1  1292  128\n",
       "0    90   90"
      ]
     },
     "execution_count": 167,
     "metadata": {},
     "output_type": "execute_result"
    }
   ],
   "source": [
    "#Membuat matriks konfusi\n",
    "conf_matrix={} #membuat tempat untuk menyimpan elemen matriks konfusi\n",
    "classif_name={'klasifikasi_naivebayes'} #mengambil elemen dengan nama 'prediksi klasifikasi'\n",
    "for name in classif_name: #membuat matriks konfusi dari data y_testnb dan y_predictnb\n",
    "    conf_matrix[name]=pd.DataFrame(data=confusion_matrix(y_testnb,y_predictnb[name]),\n",
    "                                  columns=dt['is_safe'].unique(),\n",
    "                                  index=dt['is_safe'].unique())\n",
    "conf_matrix['klasifikasi_naivebayes']"
   ]
  },
  {
   "cell_type": "code",
   "execution_count": 168,
   "id": "3c28a545",
   "metadata": {},
   "outputs": [
    {
     "data": {
      "image/png": "[encoded data removed]",
      "text/plain": [
       "<Figure size 640x480 with 2 Axes>"
      ]
     },
     "metadata": {},
     "output_type": "display_data"
    }
   ],
   "source": [
    "#Membuat heatmap matriks konfusi\n",
    "sns.heatmap(conf_matrix['klasifikasi_naivebayes'],annot=True,cmap='GnBu',fmt='.4g').set(ylabel='True Label',xlabel='Predict Label')\n",
    "plt.show()"
   ]
  },
  {
   "cell_type": "code",
   "execution_count": 169,
   "id": "4b00f2c5",
   "metadata": {},
   "outputs": [
    {
     "data": {
      "text/plain": [
       "array([[0.99710079, 0.00289921],\n",
       "       [0.15894486, 0.84105514],\n",
       "       [0.99395824, 0.00604176],\n",
       "       ...,\n",
       "       [0.99526728, 0.00473272],\n",
       "       [0.98821228, 0.01178772],\n",
       "       [0.97663296, 0.02336704]])"
      ]
     },
     "execution_count": 169,
     "metadata": {},
     "output_type": "execute_result"
    }
   ],
   "source": [
    "#Hasil Peluang Klasifikasi Naive Bayes tiap observasi\n",
    "nb.predict_proba(x_testnb)"
   ]
  },
  {
   "cell_type": "code",
   "execution_count": 170,
   "id": "6d6546a7",
   "metadata": {},
   "outputs": [
    {
     "data": {
      "text/plain": [
       "array([[1292,  128],\n",
       "       [  90,   90]], dtype=int64)"
      ]
     },
     "execution_count": 170,
     "metadata": {},
     "output_type": "execute_result"
    }
   ],
   "source": [
    "y_predictnb2 = nb.predict(x_testnb)\n",
    "conf_matrixnb = confusion_matrix(y_testnb, y_predictnb2)\n",
    "conf_matrixnb"
   ]
  },
  {
   "cell_type": "code",
   "execution_count": 189,
   "id": "b96dd1e4",
   "metadata": {},
   "outputs": [
    {
     "name": "stderr",
     "output_type": "stream",
     "text": [
      "C:\\Users\\Rania Yunaningrum\\anaconda3\\lib\\site-packages\\sklearn\\metrics\\_classification.py:1370: UserWarning: Note that pos_label (set to 0) is ignored when average != 'binary' (got None). You may use labels=[pos_label] to specify a single positive class.\n",
      "  warnings.warn(\n",
      "C:\\Users\\Rania Yunaningrum\\anaconda3\\lib\\site-packages\\sklearn\\metrics\\_classification.py:1370: UserWarning: Note that pos_label (set to 0) is ignored when average != 'binary' (got None). You may use labels=[pos_label] to specify a single positive class.\n",
      "  warnings.warn(\n"
     ]
    },
    {
     "ename": "TypeError",
     "evalue": "'numpy.float64' object is not callable",
     "output_type": "error",
     "traceback": [
      "\u001b[1;31m---------------------------------------------------------------------------\u001b[0m",
      "\u001b[1;31mTypeError\u001b[0m                                 Traceback (most recent call last)",
      "\u001b[1;32m~\\AppData\\Local\\Temp\\ipykernel_7840\\1118823703.py\u001b[0m in \u001b[0;36m<module>\u001b[1;34m\u001b[0m\n\u001b[0;32m      4\u001b[0m \u001b[0msensitivitas\u001b[0m \u001b[1;33m=\u001b[0m \u001b[0mconf_matrixnb\u001b[0m\u001b[1;33m[\u001b[0m\u001b[1;36m0\u001b[0m\u001b[1;33m,\u001b[0m\u001b[1;36m0\u001b[0m\u001b[1;33m]\u001b[0m\u001b[1;33m/\u001b[0m\u001b[1;33m(\u001b[0m\u001b[0mconf_matrixnb\u001b[0m\u001b[1;33m[\u001b[0m\u001b[1;36m0\u001b[0m\u001b[1;33m,\u001b[0m\u001b[1;36m0\u001b[0m\u001b[1;33m]\u001b[0m\u001b[1;33m+\u001b[0m\u001b[0mconf_matrixnb\u001b[0m\u001b[1;33m[\u001b[0m\u001b[1;36m0\u001b[0m\u001b[1;33m,\u001b[0m\u001b[1;36m1\u001b[0m\u001b[1;33m]\u001b[0m\u001b[1;33m)\u001b[0m\u001b[1;33m\u001b[0m\u001b[1;33m\u001b[0m\u001b[0m\n\u001b[0;32m      5\u001b[0m \u001b[0mspesifitas\u001b[0m \u001b[1;33m=\u001b[0m \u001b[0mconf_matrixnb\u001b[0m\u001b[1;33m[\u001b[0m\u001b[1;36m1\u001b[0m\u001b[1;33m,\u001b[0m\u001b[1;36m1\u001b[0m\u001b[1;33m]\u001b[0m\u001b[1;33m/\u001b[0m\u001b[1;33m(\u001b[0m\u001b[0mconf_matrixnb\u001b[0m\u001b[1;33m[\u001b[0m\u001b[1;36m1\u001b[0m\u001b[1;33m,\u001b[0m\u001b[1;36m0\u001b[0m\u001b[1;33m]\u001b[0m\u001b[1;33m+\u001b[0m\u001b[0mconf_matrixnb\u001b[0m\u001b[1;33m[\u001b[0m\u001b[1;36m1\u001b[0m\u001b[1;33m,\u001b[0m\u001b[1;36m1\u001b[0m\u001b[1;33m]\u001b[0m\u001b[1;33m)\u001b[0m\u001b[1;33m\u001b[0m\u001b[1;33m\u001b[0m\u001b[0m\n\u001b[1;32m----> 6\u001b[1;33m \u001b[0mf1_score\u001b[0m \u001b[1;33m=\u001b[0m \u001b[0mf1_score\u001b[0m\u001b[1;33m(\u001b[0m\u001b[0my_testnb\u001b[0m\u001b[1;33m,\u001b[0m\u001b[0my_predictnb2\u001b[0m\u001b[1;33m)\u001b[0m\u001b[1;33m\u001b[0m\u001b[1;33m\u001b[0m\u001b[0m\n\u001b[0m\u001b[0;32m      7\u001b[0m \u001b[0mprint\u001b[0m\u001b[1;33m(\u001b[0m\u001b[1;34m'Akurasi'\u001b[0m\u001b[1;33m,\u001b[0m \u001b[0makurasi\u001b[0m\u001b[1;33m)\u001b[0m\u001b[1;33m\u001b[0m\u001b[1;33m\u001b[0m\u001b[0m\n\u001b[0;32m      8\u001b[0m \u001b[0mprint\u001b[0m\u001b[1;33m(\u001b[0m\u001b[1;34m'Presisi'\u001b[0m\u001b[1;33m,\u001b[0m\u001b[0mpresisi\u001b[0m\u001b[1;33m)\u001b[0m\u001b[1;33m\u001b[0m\u001b[1;33m\u001b[0m\u001b[0m\n",
      "\u001b[1;31mTypeError\u001b[0m: 'numpy.float64' object is not callable"
     ]
    }
   ],
   "source": [
    "akurasi = accuracy_score(y_testnb,y_predictnb2)\n",
    "presisi = precision_score(y_testnb,y_predictnb2, pos_label = 0, average = None)\n",
    "recalls = recall_score(y_testnb,y_predictnb2,pos_label = 0, average = None)\n",
    "sensitivitas = conf_matrixnb[0,0]/(conf_matrixnb[0,0]+conf_matrixnb[0,1])\n",
    "spesifitas = conf_matrixnb[1,1]/(conf_matrixnb[1,0]+conf_matrixnb[1,1])\n",
    "f1_score = f1_score(y_testnb,y_predictnb2)\n",
    "print('Akurasi', akurasi)\n",
    "print('Presisi',presisi)\n",
    "print('Recalls',recalls)\n",
    "print('Sensitivitas',sensitivitas)\n",
    "print('Spesifitas',spesifitas)\n",
    "print('F1 score',f1_score)"
   ]
  },
  {
   "cell_type": "code",
   "execution_count": null,
   "id": "bf86c99c",
   "metadata": {},
   "outputs": [],
   "source": [
    "#Model Akurasi\n",
    "print('Akurasi Metode Naive Bayes:',metrics.accuracy_score(y_testnb,nb.predict(x_testnb)))"
   ]
  }
 ],
 "metadata": {
  "kernelspec": {
   "display_name": "Python 3 (ipykernel)",
   "language": "python",
   "name": "python3"
  },
  "language_info": {
   "codemirror_mode": {
    "name": "ipython",
    "version": 3
   },
   "file_extension": ".py",
   "mimetype": "text/x-python",
   "name": "python",
   "nbconvert_exporter": "python",
   "pygments_lexer": "ipython3",
   "version": "3.9.13"
  }
 },
 "nbformat": 4,
 "nbformat_minor": 5
}
